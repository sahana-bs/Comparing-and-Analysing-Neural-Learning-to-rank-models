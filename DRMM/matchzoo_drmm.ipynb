{
  "nbformat": 4,
  "nbformat_minor": 0,
  "metadata": {
    "colab": {
      "name": "matchzoo-drmm.ipynb",
      "provenance": [],
      "collapsed_sections": []
    },
    "kernelspec": {
      "name": "python3",
      "display_name": "Python 3"
    },
    "language_info": {
      "name": "python"
    }
  },
  "cells": [
    {
      "cell_type": "code",
      "metadata": {
        "id": "VccvFCyoLd8S"
      },
      "source": [
        "'''\n",
        "keras: 2.3.1\n",
        "tensorflow: 2.1.0\n",
        "h5py: 2.10.0\n",
        "'''\n",
        "!pip install 'keras==2.3.1' --force-reinstall"
      ],
      "execution_count": null,
      "outputs": []
    },
    {
      "cell_type": "code",
      "metadata": {
        "id": "0uCP25hPLwua"
      },
      "source": [
        "!pip install 'tensorflow==2.1.0' --force-reinstall"
      ],
      "execution_count": null,
      "outputs": []
    },
    {
      "cell_type": "code",
      "metadata": {
        "id": "bw_AzFd7k-Aj"
      },
      "source": [
        "#we also need to downgrade h5py to prevent this: https://github.com/tensorflow/tensorflow/issues/44467\n",
        "!pip install 'h5py==2.10.0' --force-reinstall\n",
        "\n",
        "#restart runtime"
      ],
      "execution_count": null,
      "outputs": []
    },
    {
      "cell_type": "code",
      "metadata": {
        "id": "vRBPYAHYMKsP"
      },
      "source": [
        "!pip install matchzoo"
      ],
      "execution_count": null,
      "outputs": []
    },
    {
      "cell_type": "code",
      "metadata": {
        "colab": {
          "base_uri": "https://localhost:8080/"
        },
        "id": "_2e-_hIIMi1I",
        "outputId": "5372a38c-f801-4433-ce69-25a1503ea38b"
      },
      "source": [
        "#https://github.com/NTMC-Community/MatchZoo/blob/master/tutorials/wikiqa/init.ipynb\n",
        "import keras\n",
        "import pandas as pd\n",
        "import numpy as np\n",
        "import matchzoo as mz\n",
        "import json"
      ],
      "execution_count": 5,
      "outputs": [
        {
          "output_type": "stream",
          "name": "stderr",
          "text": [
            "Using TensorFlow backend.\n"
          ]
        }
      ]
    },
    {
      "cell_type": "code",
      "metadata": {
        "colab": {
          "base_uri": "https://localhost:8080/"
        },
        "id": "8-Nix7xkMk1H",
        "outputId": "e606478f-5dc8-4646-c18b-4a1db4d55773"
      },
      "source": [
        "print('data loading ...')\n",
        "train_pack_raw = mz.datasets.wiki_qa.load_data('train', task='ranking')\n",
        "dev_pack_raw = mz.datasets.wiki_qa.load_data('dev', task='ranking', filtered=True)\n",
        "test_pack_raw = mz.datasets.wiki_qa.load_data('test', task='ranking', filtered=True)\n",
        "print('data loaded as `train_pack_raw` `dev_pack_raw` `test_pack_raw`')\n",
        "\n",
        "ranking_task = mz.tasks.Ranking(loss=mz.losses.RankHingeLoss())\n",
        "ranking_task.metrics = [\n",
        "    mz.metrics.NormalizedDiscountedCumulativeGain(k=3),\n",
        "    mz.metrics.NormalizedDiscountedCumulativeGain(k=5),\n",
        "    mz.metrics.MeanAveragePrecision(),\n",
        "    mz.metrics.AveragePrecision(),\n",
        "    mz.metrics.MeanReciprocalRank(),\n",
        "    mz.metrics.Precision()\n",
        "\n",
        "]\n",
        "print(\"`ranking_task` initialized with metrics\", ranking_task.metrics)\n",
        "\n",
        "print(\"loading embedding ...\")\n",
        "glove_embedding = mz.datasets.embeddings.load_glove_embedding(dimension=300)\n",
        "print(\"embedding loaded as `glove_embedding`\")"
      ],
      "execution_count": 8,
      "outputs": [
        {
          "output_type": "stream",
          "name": "stdout",
          "text": [
            "data loading ...\n",
            "data loaded as `train_pack_raw` `dev_pack_raw` `test_pack_raw`\n",
            "`ranking_task` initialized with metrics [normalized_discounted_cumulative_gain@3(0.0), normalized_discounted_cumulative_gain@5(0.0), mean_average_precision(0.0), average_precision(0.0), mean_reciprocal_rank(0.0), precision@1(0.0)]\n",
            "loading embedding ...\n",
            "embedding loaded as `glove_embedding`\n"
          ]
        }
      ]
    },
    {
      "cell_type": "code",
      "metadata": {
        "colab": {
          "base_uri": "https://localhost:8080/",
          "height": 206
        },
        "id": "4A-VfAbYs-z4",
        "outputId": "bdaf77ba-3526-4e81-a700-9a6753472167"
      },
      "source": [
        "#view the data\n",
        "train_pack_raw.frame().head()"
      ],
      "execution_count": 9,
      "outputs": [
        {
          "output_type": "execute_result",
          "data": {
            "text/html": [
              "<div>\n",
              "<style scoped>\n",
              "    .dataframe tbody tr th:only-of-type {\n",
              "        vertical-align: middle;\n",
              "    }\n",
              "\n",
              "    .dataframe tbody tr th {\n",
              "        vertical-align: top;\n",
              "    }\n",
              "\n",
              "    .dataframe thead th {\n",
              "        text-align: right;\n",
              "    }\n",
              "</style>\n",
              "<table border=\"1\" class=\"dataframe\">\n",
              "  <thead>\n",
              "    <tr style=\"text-align: right;\">\n",
              "      <th></th>\n",
              "      <th>id_left</th>\n",
              "      <th>text_left</th>\n",
              "      <th>id_right</th>\n",
              "      <th>text_right</th>\n",
              "      <th>label</th>\n",
              "    </tr>\n",
              "  </thead>\n",
              "  <tbody>\n",
              "    <tr>\n",
              "      <th>0</th>\n",
              "      <td>Q1</td>\n",
              "      <td>how are glacier caves formed?</td>\n",
              "      <td>D1-0</td>\n",
              "      <td>A partly submerged glacier cave on Perito More...</td>\n",
              "      <td>0</td>\n",
              "    </tr>\n",
              "    <tr>\n",
              "      <th>1</th>\n",
              "      <td>Q1</td>\n",
              "      <td>how are glacier caves formed?</td>\n",
              "      <td>D1-1</td>\n",
              "      <td>The ice facade is approximately 60 m high</td>\n",
              "      <td>0</td>\n",
              "    </tr>\n",
              "    <tr>\n",
              "      <th>2</th>\n",
              "      <td>Q1</td>\n",
              "      <td>how are glacier caves formed?</td>\n",
              "      <td>D1-2</td>\n",
              "      <td>Ice formations in the Titlis glacier cave</td>\n",
              "      <td>0</td>\n",
              "    </tr>\n",
              "    <tr>\n",
              "      <th>3</th>\n",
              "      <td>Q1</td>\n",
              "      <td>how are glacier caves formed?</td>\n",
              "      <td>D1-3</td>\n",
              "      <td>A glacier cave is a cave formed within the ice...</td>\n",
              "      <td>1</td>\n",
              "    </tr>\n",
              "    <tr>\n",
              "      <th>4</th>\n",
              "      <td>Q1</td>\n",
              "      <td>how are glacier caves formed?</td>\n",
              "      <td>D1-4</td>\n",
              "      <td>Glacier caves are often called ice caves , but...</td>\n",
              "      <td>0</td>\n",
              "    </tr>\n",
              "  </tbody>\n",
              "</table>\n",
              "</div>"
            ],
            "text/plain": [
              "  id_left  ... label\n",
              "0      Q1  ...     0\n",
              "1      Q1  ...     0\n",
              "2      Q1  ...     0\n",
              "3      Q1  ...     1\n",
              "4      Q1  ...     0\n",
              "\n",
              "[5 rows x 5 columns]"
            ]
          },
          "metadata": {},
          "execution_count": 9
        }
      ]
    },
    {
      "cell_type": "code",
      "metadata": {
        "id": "ZzdMWDHkNHi2"
      },
      "source": [
        "\n",
        "def append_params_to_readme(model):\n",
        "    import tabulate\n",
        "    \n",
        "    with open('README.rst', 'a+') as f:\n",
        "        subtitle = model.params['model_class'].__name__\n",
        "        line = '#' * len(subtitle)\n",
        "        subtitle = subtitle + '\\n' + line + '\\n\\n'\n",
        "        f.write(subtitle)\n",
        "        \n",
        "        df = model.params.to_frame()[['Name', 'Value']]\n",
        "        table = tabulate.tabulate(df, tablefmt='rst', headers='keys') + '\\n\\n'\n",
        "        f.write(table)"
      ],
      "execution_count": 10,
      "outputs": []
    },
    {
      "cell_type": "code",
      "metadata": {
        "id": "Qi5n7MqfOE8b"
      },
      "source": [
        "import nltk\n",
        "nltk.download('punkt')"
      ],
      "execution_count": null,
      "outputs": []
    },
    {
      "cell_type": "code",
      "metadata": {
        "id": "qRmazr5mNdM5"
      },
      "source": [
        "#source: https://github.com/NTMC-Community/MatchZoo/blob/master/tutorials/wikiqa/drmm.ipynb\n",
        "preprocessor = mz.preprocessors.BasicPreprocessor(fixed_length_left=10, fixed_length_right=100, remove_stop_words=False)\n",
        "train_pack_processed = preprocessor.fit_transform(train_pack_raw)\n",
        "dev_pack_processed = preprocessor.transform(dev_pack_raw)\n",
        "test_pack_processed = preprocessor.transform(test_pack_raw)"
      ],
      "execution_count": null,
      "outputs": []
    },
    {
      "cell_type": "code",
      "metadata": {
        "colab": {
          "base_uri": "https://localhost:8080/"
        },
        "id": "562uoWQIODpF",
        "outputId": "a69f68e2-5589-4210-99e7-7524dd1d55c6"
      },
      "source": [
        "preprocessor.context"
      ],
      "execution_count": 13,
      "outputs": [
        {
          "output_type": "execute_result",
          "data": {
            "text/plain": [
              "{'embedding_input_dim': 17483,\n",
              " 'filter_unit': <matchzoo.preprocessors.units.frequency_filter.FrequencyFilter at 0x7f5f6feebf10>,\n",
              " 'input_shapes': [(10,), (100,)],\n",
              " 'vocab_size': 17483,\n",
              " 'vocab_unit': <matchzoo.preprocessors.units.vocabulary.Vocabulary at 0x7f5f6bb36910>}"
            ]
          },
          "metadata": {},
          "execution_count": 13
        }
      ]
    },
    {
      "cell_type": "code",
      "metadata": {
        "id": "t6yGcYbSOk6X"
      },
      "source": [
        "ranking_task = mz.tasks.Ranking(loss=mz.losses.RankCrossEntropyLoss(num_neg=10))\n",
        "ranking_task.metrics = [\n",
        "    mz.metrics.NormalizedDiscountedCumulativeGain(k=3),\n",
        "    mz.metrics.NormalizedDiscountedCumulativeGain(k=5),\n",
        "    mz.metrics.MeanAveragePrecision(),\n",
        "    mz.metrics.AveragePrecision(),\n",
        "    mz.metrics.MeanReciprocalRank(),\n",
        "    mz.metrics.Precision()\n",
        "]"
      ],
      "execution_count": 14,
      "outputs": []
    },
    {
      "cell_type": "code",
      "metadata": {
        "colab": {
          "base_uri": "https://localhost:8080/"
        },
        "id": "05UKF4JSOmAB",
        "outputId": "1f0171f1-9214-4388-ba35-150c8a07193f"
      },
      "source": [
        "bin_size = 30\n",
        "model = mz.models.DRMM()\n",
        "model.params.update(preprocessor.context)\n",
        "model.params['input_shapes'] = [[10,], [10, bin_size,]]\n",
        "model.params['task'] = ranking_task\n",
        "model.params['mask_value'] = 0\n",
        "model.params['embedding_output_dim'] = glove_embedding.output_dim\n",
        "model.params['mlp_num_layers'] = 1\n",
        "model.params['mlp_num_units'] = 10\n",
        "model.params['mlp_num_fan_out'] = 1\n",
        "model.params['mlp_activation_func'] = 'tanh'\n",
        "model.params['optimizer'] = 'adadelta'\n",
        "model.build()\n",
        "model.compile()\n",
        "model.backend.summary()"
      ],
      "execution_count": 15,
      "outputs": [
        {
          "output_type": "stream",
          "name": "stdout",
          "text": [
            "Model: \"model_1\"\n",
            "__________________________________________________________________________________________________\n",
            "Layer (type)                    Output Shape         Param #     Connected to                     \n",
            "==================================================================================================\n",
            "text_left (InputLayer)          (None, 10)           0                                            \n",
            "__________________________________________________________________________________________________\n",
            "embedding (Embedding)           (None, 10, 300)      5244900     text_left[0][0]                  \n",
            "__________________________________________________________________________________________________\n",
            "dense_1 (Dense)                 (None, 10, 1)        300         embedding[0][0]                  \n",
            "__________________________________________________________________________________________________\n",
            "match_histogram (InputLayer)    (None, 10, 30)       0                                            \n",
            "__________________________________________________________________________________________________\n",
            "attention_mask (Lambda)         (None, 10, 1)        0           dense_1[0][0]                    \n",
            "__________________________________________________________________________________________________\n",
            "dense_2 (Dense)                 (None, 10, 10)       310         match_histogram[0][0]            \n",
            "__________________________________________________________________________________________________\n",
            "attention_probs (Lambda)        (None, 10, 1)        0           attention_mask[0][0]             \n",
            "__________________________________________________________________________________________________\n",
            "dense_3 (Dense)                 (None, 10, 1)        11          dense_2[0][0]                    \n",
            "__________________________________________________________________________________________________\n",
            "dot_1 (Dot)                     (None, 1, 1)         0           attention_probs[0][0]            \n",
            "                                                                 dense_3[0][0]                    \n",
            "__________________________________________________________________________________________________\n",
            "flatten_1 (Flatten)             (None, 1)            0           dot_1[0][0]                      \n",
            "__________________________________________________________________________________________________\n",
            "dense_4 (Dense)                 (None, 1)            2           flatten_1[0][0]                  \n",
            "==================================================================================================\n",
            "Total params: 5,245,523\n",
            "Trainable params: 5,245,523\n",
            "Non-trainable params: 0\n",
            "__________________________________________________________________________________________________\n"
          ]
        }
      ]
    },
    {
      "cell_type": "code",
      "metadata": {
        "id": "N6zIE2g4Ouz3"
      },
      "source": [
        "embedding_matrix = glove_embedding.build_matrix(preprocessor.context['vocab_unit'].state['term_index'])\n",
        "# normalize the word embedding for fast histogram generating.\n",
        "l2_norm = np.sqrt((embedding_matrix*embedding_matrix).sum(axis=1))\n",
        "embedding_matrix = embedding_matrix / l2_norm[:, np.newaxis]\n",
        "model.load_embedding_matrix(embedding_matrix)"
      ],
      "execution_count": 16,
      "outputs": []
    },
    {
      "cell_type": "code",
      "metadata": {
        "id": "lnscb2VaO39D"
      },
      "source": [
        "hist_callback = mz.data_generator.callbacks.Histogram(embedding_matrix, bin_size=30, hist_mode='LCH')"
      ],
      "execution_count": 17,
      "outputs": []
    },
    {
      "cell_type": "code",
      "metadata": {
        "id": "7DIqWQCTO7T-"
      },
      "source": [
        "#Validation dataset for \"Evaluate\" callback\n",
        "pred_generator = mz.DataGenerator(dev_pack_processed, mode='point', callbacks=[hist_callback])\n",
        "pred_x, pred_y = pred_generator[:]\n",
        "evaluate = mz.callbacks.EvaluateAllMetrics(model, \n",
        "                                           x=pred_x, \n",
        "                                           y=pred_y, \n",
        "                                           once_every=1, \n",
        "                                           batch_size=len(pred_y),\n",
        "                                           model_save_path='./drmm_pretrained_model/'\n",
        "                                          )"
      ],
      "execution_count": 18,
      "outputs": []
    },
    {
      "cell_type": "code",
      "metadata": {
        "colab": {
          "base_uri": "https://localhost:8080/"
        },
        "id": "xKsyNo5ePBzF",
        "outputId": "7964006f-9c9e-4aae-f786-0005df93333a"
      },
      "source": [
        "train_generator = mz.DataGenerator(train_pack_processed, mode='pair', num_dup=5, num_neg=10, batch_size=20, \n",
        "                                   callbacks=[hist_callback])\n",
        "print('num batches:', len(train_generator))"
      ],
      "execution_count": 19,
      "outputs": [
        {
          "output_type": "stream",
          "name": "stdout",
          "text": [
            "num batches: 255\n"
          ]
        }
      ]
    },
    {
      "cell_type": "code",
      "metadata": {
        "colab": {
          "base_uri": "https://localhost:8080/"
        },
        "id": "t-2vrHumPF6F",
        "outputId": "c80c6989-bfb4-40fa-c1fa-2781dfe300b6"
      },
      "source": [
        "%%time\n",
        "history = model.fit_generator(train_generator, epochs=10, callbacks=[evaluate], workers=30, use_multiprocessing=True)"
      ],
      "execution_count": 20,
      "outputs": [
        {
          "output_type": "stream",
          "name": "stderr",
          "text": [
            "/usr/local/lib/python3.7/dist-packages/tensorflow_core/python/framework/indexed_slices.py:433: UserWarning: Converting sparse IndexedSlices to a dense Tensor of unknown shape. This may consume a large amount of memory.\n",
            "  \"Converting sparse IndexedSlices to a dense Tensor of unknown shape. \"\n"
          ]
        },
        {
          "output_type": "stream",
          "name": "stdout",
          "text": [
            "Epoch 1/10\n",
            "255/255 [==============================] - 102s 402ms/step - loss: 2.2382\n",
            "Validation: normalized_discounted_cumulative_gain@3(0.0): 0.6227526164797665 - normalized_discounted_cumulative_gain@5(0.0): 0.6732832930442673 - mean_average_precision(0.0): 0.6223807419611992 - average_precision(0.0): 0.2800332139510918 - mean_reciprocal_rank(0.0): 0.6277890896851208 - precision@1(0.0): 0.45081967213114754\n",
            "Epoch 2/10\n",
            "255/255 [==============================] - 101s 397ms/step - loss: 1.8288\n",
            "Validation: normalized_discounted_cumulative_gain@3(0.0): 0.6247795792706264 - normalized_discounted_cumulative_gain@5(0.0): 0.6806465329923468 - mean_average_precision(0.0): 0.6320707184436694 - average_precision(0.0): 0.282270281085354 - mean_reciprocal_rank(0.0): 0.6374909926139435 - precision@1(0.0): 0.48360655737704916\n",
            "Epoch 3/10\n",
            "255/255 [==============================] - 102s 400ms/step - loss: 1.4946\n",
            "Validation: normalized_discounted_cumulative_gain@3(0.0): 0.6007503424142793 - normalized_discounted_cumulative_gain@5(0.0): 0.6651236382428984 - mean_average_precision(0.0): 0.6158064271793781 - average_precision(0.0): 0.26784456992701877 - mean_reciprocal_rank(0.0): 0.6225928215682315 - precision@1(0.0): 0.45901639344262296\n",
            "Epoch 4/10\n",
            "255/255 [==============================] - 102s 401ms/step - loss: 1.2856\n",
            "Validation: normalized_discounted_cumulative_gain@3(0.0): 0.5783552273374165 - normalized_discounted_cumulative_gain@5(0.0): 0.6564606304221223 - mean_average_precision(0.0): 0.6046614928787061 - average_precision(0.0): 0.2595710583644085 - mean_reciprocal_rank(0.0): 0.614215907043776 - precision@1(0.0): 0.4426229508196721\n",
            "Epoch 5/10\n",
            "255/255 [==============================] - 102s 399ms/step - loss: 1.1891\n",
            "Validation: normalized_discounted_cumulative_gain@3(0.0): 0.565402119051746 - normalized_discounted_cumulative_gain@5(0.0): 0.6473968689308145 - mean_average_precision(0.0): 0.5922070302193253 - average_precision(0.0): 0.2543355882367431 - mean_reciprocal_rank(0.0): 0.6008832242438801 - precision@1(0.0): 0.4262295081967213\n",
            "Epoch 6/10\n",
            "255/255 [==============================] - 102s 398ms/step - loss: 1.1207\n",
            "Validation: normalized_discounted_cumulative_gain@3(0.0): 0.5613037583960081 - normalized_discounted_cumulative_gain@5(0.0): 0.6369566589761498 - mean_average_precision(0.0): 0.5820757680388828 - average_precision(0.0): 0.2519605330869419 - mean_reciprocal_rank(0.0): 0.5903323679963026 - precision@1(0.0): 0.4098360655737705\n",
            "Epoch 7/10\n",
            "255/255 [==============================] - 101s 394ms/step - loss: 1.0780\n",
            "Validation: normalized_discounted_cumulative_gain@3(0.0): 0.5682065347730141 - normalized_discounted_cumulative_gain@5(0.0): 0.6370194131700125 - mean_average_precision(0.0): 0.582023857649397 - average_precision(0.0): 0.24759956049417278 - mean_reciprocal_rank(0.0): 0.5909321893953042 - precision@1(0.0): 0.4016393442622951\n",
            "Epoch 8/10\n",
            "255/255 [==============================] - 102s 398ms/step - loss: 1.0644\n",
            "Validation: normalized_discounted_cumulative_gain@3(0.0): 0.5682065347730141 - normalized_discounted_cumulative_gain@5(0.0): 0.6349261217378979 - mean_average_precision(0.0): 0.5864530619653571 - average_precision(0.0): 0.24984645276033762 - mean_reciprocal_rank(0.0): 0.5955325867211113 - precision@1(0.0): 0.4098360655737705\n",
            "Epoch 9/10\n",
            "255/255 [==============================] - 101s 395ms/step - loss: 1.0371\n",
            "Validation: normalized_discounted_cumulative_gain@3(0.0): 0.5755244795329679 - normalized_discounted_cumulative_gain@5(0.0): 0.631929624707916 - mean_average_precision(0.0): 0.5799311036654335 - average_precision(0.0): 0.24519794391156216 - mean_reciprocal_rank(0.0): 0.5887203757080809 - precision@1(0.0): 0.39344262295081966\n",
            "Epoch 10/10\n",
            "255/255 [==============================] - 100s 392ms/step - loss: 1.0241\n",
            "Validation: normalized_discounted_cumulative_gain@3(0.0): 0.5815748114416327 - normalized_discounted_cumulative_gain@5(0.0): 0.6355274541120164 - mean_average_precision(0.0): 0.5845019620634376 - average_precision(0.0): 0.2447093847902917 - mean_reciprocal_rank(0.0): 0.5928626473708443 - precision@1(0.0): 0.4016393442622951\n",
            "CPU times: user 7min 29s, sys: 1min 30s, total: 8min 59s\n",
            "Wall time: 18min 48s\n"
          ]
        }
      ]
    },
    {
      "cell_type": "code",
      "metadata": {
        "id": "JvQDCgFdPKoF"
      },
      "source": [
        "drmm_model = mz.load_model('./drmm_pretrained_model/2')\n",
        "test_generator = mz.DataGenerator(data_pack=test_pack_processed, mode='point', callbacks=[hist_callback])\n",
        "test_x, test_y = test_generator[:]"
      ],
      "execution_count": 25,
      "outputs": []
    },
    {
      "cell_type": "code",
      "metadata": {
        "id": "4OcvaSviUor5",
        "colab": {
          "base_uri": "https://localhost:8080/"
        },
        "outputId": "5f36edb9-7c37-4352-a428-23350e163dc1"
      },
      "source": [
        "%%time\n",
        "drmm_model.evaluate(test_x, test_y)"
      ],
      "execution_count": 26,
      "outputs": [
        {
          "output_type": "stream",
          "name": "stdout",
          "text": [
            "CPU times: user 408 ms, sys: 8.73 ms, total: 417 ms\n",
            "Wall time: 407 ms\n"
          ]
        },
        {
          "output_type": "execute_result",
          "data": {
            "text/plain": [
              "{average_precision(0.0): 0.27454071749207065,\n",
              " mean_average_precision(0.0): 0.6124554048089337,\n",
              " mean_reciprocal_rank(0.0): 0.6201458064563053,\n",
              " normalized_discounted_cumulative_gain@3(0.0): 0.6003455874772065,\n",
              " normalized_discounted_cumulative_gain@5(0.0): 0.6578222650653642,\n",
              " precision@1(0.0): 0.4430379746835443}"
            ]
          },
          "metadata": {},
          "execution_count": 26
        }
      ]
    }
  ]
}