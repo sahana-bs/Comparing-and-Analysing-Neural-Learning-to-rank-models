{
  "nbformat": 4,
  "nbformat_minor": 0,
  "metadata": {
    "colab": {
      "name": "matchzoo-drmm.ipynb",
      "provenance": [],
      "collapsed_sections": []
    },
    "kernelspec": {
      "name": "python3",
      "display_name": "Python 3"
    },
    "language_info": {
      "name": "python"
    }
  },
  "cells": [
    {
      "cell_type": "code",
      "metadata": {
        "colab": {
          "base_uri": "https://localhost:8080/"
        },
        "id": "VccvFCyoLd8S",
        "outputId": "8bfde399-d5e5-40e2-92f6-9ae125c48043"
      },
      "source": [
        "'''\n",
        "keras: 2.3.1\n",
        "tensorflow: 2.1.0\n",
        "h5py: 2.10.0\n",
        "'''\n",
        "\n",
        "!pip uninstall keras"
      ],
      "execution_count": 2,
      "outputs": [
        {
          "output_type": "stream",
          "name": "stdout",
          "text": [
            "Found existing installation: Keras 2.3.1\n",
            "Uninstalling Keras-2.3.1:\n",
            "  Would remove:\n",
            "    /usr/local/lib/python3.7/dist-packages/Keras-2.3.1.dist-info/*\n",
            "    /usr/local/lib/python3.7/dist-packages/docs/*\n",
            "    /usr/local/lib/python3.7/dist-packages/keras/*\n",
            "  Would not remove (might be manually added):\n",
            "    /usr/local/lib/python3.7/dist-packages/docs/md_autogen.py\n",
            "    /usr/local/lib/python3.7/dist-packages/docs/update_docs.py\n",
            "Proceed (y/n)? n\n"
          ]
        }
      ]
    },
    {
      "cell_type": "code",
      "metadata": {
        "colab": {
          "base_uri": "https://localhost:8080/"
        },
        "id": "pQJehocBLs3L",
        "outputId": "397c7c0f-7ee4-4027-ea67-790919d909d2"
      },
      "source": [
        "!pip install keras==2.3.1"
      ],
      "execution_count": 3,
      "outputs": [
        {
          "output_type": "stream",
          "name": "stdout",
          "text": [
            "Collecting keras==2.3.1\n",
            "  Downloading Keras-2.3.1-py2.py3-none-any.whl (377 kB)\n",
            "\u001b[?25l\r\u001b[K     |▉                               | 10 kB 25.2 MB/s eta 0:00:01\r\u001b[K     |█▊                              | 20 kB 28.1 MB/s eta 0:00:01\r\u001b[K     |██▋                             | 30 kB 31.7 MB/s eta 0:00:01\r\u001b[K     |███▌                            | 40 kB 26.6 MB/s eta 0:00:01\r\u001b[K     |████▍                           | 51 kB 26.5 MB/s eta 0:00:01\r\u001b[K     |█████▏                          | 61 kB 27.0 MB/s eta 0:00:01\r\u001b[K     |██████                          | 71 kB 22.9 MB/s eta 0:00:01\r\u001b[K     |███████                         | 81 kB 24.6 MB/s eta 0:00:01\r\u001b[K     |███████▉                        | 92 kB 25.4 MB/s eta 0:00:01\r\u001b[K     |████████▊                       | 102 kB 27.0 MB/s eta 0:00:01\r\u001b[K     |█████████▌                      | 112 kB 27.0 MB/s eta 0:00:01\r\u001b[K     |██████████▍                     | 122 kB 27.0 MB/s eta 0:00:01\r\u001b[K     |███████████▎                    | 133 kB 27.0 MB/s eta 0:00:01\r\u001b[K     |████████████▏                   | 143 kB 27.0 MB/s eta 0:00:01\r\u001b[K     |█████████████                   | 153 kB 27.0 MB/s eta 0:00:01\r\u001b[K     |█████████████▉                  | 163 kB 27.0 MB/s eta 0:00:01\r\u001b[K     |██████████████▊                 | 174 kB 27.0 MB/s eta 0:00:01\r\u001b[K     |███████████████▋                | 184 kB 27.0 MB/s eta 0:00:01\r\u001b[K     |████████████████▌               | 194 kB 27.0 MB/s eta 0:00:01\r\u001b[K     |█████████████████▍              | 204 kB 27.0 MB/s eta 0:00:01\r\u001b[K     |██████████████████▏             | 215 kB 27.0 MB/s eta 0:00:01\r\u001b[K     |███████████████████             | 225 kB 27.0 MB/s eta 0:00:01\r\u001b[K     |████████████████████            | 235 kB 27.0 MB/s eta 0:00:01\r\u001b[K     |████████████████████▉           | 245 kB 27.0 MB/s eta 0:00:01\r\u001b[K     |█████████████████████▊          | 256 kB 27.0 MB/s eta 0:00:01\r\u001b[K     |██████████████████████▌         | 266 kB 27.0 MB/s eta 0:00:01\r\u001b[K     |███████████████████████▍        | 276 kB 27.0 MB/s eta 0:00:01\r\u001b[K     |████████████████████████▎       | 286 kB 27.0 MB/s eta 0:00:01\r\u001b[K     |█████████████████████████▏      | 296 kB 27.0 MB/s eta 0:00:01\r\u001b[K     |██████████████████████████      | 307 kB 27.0 MB/s eta 0:00:01\r\u001b[K     |██████████████████████████▉     | 317 kB 27.0 MB/s eta 0:00:01\r\u001b[K     |███████████████████████████▊    | 327 kB 27.0 MB/s eta 0:00:01\r\u001b[K     |████████████████████████████▋   | 337 kB 27.0 MB/s eta 0:00:01\r\u001b[K     |█████████████████████████████▌  | 348 kB 27.0 MB/s eta 0:00:01\r\u001b[K     |██████████████████████████████▍ | 358 kB 27.0 MB/s eta 0:00:01\r\u001b[K     |███████████████████████████████▏| 368 kB 27.0 MB/s eta 0:00:01\r\u001b[K     |████████████████████████████████| 377 kB 27.0 MB/s \n",
            "\u001b[?25hRequirement already satisfied: numpy>=1.9.1 in /usr/local/lib/python3.7/dist-packages (from keras==2.3.1) (1.19.5)\n",
            "Requirement already satisfied: six>=1.9.0 in /usr/local/lib/python3.7/dist-packages (from keras==2.3.1) (1.15.0)\n",
            "Requirement already satisfied: keras-preprocessing>=1.0.5 in /usr/local/lib/python3.7/dist-packages (from keras==2.3.1) (1.1.2)\n",
            "Collecting keras-applications>=1.0.6\n",
            "  Downloading Keras_Applications-1.0.8-py3-none-any.whl (50 kB)\n",
            "\u001b[?25l\r\u001b[K     |██████▌                         | 10 kB 28.3 MB/s eta 0:00:01\r\u001b[K     |█████████████                   | 20 kB 31.3 MB/s eta 0:00:01\r\u001b[K     |███████████████████▍            | 30 kB 38.0 MB/s eta 0:00:01\r\u001b[K     |█████████████████████████▉      | 40 kB 42.6 MB/s eta 0:00:01\r\u001b[K     |████████████████████████████████| 50 kB 6.7 MB/s \n",
            "\u001b[?25hRequirement already satisfied: pyyaml in /usr/local/lib/python3.7/dist-packages (from keras==2.3.1) (3.13)\n",
            "Requirement already satisfied: scipy>=0.14 in /usr/local/lib/python3.7/dist-packages (from keras==2.3.1) (1.4.1)\n",
            "Requirement already satisfied: h5py in /usr/local/lib/python3.7/dist-packages (from keras==2.3.1) (3.1.0)\n",
            "Requirement already satisfied: cached-property in /usr/local/lib/python3.7/dist-packages (from h5py->keras==2.3.1) (1.5.2)\n",
            "Installing collected packages: keras-applications, keras\n",
            "\u001b[31mERROR: pip's dependency resolver does not currently take into account all the packages that are installed. This behaviour is the source of the following dependency conflicts.\n",
            "tensorflow 2.6.0 requires keras~=2.6, but you have keras 2.3.1 which is incompatible.\u001b[0m\n",
            "Successfully installed keras-2.3.1 keras-applications-1.0.8\n"
          ]
        }
      ]
    },
    {
      "cell_type": "code",
      "metadata": {
        "colab": {
          "base_uri": "https://localhost:8080/"
        },
        "id": "0uCP25hPLwua",
        "outputId": "12021455-4bc8-40d1-cd1d-7fc1facfac00"
      },
      "source": [
        "!pip uninstall tensorflow"
      ],
      "execution_count": 4,
      "outputs": [
        {
          "output_type": "stream",
          "name": "stdout",
          "text": [
            "Found existing installation: tensorflow 2.6.0\n",
            "Uninstalling tensorflow-2.6.0:\n",
            "  Would remove:\n",
            "    /usr/local/bin/estimator_ckpt_converter\n",
            "    /usr/local/bin/import_pb_to_tensorboard\n",
            "    /usr/local/bin/saved_model_cli\n",
            "    /usr/local/bin/tensorboard\n",
            "    /usr/local/bin/tf_upgrade_v2\n",
            "    /usr/local/bin/tflite_convert\n",
            "    /usr/local/bin/toco\n",
            "    /usr/local/bin/toco_from_protos\n",
            "    /usr/local/lib/python3.7/dist-packages/tensorflow-2.6.0.dist-info/*\n",
            "    /usr/local/lib/python3.7/dist-packages/tensorflow/*\n",
            "Proceed (y/n)? y\n",
            "  Successfully uninstalled tensorflow-2.6.0\n"
          ]
        }
      ]
    },
    {
      "cell_type": "code",
      "metadata": {
        "colab": {
          "base_uri": "https://localhost:8080/"
        },
        "id": "ePg7V9OoL2jm",
        "outputId": "9f2e1c3d-e3a1-4d92-8604-9ba973034d4e"
      },
      "source": [
        "!pip install tensorflow==2.1.0"
      ],
      "execution_count": 5,
      "outputs": [
        {
          "output_type": "stream",
          "name": "stdout",
          "text": [
            "Collecting tensorflow==2.1.0\n",
            "  Downloading tensorflow-2.1.0-cp37-cp37m-manylinux2010_x86_64.whl (421.8 MB)\n",
            "\u001b[K     |████████████████████████████████| 421.8 MB 23 kB/s \n",
            "\u001b[?25hRequirement already satisfied: scipy==1.4.1 in /usr/local/lib/python3.7/dist-packages (from tensorflow==2.1.0) (1.4.1)\n",
            "Requirement already satisfied: numpy<2.0,>=1.16.0 in /usr/local/lib/python3.7/dist-packages (from tensorflow==2.1.0) (1.19.5)\n",
            "Requirement already satisfied: wrapt>=1.11.1 in /usr/local/lib/python3.7/dist-packages (from tensorflow==2.1.0) (1.12.1)\n",
            "Requirement already satisfied: google-pasta>=0.1.6 in /usr/local/lib/python3.7/dist-packages (from tensorflow==2.1.0) (0.2.0)\n",
            "Requirement already satisfied: six>=1.12.0 in /usr/local/lib/python3.7/dist-packages (from tensorflow==2.1.0) (1.15.0)\n",
            "Requirement already satisfied: keras-preprocessing>=1.1.0 in /usr/local/lib/python3.7/dist-packages (from tensorflow==2.1.0) (1.1.2)\n",
            "Collecting tensorflow-estimator<2.2.0,>=2.1.0rc0\n",
            "  Downloading tensorflow_estimator-2.1.0-py2.py3-none-any.whl (448 kB)\n",
            "\u001b[K     |████████████████████████████████| 448 kB 71.2 MB/s \n",
            "\u001b[?25hRequirement already satisfied: opt-einsum>=2.3.2 in /usr/local/lib/python3.7/dist-packages (from tensorflow==2.1.0) (3.3.0)\n",
            "Requirement already satisfied: protobuf>=3.8.0 in /usr/local/lib/python3.7/dist-packages (from tensorflow==2.1.0) (3.17.3)\n",
            "Requirement already satisfied: astor>=0.6.0 in /usr/local/lib/python3.7/dist-packages (from tensorflow==2.1.0) (0.8.1)\n",
            "Requirement already satisfied: termcolor>=1.1.0 in /usr/local/lib/python3.7/dist-packages (from tensorflow==2.1.0) (1.1.0)\n",
            "Requirement already satisfied: wheel>=0.26 in /usr/local/lib/python3.7/dist-packages (from tensorflow==2.1.0) (0.37.0)\n",
            "Collecting tensorboard<2.2.0,>=2.1.0\n",
            "  Downloading tensorboard-2.1.1-py3-none-any.whl (3.8 MB)\n",
            "\u001b[K     |████████████████████████████████| 3.8 MB 52.5 MB/s \n",
            "\u001b[?25hRequirement already satisfied: grpcio>=1.8.6 in /usr/local/lib/python3.7/dist-packages (from tensorflow==2.1.0) (1.41.0)\n",
            "Requirement already satisfied: keras-applications>=1.0.8 in /usr/local/lib/python3.7/dist-packages (from tensorflow==2.1.0) (1.0.8)\n",
            "Collecting gast==0.2.2\n",
            "  Downloading gast-0.2.2.tar.gz (10 kB)\n",
            "Requirement already satisfied: absl-py>=0.7.0 in /usr/local/lib/python3.7/dist-packages (from tensorflow==2.1.0) (0.12.0)\n",
            "Requirement already satisfied: h5py in /usr/local/lib/python3.7/dist-packages (from keras-applications>=1.0.8->tensorflow==2.1.0) (3.1.0)\n",
            "Requirement already satisfied: google-auth<2,>=1.6.3 in /usr/local/lib/python3.7/dist-packages (from tensorboard<2.2.0,>=2.1.0->tensorflow==2.1.0) (1.35.0)\n",
            "Requirement already satisfied: requests<3,>=2.21.0 in /usr/local/lib/python3.7/dist-packages (from tensorboard<2.2.0,>=2.1.0->tensorflow==2.1.0) (2.23.0)\n",
            "Requirement already satisfied: markdown>=2.6.8 in /usr/local/lib/python3.7/dist-packages (from tensorboard<2.2.0,>=2.1.0->tensorflow==2.1.0) (3.3.4)\n",
            "Requirement already satisfied: werkzeug>=0.11.15 in /usr/local/lib/python3.7/dist-packages (from tensorboard<2.2.0,>=2.1.0->tensorflow==2.1.0) (1.0.1)\n",
            "Requirement already satisfied: setuptools>=41.0.0 in /usr/local/lib/python3.7/dist-packages (from tensorboard<2.2.0,>=2.1.0->tensorflow==2.1.0) (57.4.0)\n",
            "Requirement already satisfied: google-auth-oauthlib<0.5,>=0.4.1 in /usr/local/lib/python3.7/dist-packages (from tensorboard<2.2.0,>=2.1.0->tensorflow==2.1.0) (0.4.6)\n",
            "Requirement already satisfied: cachetools<5.0,>=2.0.0 in /usr/local/lib/python3.7/dist-packages (from google-auth<2,>=1.6.3->tensorboard<2.2.0,>=2.1.0->tensorflow==2.1.0) (4.2.4)\n",
            "Requirement already satisfied: rsa<5,>=3.1.4 in /usr/local/lib/python3.7/dist-packages (from google-auth<2,>=1.6.3->tensorboard<2.2.0,>=2.1.0->tensorflow==2.1.0) (4.7.2)\n",
            "Requirement already satisfied: pyasn1-modules>=0.2.1 in /usr/local/lib/python3.7/dist-packages (from google-auth<2,>=1.6.3->tensorboard<2.2.0,>=2.1.0->tensorflow==2.1.0) (0.2.8)\n",
            "Requirement already satisfied: requests-oauthlib>=0.7.0 in /usr/local/lib/python3.7/dist-packages (from google-auth-oauthlib<0.5,>=0.4.1->tensorboard<2.2.0,>=2.1.0->tensorflow==2.1.0) (1.3.0)\n",
            "Requirement already satisfied: importlib-metadata in /usr/local/lib/python3.7/dist-packages (from markdown>=2.6.8->tensorboard<2.2.0,>=2.1.0->tensorflow==2.1.0) (4.8.1)\n",
            "Requirement already satisfied: pyasn1<0.5.0,>=0.4.6 in /usr/local/lib/python3.7/dist-packages (from pyasn1-modules>=0.2.1->google-auth<2,>=1.6.3->tensorboard<2.2.0,>=2.1.0->tensorflow==2.1.0) (0.4.8)\n",
            "Requirement already satisfied: chardet<4,>=3.0.2 in /usr/local/lib/python3.7/dist-packages (from requests<3,>=2.21.0->tensorboard<2.2.0,>=2.1.0->tensorflow==2.1.0) (3.0.4)\n",
            "Requirement already satisfied: urllib3!=1.25.0,!=1.25.1,<1.26,>=1.21.1 in /usr/local/lib/python3.7/dist-packages (from requests<3,>=2.21.0->tensorboard<2.2.0,>=2.1.0->tensorflow==2.1.0) (1.24.3)\n",
            "Requirement already satisfied: certifi>=2017.4.17 in /usr/local/lib/python3.7/dist-packages (from requests<3,>=2.21.0->tensorboard<2.2.0,>=2.1.0->tensorflow==2.1.0) (2021.5.30)\n",
            "Requirement already satisfied: idna<3,>=2.5 in /usr/local/lib/python3.7/dist-packages (from requests<3,>=2.21.0->tensorboard<2.2.0,>=2.1.0->tensorflow==2.1.0) (2.10)\n",
            "Requirement already satisfied: oauthlib>=3.0.0 in /usr/local/lib/python3.7/dist-packages (from requests-oauthlib>=0.7.0->google-auth-oauthlib<0.5,>=0.4.1->tensorboard<2.2.0,>=2.1.0->tensorflow==2.1.0) (3.1.1)\n",
            "Requirement already satisfied: cached-property in /usr/local/lib/python3.7/dist-packages (from h5py->keras-applications>=1.0.8->tensorflow==2.1.0) (1.5.2)\n",
            "Requirement already satisfied: typing-extensions>=3.6.4 in /usr/local/lib/python3.7/dist-packages (from importlib-metadata->markdown>=2.6.8->tensorboard<2.2.0,>=2.1.0->tensorflow==2.1.0) (3.7.4.3)\n",
            "Requirement already satisfied: zipp>=0.5 in /usr/local/lib/python3.7/dist-packages (from importlib-metadata->markdown>=2.6.8->tensorboard<2.2.0,>=2.1.0->tensorflow==2.1.0) (3.6.0)\n",
            "Building wheels for collected packages: gast\n",
            "  Building wheel for gast (setup.py) ... \u001b[?25l\u001b[?25hdone\n",
            "  Created wheel for gast: filename=gast-0.2.2-py3-none-any.whl size=7554 sha256=a9cacfe45d48c015c93e9dfc53b561df63edd2d2ea5dce40fc7af0453e011b34\n",
            "  Stored in directory: /root/.cache/pip/wheels/21/7f/02/420f32a803f7d0967b48dd823da3f558c5166991bfd204eef3\n",
            "Successfully built gast\n",
            "Installing collected packages: tensorflow-estimator, tensorboard, gast, tensorflow\n",
            "  Attempting uninstall: tensorflow-estimator\n",
            "    Found existing installation: tensorflow-estimator 2.6.0\n",
            "    Uninstalling tensorflow-estimator-2.6.0:\n",
            "      Successfully uninstalled tensorflow-estimator-2.6.0\n",
            "  Attempting uninstall: tensorboard\n",
            "    Found existing installation: tensorboard 2.6.0\n",
            "    Uninstalling tensorboard-2.6.0:\n",
            "      Successfully uninstalled tensorboard-2.6.0\n",
            "  Attempting uninstall: gast\n",
            "    Found existing installation: gast 0.4.0\n",
            "    Uninstalling gast-0.4.0:\n",
            "      Successfully uninstalled gast-0.4.0\n",
            "\u001b[31mERROR: pip's dependency resolver does not currently take into account all the packages that are installed. This behaviour is the source of the following dependency conflicts.\n",
            "tensorflow-probability 0.14.1 requires gast>=0.3.2, but you have gast 0.2.2 which is incompatible.\u001b[0m\n",
            "Successfully installed gast-0.2.2 tensorboard-2.1.1 tensorflow-2.1.0 tensorflow-estimator-2.1.0\n"
          ]
        }
      ]
    },
    {
      "cell_type": "code",
      "metadata": {
        "colab": {
          "base_uri": "https://localhost:8080/",
          "height": 575
        },
        "id": "bw_AzFd7k-Aj",
        "outputId": "354c8ff2-dec9-4c7e-8217-a385f80ab978"
      },
      "source": [
        "#we also need to downgrade h5py to prevent this: https://github.com/tensorflow/tensorflow/issues/44467\n",
        "!pip install 'h5py==2.10.0' --force-reinstall"
      ],
      "execution_count": 39,
      "outputs": [
        {
          "output_type": "stream",
          "name": "stdout",
          "text": [
            "Collecting h5py==2.10.0\n",
            "  Downloading h5py-2.10.0-cp37-cp37m-manylinux1_x86_64.whl (2.9 MB)\n",
            "\u001b[?25l\r\u001b[K     |▏                               | 10 kB 9.8 MB/s eta 0:00:01\r\u001b[K     |▎                               | 20 kB 14.4 MB/s eta 0:00:01\r\u001b[K     |▍                               | 30 kB 14.7 MB/s eta 0:00:01\r\u001b[K     |▌                               | 40 kB 16.5 MB/s eta 0:00:01\r\u001b[K     |▋                               | 51 kB 18.3 MB/s eta 0:00:01\r\u001b[K     |▊                               | 61 kB 20.1 MB/s eta 0:00:01\r\u001b[K     |▉                               | 71 kB 20.2 MB/s eta 0:00:01\r\u001b[K     |█                               | 81 kB 21.5 MB/s eta 0:00:01\r\u001b[K     |█                               | 92 kB 21.2 MB/s eta 0:00:01\r\u001b[K     |█▏                              | 102 kB 22.1 MB/s eta 0:00:01\r\u001b[K     |█▎                              | 112 kB 22.1 MB/s eta 0:00:01\r\u001b[K     |█▍                              | 122 kB 22.1 MB/s eta 0:00:01\r\u001b[K     |█▌                              | 133 kB 22.1 MB/s eta 0:00:01\r\u001b[K     |█▋                              | 143 kB 22.1 MB/s eta 0:00:01\r\u001b[K     |█▊                              | 153 kB 22.1 MB/s eta 0:00:01\r\u001b[K     |█▉                              | 163 kB 22.1 MB/s eta 0:00:01\r\u001b[K     |██                              | 174 kB 22.1 MB/s eta 0:00:01\r\u001b[K     |██                              | 184 kB 22.1 MB/s eta 0:00:01\r\u001b[K     |██▏                             | 194 kB 22.1 MB/s eta 0:00:01\r\u001b[K     |██▎                             | 204 kB 22.1 MB/s eta 0:00:01\r\u001b[K     |██▍                             | 215 kB 22.1 MB/s eta 0:00:01\r\u001b[K     |██▌                             | 225 kB 22.1 MB/s eta 0:00:01\r\u001b[K     |██▋                             | 235 kB 22.1 MB/s eta 0:00:01\r\u001b[K     |██▊                             | 245 kB 22.1 MB/s eta 0:00:01\r\u001b[K     |██▉                             | 256 kB 22.1 MB/s eta 0:00:01\r\u001b[K     |███                             | 266 kB 22.1 MB/s eta 0:00:01\r\u001b[K     |███                             | 276 kB 22.1 MB/s eta 0:00:01\r\u001b[K     |███▏                            | 286 kB 22.1 MB/s eta 0:00:01\r\u001b[K     |███▎                            | 296 kB 22.1 MB/s eta 0:00:01\r\u001b[K     |███▍                            | 307 kB 22.1 MB/s eta 0:00:01\r\u001b[K     |███▌                            | 317 kB 22.1 MB/s eta 0:00:01\r\u001b[K     |███▋                            | 327 kB 22.1 MB/s eta 0:00:01\r\u001b[K     |███▊                            | 337 kB 22.1 MB/s eta 0:00:01\r\u001b[K     |███▉                            | 348 kB 22.1 MB/s eta 0:00:01\r\u001b[K     |████                            | 358 kB 22.1 MB/s eta 0:00:01\r\u001b[K     |████                            | 368 kB 22.1 MB/s eta 0:00:01\r\u001b[K     |████▎                           | 378 kB 22.1 MB/s eta 0:00:01\r\u001b[K     |████▍                           | 389 kB 22.1 MB/s eta 0:00:01\r\u001b[K     |████▌                           | 399 kB 22.1 MB/s eta 0:00:01\r\u001b[K     |████▋                           | 409 kB 22.1 MB/s eta 0:00:01\r\u001b[K     |████▊                           | 419 kB 22.1 MB/s eta 0:00:01\r\u001b[K     |████▉                           | 430 kB 22.1 MB/s eta 0:00:01\r\u001b[K     |█████                           | 440 kB 22.1 MB/s eta 0:00:01\r\u001b[K     |█████                           | 450 kB 22.1 MB/s eta 0:00:01\r\u001b[K     |█████▏                          | 460 kB 22.1 MB/s eta 0:00:01\r\u001b[K     |█████▎                          | 471 kB 22.1 MB/s eta 0:00:01\r\u001b[K     |█████▍                          | 481 kB 22.1 MB/s eta 0:00:01\r\u001b[K     |█████▌                          | 491 kB 22.1 MB/s eta 0:00:01\r\u001b[K     |█████▋                          | 501 kB 22.1 MB/s eta 0:00:01\r\u001b[K     |█████▊                          | 512 kB 22.1 MB/s eta 0:00:01\r\u001b[K     |█████▉                          | 522 kB 22.1 MB/s eta 0:00:01\r\u001b[K     |██████                          | 532 kB 22.1 MB/s eta 0:00:01\r\u001b[K     |██████                          | 542 kB 22.1 MB/s eta 0:00:01\r\u001b[K     |██████▏                         | 552 kB 22.1 MB/s eta 0:00:01\r\u001b[K     |██████▎                         | 563 kB 22.1 MB/s eta 0:00:01\r\u001b[K     |██████▍                         | 573 kB 22.1 MB/s eta 0:00:01\r\u001b[K     |██████▌                         | 583 kB 22.1 MB/s eta 0:00:01\r\u001b[K     |██████▋                         | 593 kB 22.1 MB/s eta 0:00:01\r\u001b[K     |██████▊                         | 604 kB 22.1 MB/s eta 0:00:01\r\u001b[K     |██████▉                         | 614 kB 22.1 MB/s eta 0:00:01\r\u001b[K     |███████                         | 624 kB 22.1 MB/s eta 0:00:01\r\u001b[K     |███████                         | 634 kB 22.1 MB/s eta 0:00:01\r\u001b[K     |███████▏                        | 645 kB 22.1 MB/s eta 0:00:01\r\u001b[K     |███████▎                        | 655 kB 22.1 MB/s eta 0:00:01\r\u001b[K     |███████▍                        | 665 kB 22.1 MB/s eta 0:00:01\r\u001b[K     |███████▌                        | 675 kB 22.1 MB/s eta 0:00:01\r\u001b[K     |███████▋                        | 686 kB 22.1 MB/s eta 0:00:01\r\u001b[K     |███████▊                        | 696 kB 22.1 MB/s eta 0:00:01\r\u001b[K     |███████▉                        | 706 kB 22.1 MB/s eta 0:00:01\r\u001b[K     |████████                        | 716 kB 22.1 MB/s eta 0:00:01\r\u001b[K     |████████                        | 727 kB 22.1 MB/s eta 0:00:01\r\u001b[K     |████████▏                       | 737 kB 22.1 MB/s eta 0:00:01\r\u001b[K     |████████▍                       | 747 kB 22.1 MB/s eta 0:00:01\r\u001b[K     |████████▌                       | 757 kB 22.1 MB/s eta 0:00:01\r\u001b[K     |████████▋                       | 768 kB 22.1 MB/s eta 0:00:01\r\u001b[K     |████████▊                       | 778 kB 22.1 MB/s eta 0:00:01\r\u001b[K     |████████▉                       | 788 kB 22.1 MB/s eta 0:00:01\r\u001b[K     |█████████                       | 798 kB 22.1 MB/s eta 0:00:01\r\u001b[K     |█████████                       | 808 kB 22.1 MB/s eta 0:00:01\r\u001b[K     |█████████▏                      | 819 kB 22.1 MB/s eta 0:00:01\r\u001b[K     |█████████▎                      | 829 kB 22.1 MB/s eta 0:00:01\r\u001b[K     |█████████▍                      | 839 kB 22.1 MB/s eta 0:00:01\r\u001b[K     |█████████▌                      | 849 kB 22.1 MB/s eta 0:00:01\r\u001b[K     |█████████▋                      | 860 kB 22.1 MB/s eta 0:00:01\r\u001b[K     |█████████▊                      | 870 kB 22.1 MB/s eta 0:00:01\r\u001b[K     |█████████▉                      | 880 kB 22.1 MB/s eta 0:00:01\r\u001b[K     |██████████                      | 890 kB 22.1 MB/s eta 0:00:01\r\u001b[K     |██████████                      | 901 kB 22.1 MB/s eta 0:00:01\r\u001b[K     |██████████▏                     | 911 kB 22.1 MB/s eta 0:00:01\r\u001b[K     |██████████▎                     | 921 kB 22.1 MB/s eta 0:00:01\r\u001b[K     |██████████▍                     | 931 kB 22.1 MB/s eta 0:00:01\r\u001b[K     |██████████▌                     | 942 kB 22.1 MB/s eta 0:00:01\r\u001b[K     |██████████▋                     | 952 kB 22.1 MB/s eta 0:00:01\r\u001b[K     |██████████▊                     | 962 kB 22.1 MB/s eta 0:00:01\r\u001b[K     |██████████▉                     | 972 kB 22.1 MB/s eta 0:00:01\r\u001b[K     |███████████                     | 983 kB 22.1 MB/s eta 0:00:01\r\u001b[K     |███████████                     | 993 kB 22.1 MB/s eta 0:00:01\r\u001b[K     |███████████▏                    | 1.0 MB 22.1 MB/s eta 0:00:01\r\u001b[K     |███████████▎                    | 1.0 MB 22.1 MB/s eta 0:00:01\r\u001b[K     |███████████▍                    | 1.0 MB 22.1 MB/s eta 0:00:01\r\u001b[K     |███████████▌                    | 1.0 MB 22.1 MB/s eta 0:00:01\r\u001b[K     |███████████▋                    | 1.0 MB 22.1 MB/s eta 0:00:01\r\u001b[K     |███████████▊                    | 1.1 MB 22.1 MB/s eta 0:00:01\r\u001b[K     |███████████▉                    | 1.1 MB 22.1 MB/s eta 0:00:01\r\u001b[K     |████████████                    | 1.1 MB 22.1 MB/s eta 0:00:01\r\u001b[K     |████████████                    | 1.1 MB 22.1 MB/s eta 0:00:01\r\u001b[K     |████████████▏                   | 1.1 MB 22.1 MB/s eta 0:00:01\r\u001b[K     |████████████▎                   | 1.1 MB 22.1 MB/s eta 0:00:01\r\u001b[K     |████████████▌                   | 1.1 MB 22.1 MB/s eta 0:00:01\r\u001b[K     |████████████▋                   | 1.1 MB 22.1 MB/s eta 0:00:01\r\u001b[K     |████████████▊                   | 1.1 MB 22.1 MB/s eta 0:00:01\r\u001b[K     |████████████▉                   | 1.1 MB 22.1 MB/s eta 0:00:01\r\u001b[K     |█████████████                   | 1.2 MB 22.1 MB/s eta 0:00:01\r\u001b[K     |█████████████                   | 1.2 MB 22.1 MB/s eta 0:00:01\r\u001b[K     |█████████████▏                  | 1.2 MB 22.1 MB/s eta 0:00:01\r\u001b[K     |█████████████▎                  | 1.2 MB 22.1 MB/s eta 0:00:01\r\u001b[K     |█████████████▍                  | 1.2 MB 22.1 MB/s eta 0:00:01\r\u001b[K     |█████████████▌                  | 1.2 MB 22.1 MB/s eta 0:00:01\r\u001b[K     |█████████████▋                  | 1.2 MB 22.1 MB/s eta 0:00:01\r\u001b[K     |█████████████▊                  | 1.2 MB 22.1 MB/s eta 0:00:01\r\u001b[K     |█████████████▉                  | 1.2 MB 22.1 MB/s eta 0:00:01\r\u001b[K     |██████████████                  | 1.2 MB 22.1 MB/s eta 0:00:01\r\u001b[K     |██████████████                  | 1.3 MB 22.1 MB/s eta 0:00:01\r\u001b[K     |██████████████▏                 | 1.3 MB 22.1 MB/s eta 0:00:01\r\u001b[K     |██████████████▎                 | 1.3 MB 22.1 MB/s eta 0:00:01\r\u001b[K     |██████████████▍                 | 1.3 MB 22.1 MB/s eta 0:00:01\r\u001b[K     |██████████████▌                 | 1.3 MB 22.1 MB/s eta 0:00:01\r\u001b[K     |██████████████▋                 | 1.3 MB 22.1 MB/s eta 0:00:01\r\u001b[K     |██████████████▊                 | 1.3 MB 22.1 MB/s eta 0:00:01\r\u001b[K     |██████████████▉                 | 1.3 MB 22.1 MB/s eta 0:00:01\r\u001b[K     |███████████████                 | 1.3 MB 22.1 MB/s eta 0:00:01\r\u001b[K     |███████████████                 | 1.4 MB 22.1 MB/s eta 0:00:01\r\u001b[K     |███████████████▏                | 1.4 MB 22.1 MB/s eta 0:00:01\r\u001b[K     |███████████████▎                | 1.4 MB 22.1 MB/s eta 0:00:01\r\u001b[K     |███████████████▍                | 1.4 MB 22.1 MB/s eta 0:00:01\r\u001b[K     |███████████████▌                | 1.4 MB 22.1 MB/s eta 0:00:01\r\u001b[K     |███████████████▋                | 1.4 MB 22.1 MB/s eta 0:00:01\r\u001b[K     |███████████████▊                | 1.4 MB 22.1 MB/s eta 0:00:01\r\u001b[K     |███████████████▉                | 1.4 MB 22.1 MB/s eta 0:00:01\r\u001b[K     |████████████████                | 1.4 MB 22.1 MB/s eta 0:00:01\r\u001b[K     |████████████████                | 1.4 MB 22.1 MB/s eta 0:00:01\r\u001b[K     |████████████████▏               | 1.5 MB 22.1 MB/s eta 0:00:01\r\u001b[K     |████████████████▎               | 1.5 MB 22.1 MB/s eta 0:00:01\r\u001b[K     |████████████████▍               | 1.5 MB 22.1 MB/s eta 0:00:01\r\u001b[K     |████████████████▋               | 1.5 MB 22.1 MB/s eta 0:00:01\r\u001b[K     |████████████████▊               | 1.5 MB 22.1 MB/s eta 0:00:01\r\u001b[K     |████████████████▉               | 1.5 MB 22.1 MB/s eta 0:00:01\r\u001b[K     |█████████████████               | 1.5 MB 22.1 MB/s eta 0:00:01\r\u001b[K     |█████████████████               | 1.5 MB 22.1 MB/s eta 0:00:01\r\u001b[K     |█████████████████▏              | 1.5 MB 22.1 MB/s eta 0:00:01\r\u001b[K     |█████████████████▎              | 1.5 MB 22.1 MB/s eta 0:00:01\r\u001b[K     |█████████████████▍              | 1.6 MB 22.1 MB/s eta 0:00:01\r\u001b[K     |█████████████████▌              | 1.6 MB 22.1 MB/s eta 0:00:01\r\u001b[K     |█████████████████▋              | 1.6 MB 22.1 MB/s eta 0:00:01\r\u001b[K     |█████████████████▊              | 1.6 MB 22.1 MB/s eta 0:00:01\r\u001b[K     |█████████████████▉              | 1.6 MB 22.1 MB/s eta 0:00:01\r\u001b[K     |██████████████████              | 1.6 MB 22.1 MB/s eta 0:00:01\r\u001b[K     |██████████████████              | 1.6 MB 22.1 MB/s eta 0:00:01\r\u001b[K     |██████████████████▏             | 1.6 MB 22.1 MB/s eta 0:00:01\r\u001b[K     |██████████████████▎             | 1.6 MB 22.1 MB/s eta 0:00:01\r\u001b[K     |██████████████████▍             | 1.6 MB 22.1 MB/s eta 0:00:01\r\u001b[K     |██████████████████▌             | 1.7 MB 22.1 MB/s eta 0:00:01\r\u001b[K     |██████████████████▋             | 1.7 MB 22.1 MB/s eta 0:00:01\r\u001b[K     |██████████████████▊             | 1.7 MB 22.1 MB/s eta 0:00:01\r\u001b[K     |██████████████████▉             | 1.7 MB 22.1 MB/s eta 0:00:01\r\u001b[K     |███████████████████             | 1.7 MB 22.1 MB/s eta 0:00:01\r\u001b[K     |███████████████████             | 1.7 MB 22.1 MB/s eta 0:00:01\r\u001b[K     |███████████████████▏            | 1.7 MB 22.1 MB/s eta 0:00:01\r\u001b[K     |███████████████████▎            | 1.7 MB 22.1 MB/s eta 0:00:01\r\u001b[K     |███████████████████▍            | 1.7 MB 22.1 MB/s eta 0:00:01\r\u001b[K     |███████████████████▌            | 1.8 MB 22.1 MB/s eta 0:00:01\r\u001b[K     |███████████████████▋            | 1.8 MB 22.1 MB/s eta 0:00:01\r\u001b[K     |███████████████████▊            | 1.8 MB 22.1 MB/s eta 0:00:01\r\u001b[K     |███████████████████▉            | 1.8 MB 22.1 MB/s eta 0:00:01\r\u001b[K     |████████████████████            | 1.8 MB 22.1 MB/s eta 0:00:01\r\u001b[K     |████████████████████            | 1.8 MB 22.1 MB/s eta 0:00:01\r\u001b[K     |████████████████████▏           | 1.8 MB 22.1 MB/s eta 0:00:01\r\u001b[K     |████████████████████▎           | 1.8 MB 22.1 MB/s eta 0:00:01\r\u001b[K     |████████████████████▍           | 1.8 MB 22.1 MB/s eta 0:00:01\r\u001b[K     |████████████████████▌           | 1.8 MB 22.1 MB/s eta 0:00:01\r\u001b[K     |████████████████████▊           | 1.9 MB 22.1 MB/s eta 0:00:01\r\u001b[K     |████████████████████▉           | 1.9 MB 22.1 MB/s eta 0:00:01\r\u001b[K     |█████████████████████           | 1.9 MB 22.1 MB/s eta 0:00:01\r\u001b[K     |█████████████████████           | 1.9 MB 22.1 MB/s eta 0:00:01\r\u001b[K     |█████████████████████▏          | 1.9 MB 22.1 MB/s eta 0:00:01\r\u001b[K     |█████████████████████▎          | 1.9 MB 22.1 MB/s eta 0:00:01\r\u001b[K     |█████████████████████▍          | 1.9 MB 22.1 MB/s eta 0:00:01\r\u001b[K     |█████████████████████▌          | 1.9 MB 22.1 MB/s eta 0:00:01\r\u001b[K     |█████████████████████▋          | 1.9 MB 22.1 MB/s eta 0:00:01\r\u001b[K     |█████████████████████▊          | 1.9 MB 22.1 MB/s eta 0:00:01\r\u001b[K     |█████████████████████▉          | 2.0 MB 22.1 MB/s eta 0:00:01\r\u001b[K     |██████████████████████          | 2.0 MB 22.1 MB/s eta 0:00:01\r\u001b[K     |██████████████████████          | 2.0 MB 22.1 MB/s eta 0:00:01\r\u001b[K     |██████████████████████▏         | 2.0 MB 22.1 MB/s eta 0:00:01\r\u001b[K     |██████████████████████▎         | 2.0 MB 22.1 MB/s eta 0:00:01\r\u001b[K     |██████████████████████▍         | 2.0 MB 22.1 MB/s eta 0:00:01\r\u001b[K     |██████████████████████▌         | 2.0 MB 22.1 MB/s eta 0:00:01\r\u001b[K     |██████████████████████▋         | 2.0 MB 22.1 MB/s eta 0:00:01\r\u001b[K     |██████████████████████▊         | 2.0 MB 22.1 MB/s eta 0:00:01\r\u001b[K     |██████████████████████▉         | 2.0 MB 22.1 MB/s eta 0:00:01\r\u001b[K     |███████████████████████         | 2.1 MB 22.1 MB/s eta 0:00:01\r\u001b[K     |███████████████████████         | 2.1 MB 22.1 MB/s eta 0:00:01\r\u001b[K     |███████████████████████▏        | 2.1 MB 22.1 MB/s eta 0:00:01\r\u001b[K     |███████████████████████▎        | 2.1 MB 22.1 MB/s eta 0:00:01\r\u001b[K     |███████████████████████▍        | 2.1 MB 22.1 MB/s eta 0:00:01\r\u001b[K     |███████████████████████▌        | 2.1 MB 22.1 MB/s eta 0:00:01\r\u001b[K     |███████████████████████▋        | 2.1 MB 22.1 MB/s eta 0:00:01\r\u001b[K     |███████████████████████▊        | 2.1 MB 22.1 MB/s eta 0:00:01\r\u001b[K     |███████████████████████▉        | 2.1 MB 22.1 MB/s eta 0:00:01\r\u001b[K     |████████████████████████        | 2.2 MB 22.1 MB/s eta 0:00:01\r\u001b[K     |████████████████████████        | 2.2 MB 22.1 MB/s eta 0:00:01\r\u001b[K     |████████████████████████▏       | 2.2 MB 22.1 MB/s eta 0:00:01\r\u001b[K     |████████████████████████▎       | 2.2 MB 22.1 MB/s eta 0:00:01\r\u001b[K     |████████████████████████▍       | 2.2 MB 22.1 MB/s eta 0:00:01\r\u001b[K     |████████████████████████▌       | 2.2 MB 22.1 MB/s eta 0:00:01\r\u001b[K     |████████████████████████▋       | 2.2 MB 22.1 MB/s eta 0:00:01\r\u001b[K     |████████████████████████▊       | 2.2 MB 22.1 MB/s eta 0:00:01\r\u001b[K     |█████████████████████████       | 2.2 MB 22.1 MB/s eta 0:00:01\r\u001b[K     |█████████████████████████       | 2.2 MB 22.1 MB/s eta 0:00:01\r\u001b[K     |█████████████████████████▏      | 2.3 MB 22.1 MB/s eta 0:00:01\r\u001b[K     |█████████████████████████▎      | 2.3 MB 22.1 MB/s eta 0:00:01\r\u001b[K     |█████████████████████████▍      | 2.3 MB 22.1 MB/s eta 0:00:01\r\u001b[K     |█████████████████████████▌      | 2.3 MB 22.1 MB/s eta 0:00:01\r\u001b[K     |█████████████████████████▋      | 2.3 MB 22.1 MB/s eta 0:00:01\r\u001b[K     |█████████████████████████▊      | 2.3 MB 22.1 MB/s eta 0:00:01\r\u001b[K     |█████████████████████████▉      | 2.3 MB 22.1 MB/s eta 0:00:01\r\u001b[K     |██████████████████████████      | 2.3 MB 22.1 MB/s eta 0:00:01\r\u001b[K     |██████████████████████████      | 2.3 MB 22.1 MB/s eta 0:00:01\r\u001b[K     |██████████████████████████▏     | 2.3 MB 22.1 MB/s eta 0:00:01\r\u001b[K     |██████████████████████████▎     | 2.4 MB 22.1 MB/s eta 0:00:01\r\u001b[K     |██████████████████████████▍     | 2.4 MB 22.1 MB/s eta 0:00:01\r\u001b[K     |██████████████████████████▌     | 2.4 MB 22.1 MB/s eta 0:00:01\r\u001b[K     |██████████████████████████▋     | 2.4 MB 22.1 MB/s eta 0:00:01\r\u001b[K     |██████████████████████████▊     | 2.4 MB 22.1 MB/s eta 0:00:01\r\u001b[K     |██████████████████████████▉     | 2.4 MB 22.1 MB/s eta 0:00:01\r\u001b[K     |███████████████████████████     | 2.4 MB 22.1 MB/s eta 0:00:01\r\u001b[K     |███████████████████████████     | 2.4 MB 22.1 MB/s eta 0:00:01\r\u001b[K     |███████████████████████████▏    | 2.4 MB 22.1 MB/s eta 0:00:01\r\u001b[K     |███████████████████████████▎    | 2.4 MB 22.1 MB/s eta 0:00:01\r\u001b[K     |███████████████████████████▍    | 2.5 MB 22.1 MB/s eta 0:00:01\r\u001b[K     |███████████████████████████▌    | 2.5 MB 22.1 MB/s eta 0:00:01\r\u001b[K     |███████████████████████████▋    | 2.5 MB 22.1 MB/s eta 0:00:01\r\u001b[K     |███████████████████████████▊    | 2.5 MB 22.1 MB/s eta 0:00:01\r\u001b[K     |███████████████████████████▉    | 2.5 MB 22.1 MB/s eta 0:00:01\r\u001b[K     |████████████████████████████    | 2.5 MB 22.1 MB/s eta 0:00:01\r\u001b[K     |████████████████████████████    | 2.5 MB 22.1 MB/s eta 0:00:01\r\u001b[K     |████████████████████████████▏   | 2.5 MB 22.1 MB/s eta 0:00:01\r\u001b[K     |████████████████████████████▎   | 2.5 MB 22.1 MB/s eta 0:00:01\r\u001b[K     |████████████████████████████▍   | 2.5 MB 22.1 MB/s eta 0:00:01\r\u001b[K     |████████████████████████████▌   | 2.6 MB 22.1 MB/s eta 0:00:01\r\u001b[K     |████████████████████████████▋   | 2.6 MB 22.1 MB/s eta 0:00:01\r\u001b[K     |████████████████████████████▊   | 2.6 MB 22.1 MB/s eta 0:00:01\r\u001b[K     |████████████████████████████▉   | 2.6 MB 22.1 MB/s eta 0:00:01\r\u001b[K     |█████████████████████████████   | 2.6 MB 22.1 MB/s eta 0:00:01\r\u001b[K     |█████████████████████████████▏  | 2.6 MB 22.1 MB/s eta 0:00:01\r\u001b[K     |█████████████████████████████▎  | 2.6 MB 22.1 MB/s eta 0:00:01\r\u001b[K     |█████████████████████████████▍  | 2.6 MB 22.1 MB/s eta 0:00:01\r\u001b[K     |█████████████████████████████▌  | 2.6 MB 22.1 MB/s eta 0:00:01\r\u001b[K     |█████████████████████████████▋  | 2.7 MB 22.1 MB/s eta 0:00:01\r\u001b[K     |█████████████████████████████▊  | 2.7 MB 22.1 MB/s eta 0:00:01\r\u001b[K     |█████████████████████████████▉  | 2.7 MB 22.1 MB/s eta 0:00:01\r\u001b[K     |██████████████████████████████  | 2.7 MB 22.1 MB/s eta 0:00:01\r\u001b[K     |██████████████████████████████  | 2.7 MB 22.1 MB/s eta 0:00:01\r\u001b[K     |██████████████████████████████▏ | 2.7 MB 22.1 MB/s eta 0:00:01\r\u001b[K     |██████████████████████████████▎ | 2.7 MB 22.1 MB/s eta 0:00:01\r\u001b[K     |██████████████████████████████▍ | 2.7 MB 22.1 MB/s eta 0:00:01\r\u001b[K     |██████████████████████████████▌ | 2.7 MB 22.1 MB/s eta 0:00:01\r\u001b[K     |██████████████████████████████▋ | 2.7 MB 22.1 MB/s eta 0:00:01\r\u001b[K     |██████████████████████████████▊ | 2.8 MB 22.1 MB/s eta 0:00:01\r\u001b[K     |██████████████████████████████▉ | 2.8 MB 22.1 MB/s eta 0:00:01\r\u001b[K     |███████████████████████████████ | 2.8 MB 22.1 MB/s eta 0:00:01\r\u001b[K     |███████████████████████████████ | 2.8 MB 22.1 MB/s eta 0:00:01\r\u001b[K     |███████████████████████████████▏| 2.8 MB 22.1 MB/s eta 0:00:01\r\u001b[K     |███████████████████████████████▎| 2.8 MB 22.1 MB/s eta 0:00:01\r\u001b[K     |███████████████████████████████▍| 2.8 MB 22.1 MB/s eta 0:00:01\r\u001b[K     |███████████████████████████████▌| 2.8 MB 22.1 MB/s eta 0:00:01\r\u001b[K     |███████████████████████████████▋| 2.8 MB 22.1 MB/s eta 0:00:01\r\u001b[K     |███████████████████████████████▊| 2.8 MB 22.1 MB/s eta 0:00:01\r\u001b[K     |███████████████████████████████▉| 2.9 MB 22.1 MB/s eta 0:00:01\r\u001b[K     |████████████████████████████████| 2.9 MB 22.1 MB/s eta 0:00:01\r\u001b[K     |████████████████████████████████| 2.9 MB 22.1 MB/s \n",
            "\u001b[?25hCollecting six\n",
            "  Downloading six-1.16.0-py2.py3-none-any.whl (11 kB)\n",
            "Collecting numpy>=1.7\n",
            "  Downloading numpy-1.21.4-cp37-cp37m-manylinux_2_12_x86_64.manylinux2010_x86_64.whl (15.7 MB)\n",
            "\u001b[K     |████████████████████████████████| 15.7 MB 59 kB/s \n",
            "\u001b[?25hInstalling collected packages: six, numpy, h5py\n",
            "  Attempting uninstall: six\n",
            "    Found existing installation: six 1.15.0\n",
            "    Uninstalling six-1.15.0:\n",
            "      Successfully uninstalled six-1.15.0\n",
            "  Attempting uninstall: numpy\n",
            "    Found existing installation: numpy 1.19.5\n",
            "    Uninstalling numpy-1.19.5:\n",
            "      Successfully uninstalled numpy-1.19.5\n",
            "  Attempting uninstall: h5py\n",
            "    Found existing installation: h5py 3.1.0\n",
            "    Uninstalling h5py-3.1.0:\n",
            "      Successfully uninstalled h5py-3.1.0\n",
            "\u001b[31mERROR: pip's dependency resolver does not currently take into account all the packages that are installed. This behaviour is the source of the following dependency conflicts.\n",
            "tensorflow-probability 0.14.1 requires gast>=0.3.2, but you have gast 0.2.2 which is incompatible.\n",
            "google-colab 1.0.0 requires six~=1.15.0, but you have six 1.16.0 which is incompatible.\n",
            "datascience 0.10.6 requires folium==0.2.1, but you have folium 0.8.3 which is incompatible.\n",
            "albumentations 0.1.12 requires imgaug<0.2.7,>=0.2.5, but you have imgaug 0.2.9 which is incompatible.\u001b[0m\n",
            "Successfully installed h5py-2.10.0 numpy-1.21.4 six-1.16.0\n"
          ]
        },
        {
          "output_type": "display_data",
          "data": {
            "application/vnd.colab-display-data+json": {
              "pip_warning": {
                "packages": [
                  "h5py",
                  "numpy",
                  "six"
                ]
              }
            }
          },
          "metadata": {}
        }
      ]
    },
    {
      "cell_type": "code",
      "metadata": {
        "colab": {
          "base_uri": "https://localhost:8080/"
        },
        "id": "vRBPYAHYMKsP",
        "outputId": "104deb24-e705-43d7-98c2-1e86d4933fde"
      },
      "source": [
        "!pip install matchzoo"
      ],
      "execution_count": 6,
      "outputs": [
        {
          "output_type": "stream",
          "name": "stdout",
          "text": [
            "Collecting matchzoo\n",
            "  Downloading MatchZoo-2.2.0.tar.gz (91 kB)\n",
            "\u001b[?25l\r\u001b[K     |███▋                            | 10 kB 21.2 MB/s eta 0:00:01\r\u001b[K     |███████▏                        | 20 kB 24.2 MB/s eta 0:00:01\r\u001b[K     |██████████▊                     | 30 kB 26.8 MB/s eta 0:00:01\r\u001b[K     |██████████████▎                 | 40 kB 27.0 MB/s eta 0:00:01\r\u001b[K     |██████████████████              | 51 kB 29.2 MB/s eta 0:00:01\r\u001b[K     |█████████████████████▌          | 61 kB 31.5 MB/s eta 0:00:01\r\u001b[K     |█████████████████████████       | 71 kB 28.1 MB/s eta 0:00:01\r\u001b[K     |████████████████████████████▋   | 81 kB 28.6 MB/s eta 0:00:01\r\u001b[K     |████████████████████████████████| 91 kB 8.7 MB/s \n",
            "\u001b[?25hRequirement already satisfied: keras>=2.3.0 in /usr/local/lib/python3.7/dist-packages (from matchzoo) (2.3.1)\n",
            "Requirement already satisfied: nltk>=3.2.3 in /usr/local/lib/python3.7/dist-packages (from matchzoo) (3.2.5)\n",
            "Requirement already satisfied: numpy>=1.14 in /usr/local/lib/python3.7/dist-packages (from matchzoo) (1.19.5)\n",
            "Requirement already satisfied: tqdm>=4.19.4 in /usr/local/lib/python3.7/dist-packages (from matchzoo) (4.62.3)\n",
            "Requirement already satisfied: dill>=0.2.7.1 in /usr/local/lib/python3.7/dist-packages (from matchzoo) (0.3.4)\n",
            "Requirement already satisfied: pandas>=0.23.1 in /usr/local/lib/python3.7/dist-packages (from matchzoo) (1.1.5)\n",
            "Requirement already satisfied: networkx>=2.1 in /usr/local/lib/python3.7/dist-packages (from matchzoo) (2.6.3)\n",
            "Requirement already satisfied: h5py>=2.8.0 in /usr/local/lib/python3.7/dist-packages (from matchzoo) (3.1.0)\n",
            "Requirement already satisfied: hyperopt>=0.1.1 in /usr/local/lib/python3.7/dist-packages (from matchzoo) (0.1.2)\n",
            "Requirement already satisfied: cached-property in /usr/local/lib/python3.7/dist-packages (from h5py>=2.8.0->matchzoo) (1.5.2)\n",
            "Requirement already satisfied: future in /usr/local/lib/python3.7/dist-packages (from hyperopt>=0.1.1->matchzoo) (0.16.0)\n",
            "Requirement already satisfied: scipy in /usr/local/lib/python3.7/dist-packages (from hyperopt>=0.1.1->matchzoo) (1.4.1)\n",
            "Requirement already satisfied: six in /usr/local/lib/python3.7/dist-packages (from hyperopt>=0.1.1->matchzoo) (1.15.0)\n",
            "Requirement already satisfied: pymongo in /usr/local/lib/python3.7/dist-packages (from hyperopt>=0.1.1->matchzoo) (3.12.0)\n",
            "Requirement already satisfied: pyyaml in /usr/local/lib/python3.7/dist-packages (from keras>=2.3.0->matchzoo) (3.13)\n",
            "Requirement already satisfied: keras-preprocessing>=1.0.5 in /usr/local/lib/python3.7/dist-packages (from keras>=2.3.0->matchzoo) (1.1.2)\n",
            "Requirement already satisfied: keras-applications>=1.0.6 in /usr/local/lib/python3.7/dist-packages (from keras>=2.3.0->matchzoo) (1.0.8)\n",
            "Requirement already satisfied: python-dateutil>=2.7.3 in /usr/local/lib/python3.7/dist-packages (from pandas>=0.23.1->matchzoo) (2.8.2)\n",
            "Requirement already satisfied: pytz>=2017.2 in /usr/local/lib/python3.7/dist-packages (from pandas>=0.23.1->matchzoo) (2018.9)\n",
            "Building wheels for collected packages: matchzoo\n",
            "  Building wheel for matchzoo (setup.py) ... \u001b[?25l\u001b[?25hdone\n",
            "  Created wheel for matchzoo: filename=MatchZoo-2.2.0-py3-none-any.whl size=151779 sha256=29e9e4b6b1eb0b73661acbc5d71af758ca8e6390ba35f84f2f40c21ecad1d9ba\n",
            "  Stored in directory: /root/.cache/pip/wheels/46/35/e3/70d4fccf0cfa8a617a50d37b3da011fe34bd977f7e126e9878\n",
            "Successfully built matchzoo\n",
            "Installing collected packages: matchzoo\n",
            "Successfully installed matchzoo-2.2.0\n"
          ]
        }
      ]
    },
    {
      "cell_type": "code",
      "metadata": {
        "colab": {
          "base_uri": "https://localhost:8080/"
        },
        "id": "_2e-_hIIMi1I",
        "outputId": "832afb9f-896d-4028-da30-6de2075a3dcc"
      },
      "source": [
        "#https://github.com/NTMC-Community/MatchZoo/blob/master/tutorials/wikiqa/init.ipynb\n",
        "import keras\n",
        "import pandas as pd\n",
        "import numpy as np\n",
        "import matchzoo as mz\n",
        "import json"
      ],
      "execution_count": 3,
      "outputs": [
        {
          "output_type": "stream",
          "name": "stderr",
          "text": [
            "Using TensorFlow backend.\n"
          ]
        }
      ]
    },
    {
      "cell_type": "code",
      "metadata": {
        "colab": {
          "base_uri": "https://localhost:8080/"
        },
        "id": "8-Nix7xkMk1H",
        "outputId": "c5aefcd8-2230-482b-b8ec-20eb9ecd7d3b"
      },
      "source": [
        "print('data loading ...')\n",
        "train_pack_raw = mz.datasets.wiki_qa.load_data('train', task='ranking')\n",
        "dev_pack_raw = mz.datasets.wiki_qa.load_data('dev', task='ranking', filtered=True)\n",
        "test_pack_raw = mz.datasets.wiki_qa.load_data('test', task='ranking', filtered=True)\n",
        "print('data loaded as `train_pack_raw` `dev_pack_raw` `test_pack_raw`')\n",
        "\n",
        "ranking_task = mz.tasks.Ranking(loss=mz.losses.RankHingeLoss())\n",
        "ranking_task.metrics = [\n",
        "    mz.metrics.NormalizedDiscountedCumulativeGain(k=3),\n",
        "    mz.metrics.NormalizedDiscountedCumulativeGain(k=5),\n",
        "    mz.metrics.MeanAveragePrecision()\n",
        "]\n",
        "print(\"`ranking_task` initialized with metrics\", ranking_task.metrics)\n",
        "\n",
        "print(\"loading embedding ...\")\n",
        "glove_embedding = mz.datasets.embeddings.load_glove_embedding(dimension=300)\n",
        "print(\"embedding loaded as `glove_embedding`\")"
      ],
      "execution_count": 4,
      "outputs": [
        {
          "output_type": "stream",
          "name": "stdout",
          "text": [
            "data loading ...\n",
            "data loaded as `train_pack_raw` `dev_pack_raw` `test_pack_raw`\n",
            "`ranking_task` initialized with metrics [normalized_discounted_cumulative_gain@3(0.0), normalized_discounted_cumulative_gain@5(0.0), mean_average_precision(0.0)]\n",
            "loading embedding ...\n",
            "embedding loaded as `glove_embedding`\n"
          ]
        }
      ]
    },
    {
      "cell_type": "code",
      "metadata": {
        "id": "ZzdMWDHkNHi2"
      },
      "source": [
        "\n",
        "def append_params_to_readme(model):\n",
        "    import tabulate\n",
        "    \n",
        "    with open('README.rst', 'a+') as f:\n",
        "        subtitle = model.params['model_class'].__name__\n",
        "        line = '#' * len(subtitle)\n",
        "        subtitle = subtitle + '\\n' + line + '\\n\\n'\n",
        "        f.write(subtitle)\n",
        "        \n",
        "        df = model.params.to_frame()[['Name', 'Value']]\n",
        "        table = tabulate.tabulate(df, tablefmt='rst', headers='keys') + '\\n\\n'\n",
        "        f.write(table)"
      ],
      "execution_count": 5,
      "outputs": []
    },
    {
      "cell_type": "code",
      "metadata": {
        "colab": {
          "base_uri": "https://localhost:8080/"
        },
        "id": "Qi5n7MqfOE8b",
        "outputId": "2997809c-6052-452b-85cb-83929a9f68cf"
      },
      "source": [
        "import nltk\n",
        "nltk.download('punkt')"
      ],
      "execution_count": 6,
      "outputs": [
        {
          "output_type": "stream",
          "name": "stdout",
          "text": [
            "[nltk_data] Downloading package punkt to /root/nltk_data...\n",
            "[nltk_data]   Package punkt is already up-to-date!\n"
          ]
        },
        {
          "output_type": "execute_result",
          "data": {
            "text/plain": [
              "True"
            ]
          },
          "metadata": {},
          "execution_count": 6
        }
      ]
    },
    {
      "cell_type": "code",
      "metadata": {
        "colab": {
          "base_uri": "https://localhost:8080/"
        },
        "id": "qRmazr5mNdM5",
        "outputId": "1133c365-574b-403b-8e72-9a74489399c5"
      },
      "source": [
        "#https://github.com/NTMC-Community/MatchZoo/blob/master/tutorials/wikiqa/drmm.ipynb\n",
        "preprocessor = mz.preprocessors.BasicPreprocessor(fixed_length_left=10, fixed_length_right=100, remove_stop_words=False)\n",
        "train_pack_processed = preprocessor.fit_transform(train_pack_raw)\n",
        "dev_pack_processed = preprocessor.transform(dev_pack_raw)\n",
        "test_pack_processed = preprocessor.transform(test_pack_raw)"
      ],
      "execution_count": 7,
      "outputs": [
        {
          "output_type": "stream",
          "name": "stderr",
          "text": [
            "Processing text_left with chain_transform of Tokenize => Lowercase => PuncRemoval: 100%|██████████| 2118/2118 [00:00<00:00, 7585.90it/s]\n",
            "Processing text_right with chain_transform of Tokenize => Lowercase => PuncRemoval: 100%|██████████| 18841/18841 [00:04<00:00, 4347.57it/s]\n",
            "Processing text_right with append: 100%|██████████| 18841/18841 [00:00<00:00, 655644.92it/s]\n",
            "Building FrequencyFilter from a datapack.: 100%|██████████| 18841/18841 [00:00<00:00, 106657.35it/s]\n",
            "Processing text_right with transform: 100%|██████████| 18841/18841 [00:00<00:00, 47981.75it/s]\n",
            "Processing text_left with extend: 100%|██████████| 2118/2118 [00:00<00:00, 334420.11it/s]\n",
            "Processing text_right with extend: 100%|██████████| 18841/18841 [00:00<00:00, 417015.64it/s]\n",
            "Building Vocabulary from a datapack.: 100%|██████████| 473697/473697 [00:00<00:00, 2670013.62it/s]\n",
            "Processing text_left with chain_transform of Tokenize => Lowercase => PuncRemoval: 100%|██████████| 2118/2118 [00:00<00:00, 7177.97it/s]\n",
            "Processing text_right with chain_transform of Tokenize => Lowercase => PuncRemoval: 100%|██████████| 18841/18841 [00:04<00:00, 4432.97it/s]\n",
            "Processing text_right with transform: 100%|██████████| 18841/18841 [00:00<00:00, 93954.65it/s]\n",
            "Processing text_left with transform: 100%|██████████| 2118/2118 [00:00<00:00, 134389.30it/s]\n",
            "Processing text_right with transform: 100%|██████████| 18841/18841 [00:00<00:00, 73565.24it/s]\n",
            "Processing length_left with len: 100%|██████████| 2118/2118 [00:00<00:00, 311124.43it/s]\n",
            "Processing length_right with len: 100%|██████████| 18841/18841 [00:00<00:00, 649266.98it/s]\n",
            "Processing text_left with transform: 100%|██████████| 2118/2118 [00:00<00:00, 94547.95it/s]\n",
            "Processing text_right with transform: 100%|██████████| 18841/18841 [00:00<00:00, 37467.40it/s]\n",
            "Processing text_left with chain_transform of Tokenize => Lowercase => PuncRemoval: 100%|██████████| 122/122 [00:00<00:00, 7069.21it/s]\n",
            "Processing text_right with chain_transform of Tokenize => Lowercase => PuncRemoval: 100%|██████████| 1115/1115 [00:00<00:00, 4424.73it/s]\n",
            "Processing text_right with transform: 100%|██████████| 1115/1115 [00:00<00:00, 74640.08it/s]\n",
            "Processing text_left with transform: 100%|██████████| 122/122 [00:00<00:00, 42895.89it/s]\n",
            "Processing text_right with transform: 100%|██████████| 1115/1115 [00:00<00:00, 68404.06it/s]\n",
            "Processing length_left with len: 100%|██████████| 122/122 [00:00<00:00, 69610.27it/s]\n",
            "Processing length_right with len: 100%|██████████| 1115/1115 [00:00<00:00, 254511.51it/s]\n",
            "Processing text_left with transform: 100%|██████████| 122/122 [00:00<00:00, 39446.89it/s]\n",
            "Processing text_right with transform: 100%|██████████| 1115/1115 [00:00<00:00, 58622.25it/s]\n",
            "Processing text_left with chain_transform of Tokenize => Lowercase => PuncRemoval: 100%|██████████| 237/237 [00:00<00:00, 8139.61it/s]\n",
            "Processing text_right with chain_transform of Tokenize => Lowercase => PuncRemoval: 100%|██████████| 2300/2300 [00:00<00:00, 4295.07it/s]\n",
            "Processing text_right with transform: 100%|██████████| 2300/2300 [00:00<00:00, 100755.11it/s]\n",
            "Processing text_left with transform: 100%|██████████| 237/237 [00:00<00:00, 122465.20it/s]\n",
            "Processing text_right with transform: 100%|██████████| 2300/2300 [00:00<00:00, 76706.97it/s]\n",
            "Processing length_left with len: 100%|██████████| 237/237 [00:00<00:00, 124318.42it/s]\n",
            "Processing length_right with len: 100%|██████████| 2300/2300 [00:00<00:00, 597109.38it/s]\n",
            "Processing text_left with transform: 100%|██████████| 237/237 [00:00<00:00, 95389.12it/s]\n",
            "Processing text_right with transform: 100%|██████████| 2300/2300 [00:00<00:00, 68215.98it/s]\n"
          ]
        }
      ]
    },
    {
      "cell_type": "code",
      "metadata": {
        "colab": {
          "base_uri": "https://localhost:8080/"
        },
        "id": "562uoWQIODpF",
        "outputId": "8cc8756c-b65b-4faf-dc95-16bf9ea4b092"
      },
      "source": [
        "preprocessor.context\n"
      ],
      "execution_count": 8,
      "outputs": [
        {
          "output_type": "execute_result",
          "data": {
            "text/plain": [
              "{'embedding_input_dim': 17483,\n",
              " 'filter_unit': <matchzoo.preprocessors.units.frequency_filter.FrequencyFilter at 0x7fc3c7e503d0>,\n",
              " 'input_shapes': [(10,), (100,)],\n",
              " 'vocab_size': 17483,\n",
              " 'vocab_unit': <matchzoo.preprocessors.units.vocabulary.Vocabulary at 0x7fc3c9ca1110>}"
            ]
          },
          "metadata": {},
          "execution_count": 8
        }
      ]
    },
    {
      "cell_type": "code",
      "metadata": {
        "id": "t6yGcYbSOk6X"
      },
      "source": [
        "ranking_task = mz.tasks.Ranking(loss=mz.losses.RankCrossEntropyLoss(num_neg=10))\n",
        "ranking_task.metrics = [\n",
        "    mz.metrics.NormalizedDiscountedCumulativeGain(k=3),\n",
        "    mz.metrics.NormalizedDiscountedCumulativeGain(k=5),\n",
        "    mz.metrics.MeanAveragePrecision()\n",
        "]"
      ],
      "execution_count": 9,
      "outputs": []
    },
    {
      "cell_type": "code",
      "metadata": {
        "colab": {
          "base_uri": "https://localhost:8080/"
        },
        "id": "05UKF4JSOmAB",
        "outputId": "61f96c04-f2f4-4540-d9bd-c331deff4268"
      },
      "source": [
        "bin_size = 30\n",
        "model = mz.models.DRMM()\n",
        "model.params.update(preprocessor.context)\n",
        "model.params['input_shapes'] = [[10,], [10, bin_size,]]\n",
        "model.params['task'] = ranking_task\n",
        "model.params['mask_value'] = 0\n",
        "model.params['embedding_output_dim'] = glove_embedding.output_dim\n",
        "model.params['mlp_num_layers'] = 1\n",
        "model.params['mlp_num_units'] = 10\n",
        "model.params['mlp_num_fan_out'] = 1\n",
        "model.params['mlp_activation_func'] = 'tanh'\n",
        "model.params['optimizer'] = 'adadelta'\n",
        "model.build()\n",
        "model.compile()\n",
        "model.backend.summary()"
      ],
      "execution_count": 10,
      "outputs": [
        {
          "output_type": "stream",
          "name": "stdout",
          "text": [
            "Model: \"model_1\"\n",
            "__________________________________________________________________________________________________\n",
            "Layer (type)                    Output Shape         Param #     Connected to                     \n",
            "==================================================================================================\n",
            "text_left (InputLayer)          (None, 10)           0                                            \n",
            "__________________________________________________________________________________________________\n",
            "embedding (Embedding)           (None, 10, 300)      5244900     text_left[0][0]                  \n",
            "__________________________________________________________________________________________________\n",
            "dense_1 (Dense)                 (None, 10, 1)        300         embedding[0][0]                  \n",
            "__________________________________________________________________________________________________\n",
            "match_histogram (InputLayer)    (None, 10, 30)       0                                            \n",
            "__________________________________________________________________________________________________\n",
            "attention_mask (Lambda)         (None, 10, 1)        0           dense_1[0][0]                    \n",
            "__________________________________________________________________________________________________\n",
            "dense_2 (Dense)                 (None, 10, 10)       310         match_histogram[0][0]            \n",
            "__________________________________________________________________________________________________\n",
            "attention_probs (Lambda)        (None, 10, 1)        0           attention_mask[0][0]             \n",
            "__________________________________________________________________________________________________\n",
            "dense_3 (Dense)                 (None, 10, 1)        11          dense_2[0][0]                    \n",
            "__________________________________________________________________________________________________\n",
            "dot_1 (Dot)                     (None, 1, 1)         0           attention_probs[0][0]            \n",
            "                                                                 dense_3[0][0]                    \n",
            "__________________________________________________________________________________________________\n",
            "flatten_1 (Flatten)             (None, 1)            0           dot_1[0][0]                      \n",
            "__________________________________________________________________________________________________\n",
            "dense_4 (Dense)                 (None, 1)            2           flatten_1[0][0]                  \n",
            "==================================================================================================\n",
            "Total params: 5,245,523\n",
            "Trainable params: 5,245,523\n",
            "Non-trainable params: 0\n",
            "__________________________________________________________________________________________________\n"
          ]
        }
      ]
    },
    {
      "cell_type": "code",
      "metadata": {
        "id": "N6zIE2g4Ouz3"
      },
      "source": [
        "embedding_matrix = glove_embedding.build_matrix(preprocessor.context['vocab_unit'].state['term_index'])\n",
        "# normalize the word embedding for fast histogram generating.\n",
        "l2_norm = np.sqrt((embedding_matrix*embedding_matrix).sum(axis=1))\n",
        "embedding_matrix = embedding_matrix / l2_norm[:, np.newaxis]\n",
        "model.load_embedding_matrix(embedding_matrix)"
      ],
      "execution_count": 11,
      "outputs": []
    },
    {
      "cell_type": "code",
      "metadata": {
        "id": "lnscb2VaO39D"
      },
      "source": [
        "hist_callback = mz.data_generator.callbacks.Histogram(embedding_matrix, bin_size=30, hist_mode='LCH')"
      ],
      "execution_count": 12,
      "outputs": []
    },
    {
      "cell_type": "code",
      "metadata": {
        "id": "7DIqWQCTO7T-"
      },
      "source": [
        "pred_generator = mz.DataGenerator(test_pack_processed, mode='point', callbacks=[hist_callback])\n",
        "pred_x, pred_y = pred_generator[:]\n",
        "evaluate = mz.callbacks.EvaluateAllMetrics(model, \n",
        "                                           x=pred_x, \n",
        "                                           y=pred_y, \n",
        "                                           once_every=1, \n",
        "                                           batch_size=len(pred_y),\n",
        "                                           model_save_path='./drmm_pretrained_model/'\n",
        "                                          )"
      ],
      "execution_count": 13,
      "outputs": []
    },
    {
      "cell_type": "code",
      "metadata": {
        "colab": {
          "base_uri": "https://localhost:8080/"
        },
        "id": "xKsyNo5ePBzF",
        "outputId": "10ca0329-dae6-44c7-e913-6819852db900"
      },
      "source": [
        "train_generator = mz.DataGenerator(train_pack_processed, mode='pair', num_dup=5, num_neg=10, batch_size=20, \n",
        "                                   callbacks=[hist_callback])\n",
        "print('num batches:', len(train_generator))"
      ],
      "execution_count": 14,
      "outputs": [
        {
          "output_type": "stream",
          "name": "stdout",
          "text": [
            "num batches: 255\n"
          ]
        }
      ]
    },
    {
      "cell_type": "code",
      "metadata": {
        "colab": {
          "base_uri": "https://localhost:8080/"
        },
        "id": "t-2vrHumPF6F",
        "outputId": "e3f90fc3-db01-42d8-c6ea-9a375e80b085"
      },
      "source": [
        "history = model.fit_generator(train_generator, epochs=10, callbacks=[evaluate], workers=30, use_multiprocessing=True)"
      ],
      "execution_count": 16,
      "outputs": [
        {
          "output_type": "stream",
          "name": "stdout",
          "text": [
            "Epoch 1/10\n",
            "254/255 [============================>.] - ETA: 0s - loss: 1.9152Epoch 1/10\n",
            "255/255 [==============================] - 94s 368ms/step - loss: 1.9147\n",
            "Validation: normalized_discounted_cumulative_gain@3(0.0): 0.6153395230765721 - normalized_discounted_cumulative_gain@5(0.0): 0.6685679796325025 - mean_average_precision(0.0): 0.6283506832088661\n",
            "Epoch 2/10\n",
            "255/255 [==============================] - 94s 370ms/step - loss: 1.5813\n",
            "Validation: normalized_discounted_cumulative_gain@3(0.0): 0.6201307614278897 - normalized_discounted_cumulative_gain@5(0.0): 0.6691661572270544 - mean_average_precision(0.0): 0.6333952430461457\n",
            "Epoch 3/10\n",
            "255/255 [==============================] - 95s 372ms/step - loss: 1.3408\n",
            "Validation: normalized_discounted_cumulative_gain@3(0.0): 0.6225939696164868 - normalized_discounted_cumulative_gain@5(0.0): 0.6738536939962791 - mean_average_precision(0.0): 0.6345321067489772\n",
            "Epoch 4/10\n",
            "255/255 [==============================] - 93s 366ms/step - loss: 1.2133\n",
            "Validation: normalized_discounted_cumulative_gain@3(0.0): 0.6161761557996619 - normalized_discounted_cumulative_gain@5(0.0): 0.667834859941157 - mean_average_precision(0.0): 0.6308566543976417\n",
            "Epoch 5/10\n",
            "255/255 [==============================] - 93s 366ms/step - loss: 1.1545\n",
            "Validation: normalized_discounted_cumulative_gain@3(0.0): 0.6246798437186719 - normalized_discounted_cumulative_gain@5(0.0): 0.6700707769622395 - mean_average_precision(0.0): 0.6331110758342754\n",
            "Epoch 6/10\n",
            "255/255 [==============================] - 95s 372ms/step - loss: 1.1098\n",
            "Validation: normalized_discounted_cumulative_gain@3(0.0): 0.6325798840571109 - normalized_discounted_cumulative_gain@5(0.0): 0.6735858251311514 - mean_average_precision(0.0): 0.6362198750250343\n",
            "Epoch 7/10\n",
            "255/255 [==============================] - 93s 366ms/step - loss: 1.0737\n",
            "Validation: normalized_discounted_cumulative_gain@3(0.0): 0.6244252519971988 - normalized_discounted_cumulative_gain@5(0.0): 0.6720523606310524 - mean_average_precision(0.0): 0.6366322818833646\n",
            "Epoch 8/10\n",
            "255/255 [==============================] - 101s 395ms/step - loss: 1.0509\n",
            "Validation: normalized_discounted_cumulative_gain@3(0.0): 0.6442173585960128 - normalized_discounted_cumulative_gain@5(0.0): 0.684873299935946 - mean_average_precision(0.0): 0.6532446233675464\n",
            "Epoch 9/10\n",
            "255/255 [==============================] - 96s 375ms/step - loss: 1.0289\n",
            "Validation: normalized_discounted_cumulative_gain@3(0.0): 0.6319773411856716 - normalized_discounted_cumulative_gain@5(0.0): 0.6735070199231437 - mean_average_precision(0.0): 0.6406586076358922\n",
            "Epoch 10/10\n",
            "255/255 [==============================] - 95s 371ms/step - loss: 1.0114\n",
            "Validation: normalized_discounted_cumulative_gain@3(0.0): 0.6288448711224812 - normalized_discounted_cumulative_gain@5(0.0): 0.6701432832070682 - mean_average_precision(0.0): 0.6357256160494197\n"
          ]
        }
      ]
    },
    {
      "cell_type": "code",
      "metadata": {
        "colab": {
          "base_uri": "https://localhost:8080/"
        },
        "id": "JvQDCgFdPKoF",
        "outputId": "2a882e34-e344-4510-8281-4ff75b587935"
      },
      "source": [
        "drmm_model = mz.load_model('./drmm_pretrained_model/10')\n",
        "test_generator = mz.DataGenerator(data_pack=dev_pack_processed[:10], mode='point', callbacks=[hist_callback])\n",
        "test_x, test_y = test_generator[:]\n",
        "prediction = drmm_model.predict(test_x)\n",
        "prediction"
      ],
      "execution_count": 17,
      "outputs": [
        {
          "output_type": "stream",
          "name": "stdout",
          "text": [
            "b'2.3.1'\n"
          ]
        },
        {
          "output_type": "execute_result",
          "data": {
            "text/plain": [
              "array([[-3.1279404 ],\n",
              "       [-3.9115117 ],\n",
              "       [ 0.12862723],\n",
              "       [-0.94840485],\n",
              "       [ 0.36489332],\n",
              "       [-1.221392  ],\n",
              "       [ 1.4088149 ],\n",
              "       [ 0.6211608 ],\n",
              "       [-1.1087896 ],\n",
              "       [ 0.91848457]], dtype=float32)"
            ]
          },
          "metadata": {},
          "execution_count": 17
        }
      ]
    },
    {
      "cell_type": "code",
      "metadata": {
        "id": "4OcvaSviUor5"
      },
      "source": [
        ""
      ],
      "execution_count": null,
      "outputs": []
    }
  ]
}