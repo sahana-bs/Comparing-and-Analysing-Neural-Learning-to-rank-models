{
  "nbformat": 4,
  "nbformat_minor": 0,
  "metadata": {
    "colab": {
      "name": "krnm.ipynb",
      "provenance": []
    },
    "kernelspec": {
      "name": "python3",
      "display_name": "Python 3"
    },
    "language_info": {
      "name": "python"
    }
  },
  "cells": [
    {
      "cell_type": "code",
      "metadata": {
        "id": "_muvt_bkbx7i"
      },
      "source": [
        "!pip uninstall keras\n",
        "!pip install keras==2.3.1"
      ],
      "execution_count": null,
      "outputs": []
    },
    {
      "cell_type": "code",
      "metadata": {
        "id": "AAqVFobU4ePN"
      },
      "source": [
        "!pip uninstall tensorflow\n",
        "!pip install tensorflow==2.1.0"
      ],
      "execution_count": null,
      "outputs": []
    },
    {
      "cell_type": "code",
      "metadata": {
        "id": "o98desw24gBT"
      },
      "source": [
        "!pip install 'h5py==2.10.0' --force-reinstall"
      ],
      "execution_count": null,
      "outputs": []
    },
    {
      "cell_type": "code",
      "metadata": {
        "id": "_2_k1iko4iWW"
      },
      "source": [
        "!pip install matchzoo"
      ],
      "execution_count": null,
      "outputs": []
    },
    {
      "cell_type": "code",
      "metadata": {
        "id": "viJxFvRaay4n"
      },
      "source": [
        "### INIT ###\n",
        "\n",
        "import keras\n",
        "import pandas as pd\n",
        "import numpy as np\n",
        "import matchzoo as mz\n",
        "import json\n",
        "\n",
        "print('data loading ...')\n",
        "train_pack_raw = mz.datasets.wiki_qa.load_data('train', task='ranking')\n",
        "dev_pack_raw = mz.datasets.wiki_qa.load_data('dev', task='ranking', filtered=True)\n",
        "test_pack_raw = mz.datasets.wiki_qa.load_data('test', task='ranking', filtered=True)\n",
        "print('data loaded as `train_pack_raw` `dev_pack_raw` `test_pack_raw`')\n",
        "\n",
        "ranking_task = mz.tasks.Ranking(loss=mz.losses.RankHingeLoss())\n",
        "ranking_task.metrics = [\n",
        "    mz.metrics.NormalizedDiscountedCumulativeGain(k=3),\n",
        "    mz.metrics.NormalizedDiscountedCumulativeGain(k=5),\n",
        "    mz.metrics.MeanAveragePrecision()\n",
        "]\n",
        "print(\"`ranking_task` initialized with metrics\", ranking_task.metrics)\n",
        "\n",
        "print(\"loading embedding ...\")\n",
        "glove_embedding = mz.datasets.embeddings.load_glove_embedding(dimension=300)\n",
        "print(\"embedding loaded as `glove_embedding`\")"
      ],
      "execution_count": null,
      "outputs": []
    },
    {
      "cell_type": "code",
      "metadata": {
        "id": "Kve9MqJiyYBJ"
      },
      "source": [
        "def append_params_to_readme(model):\n",
        "    import tabulate\n",
        "    \n",
        "    with open('README.rst', 'a+') as f:\n",
        "        subtitle = model.params['model_class'].__name__\n",
        "        line = '#' * len(subtitle)\n",
        "        subtitle = subtitle + '\\n' + line + '\\n\\n'\n",
        "        f.write(subtitle)\n",
        "        \n",
        "        df = model.params.to_frame()[['Name', 'Value']]\n",
        "        table = tabulate.tabulate(df, tablefmt='rst', headers='keys') + '\\n\\n'\n",
        "        f.write(table)\n",
        "\n",
        "  ### END INIT ### "
      ],
      "execution_count": null,
      "outputs": []
    },
    {
      "cell_type": "code",
      "metadata": {
        "id": "6e4OphGhy-H4"
      },
      "source": [
        "import nltk\n",
        "nltk.download('punkt')\n",
        "nltk.download('stopwords')"
      ],
      "execution_count": null,
      "outputs": []
    },
    {
      "cell_type": "code",
      "metadata": {
        "id": "z4l4wMuVzRGO"
      },
      "source": [
        "### KRNM ###\n",
        "\n",
        "preprocessor = mz.preprocessors.BasicPreprocessor(fixed_length_left=10, fixed_length_right=40, remove_stop_words=False)\n",
        "train_pack_processed = preprocessor.fit_transform(train_pack_raw)\n",
        "valid_pack_processed = preprocessor.transform(dev_pack_raw)\n",
        "test_pack_processed = preprocessor.transform(test_pack_raw)"
      ],
      "execution_count": null,
      "outputs": []
    },
    {
      "cell_type": "code",
      "metadata": {
        "id": "EmilkManzlt_"
      },
      "source": [
        "preprocessor.context"
      ],
      "execution_count": null,
      "outputs": []
    },
    {
      "cell_type": "code",
      "metadata": {
        "id": "BMleV0cWzm0U"
      },
      "source": [
        "model = mz.models.KNRM()\n",
        "model.params.update(preprocessor.context)\n",
        "model.params['task'] = ranking_task\n",
        "model.params['embedding_output_dim'] = glove_embedding.output_dim\n",
        "model.params['embedding_trainable'] = True\n",
        "model.params['kernel_num'] = 21\n",
        "model.params['sigma'] = 0.1\n",
        "model.params['exact_sigma'] = 0.001\n",
        "model.params['optimizer'] = 'adadelta'\n",
        "model.build()\n",
        "model.compile()"
      ],
      "execution_count": null,
      "outputs": []
    },
    {
      "cell_type": "code",
      "metadata": {
        "id": "zqwHmQHfzskh"
      },
      "source": [
        "embedding_matrix = glove_embedding.build_matrix(preprocessor.context['vocab_unit'].state['term_index'])\n",
        "model.load_embedding_matrix(embedding_matrix)"
      ],
      "execution_count": null,
      "outputs": []
    },
    {
      "cell_type": "code",
      "metadata": {
        "id": "tORBC8lEzvHE"
      },
      "source": [
        "pred_x, pred_y = test_pack_processed.unpack()\n",
        "evaluate = mz.callbacks.EvaluateAllMetrics(model, x=pred_x, y=pred_y, batch_size=len(pred_x), model_save_path='./krnm_pretrained_model/')"
      ],
      "execution_count": null,
      "outputs": []
    },
    {
      "cell_type": "code",
      "metadata": {
        "id": "AdszqRv9zyPI"
      },
      "source": [
        "train_generator = mz.DataGenerator(\n",
        "    train_pack_processed,\n",
        "    mode='pair',\n",
        "    num_dup=5,\n",
        "    num_neg=1,\n",
        "    batch_size=20\n",
        ")\n",
        "print('num batches:', len(train_generator))"
      ],
      "execution_count": null,
      "outputs": []
    },
    {
      "cell_type": "code",
      "metadata": {
        "id": "OhIEJBk3z2qm"
      },
      "source": [
        "history = model.fit_generator(train_generator, epochs=15, callbacks=[evaluate], workers=30, use_multiprocessing=True)"
      ],
      "execution_count": null,
      "outputs": []
    },
    {
      "cell_type": "code",
      "metadata": {
        "id": "8pkC1oDbKL7G"
      },
      "source": [
        "model.evaluate(pred_x, pred_y)\n",
        "model.predict(pred_x)"
      ],
      "execution_count": null,
      "outputs": []
    }
  ]
}