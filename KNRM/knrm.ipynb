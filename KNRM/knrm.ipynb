{
  "cells": [
    {
      "cell_type": "code",
      "execution_count": null,
      "metadata": {
        "id": "_muvt_bkbx7i"
      },
      "outputs": [],
      "source": [
        "!pip uninstall keras\n",
        "!pip install keras==2.3.1"
      ]
    },
    {
      "cell_type": "code",
      "execution_count": null,
      "metadata": {
        "id": "AAqVFobU4ePN"
      },
      "outputs": [],
      "source": [
        "!pip uninstall tensorflow\n",
        "!pip install tensorflow==2.1.0"
      ]
    },
    {
      "cell_type": "code",
      "execution_count": null,
      "metadata": {
        "id": "o98desw24gBT"
      },
      "outputs": [],
      "source": [
        "!pip install 'h5py==2.10.0' --force-reinstall"
      ]
    },
    {
      "cell_type": "code",
      "execution_count": null,
      "metadata": {
        "id": "_2_k1iko4iWW"
      },
      "outputs": [],
      "source": [
        "!pip install matchzoo"
      ]
    },
    {
      "cell_type": "code",
      "execution_count": null,
      "metadata": {
        "id": "viJxFvRaay4n"
      },
      "outputs": [],
      "source": [
        "### INIT ###\n",
        "\n",
        "import keras\n",
        "import pandas as pd\n",
        "import numpy as np\n",
        "import matchzoo as mz\n",
        "import json\n",
        "\n",
        "print('data loading ...')\n",
        "train_pack_raw = mz.datasets.wiki_qa.load_data('train', task='ranking')\n",
        "dev_pack_raw = mz.datasets.wiki_qa.load_data('dev', task='ranking', filtered=True)\n",
        "test_pack_raw = mz.datasets.wiki_qa.load_data('test', task='ranking', filtered=True)\n",
        "print('data loaded as `train_pack_raw` `dev_pack_raw` `test_pack_raw`')\n",
        "\n",
        "ranking_task = mz.tasks.Ranking(loss=mz.losses.RankHingeLoss())\n",
        "ranking_task.metrics = [\n",
        "    mz.metrics.NormalizedDiscountedCumulativeGain(k=3),\n",
        "    mz.metrics.NormalizedDiscountedCumulativeGain(k=5),\n",
        "    mz.metrics.MeanAveragePrecision()\n",
        "]\n",
        "print(\"`ranking_task` initialized with metrics\", ranking_task.metrics)\n",
        "\n",
        "print(\"loading embedding ...\")\n",
        "glove_embedding = mz.datasets.embeddings.load_glove_embedding(dimension=300)\n",
        "print(\"embedding loaded as `glove_embedding`\")"
      ]
    },
    {
      "cell_type": "code",
      "execution_count": null,
      "metadata": {
        "id": "Kve9MqJiyYBJ"
      },
      "outputs": [],
      "source": [
        "def append_params_to_readme(model):\n",
        "    import tabulate\n",
        "    \n",
        "    with open('README.rst', 'a+') as f:\n",
        "        subtitle = model.params['model_class'].__name__\n",
        "        line = '#' * len(subtitle)\n",
        "        subtitle = subtitle + '\\n' + line + '\\n\\n'\n",
        "        f.write(subtitle)\n",
        "        \n",
        "        df = model.params.to_frame()[['Name', 'Value']]\n",
        "        table = tabulate.tabulate(df, tablefmt='rst', headers='keys') + '\\n\\n'\n",
        "        f.write(table)\n",
        "\n",
        "  ### END INIT ### "
      ]
    },
    {
      "cell_type": "code",
      "execution_count": null,
      "metadata": {
        "id": "6e4OphGhy-H4"
      },
      "outputs": [],
      "source": [
        "import nltk\n",
        "nltk.download('punkt')\n",
        "nltk.download('stopwords')"
      ]
    },
    {
      "cell_type": "code",
      "execution_count": null,
      "metadata": {
        "id": "z4l4wMuVzRGO"
      },
      "outputs": [],
      "source": [
        "### KNRM ###\n",
        "\n",
        "preprocessor = mz.preprocessors.BasicPreprocessor(fixed_length_left=10, fixed_length_right=40, remove_stop_words=False)\n",
        "train_pack_processed = preprocessor.fit_transform(train_pack_raw)\n",
        "valid_pack_processed = preprocessor.transform(dev_pack_raw)\n",
        "test_pack_processed = preprocessor.transform(test_pack_raw)"
      ]
    },
    {
      "cell_type": "code",
      "execution_count": null,
      "metadata": {
        "id": "EmilkManzlt_"
      },
      "outputs": [],
      "source": [
        "preprocessor.context"
      ]
    },
    {
      "cell_type": "code",
      "execution_count": null,
      "metadata": {
        "id": "BMleV0cWzm0U"
      },
      "outputs": [],
      "source": [
        "model = mz.models.KNRM()\n",
        "model.params.update(preprocessor.context)\n",
        "model.params['task'] = ranking_task\n",
        "model.params['embedding_output_dim'] = glove_embedding.output_dim\n",
        "model.params['embedding_trainable'] = True\n",
        "model.params['kernel_num'] = 21\n",
        "model.params['sigma'] = 0.1\n",
        "model.params['exact_sigma'] = 0.001\n",
        "model.params['optimizer'] = 'adadelta'\n",
        "model.build()\n",
        "model.compile()"
      ]
    },
    {
      "cell_type": "code",
      "execution_count": null,
      "metadata": {
        "id": "zqwHmQHfzskh"
      },
      "outputs": [],
      "source": [
        "embedding_matrix = glove_embedding.build_matrix(preprocessor.context['vocab_unit'].state['term_index'])\n",
        "model.load_embedding_matrix(embedding_matrix)"
      ]
    },
    {
      "cell_type": "code",
      "execution_count": null,
      "metadata": {
        "id": "tORBC8lEzvHE"
      },
      "outputs": [],
      "source": [
        "pred_x, pred_y = test_pack_processed.unpack()\n",
        "evaluate = mz.callbacks.EvaluateAllMetrics(model, x=pred_x, y=pred_y, batch_size=len(pred_x), model_save_path='./knrm_pretrained_model/')"
      ]
    },
    {
      "cell_type": "code",
      "execution_count": null,
      "metadata": {
        "id": "AdszqRv9zyPI"
      },
      "outputs": [],
      "source": [
        "train_generator = mz.DataGenerator(\n",
        "    train_pack_processed,\n",
        "    mode='pair',\n",
        "    num_dup=5,\n",
        "    num_neg=1,\n",
        "    batch_size=20\n",
        ")\n",
        "print('num batches:', len(train_generator))"
      ]
    },
    {
      "cell_type": "code",
      "execution_count": null,
      "metadata": {
        "id": "OhIEJBk3z2qm"
      },
      "outputs": [],
      "source": [
        "history = model.fit_generator(train_generator, epochs=15, callbacks=[evaluate], workers=30, use_multiprocessing=True)"
      ]
    },
    {
      "cell_type": "code",
      "execution_count": null,
      "metadata": {
        "id": "8pkC1oDbKL7G"
      },
      "outputs": [],
      "source": [
        "model.evaluate(pred_x, pred_y)\n",
        "model.predict(pred_x)"
      ]
    }
  ],
  "metadata": {
    "colab": {
      "name": "krnm.ipynb",
      "provenance": []
    },
    "kernelspec": {
      "display_name": "Python 3",
      "name": "python3"
    },
    "language_info": {
      "name": "python"
    }
  },
  "nbformat": 4,
  "nbformat_minor": 0
}
