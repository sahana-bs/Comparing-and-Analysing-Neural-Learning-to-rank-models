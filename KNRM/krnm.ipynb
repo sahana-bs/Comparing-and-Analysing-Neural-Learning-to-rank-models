{
  "nbformat": 4,
  "nbformat_minor": 0,
  "metadata": {
    "colab": {
      "name": "krnm-my.ipynb",
      "provenance": [],
      "collapsed_sections": [],
      "machine_shape": "hm"
    },
    "kernelspec": {
      "name": "python3",
      "display_name": "Python 3"
    },
    "language_info": {
      "name": "python"
    },
    "accelerator": "TPU"
  },
  "cells": [
    {
      "cell_type": "code",
      "metadata": {
        "id": "_muvt_bkbx7i",
        "colab": {
          "base_uri": "https://localhost:8080/"
        },
        "outputId": "dcb57912-4554-4ac7-ed19-44b1535103fa"
      },
      "source": [
        "!pip uninstall keras\n",
        "!pip install keras==2.3.1"
      ],
      "execution_count": 1,
      "outputs": [
        {
          "output_type": "stream",
          "name": "stdout",
          "text": [
            "Found existing installation: Keras 2.3.1\n",
            "Uninstalling Keras-2.3.1:\n",
            "  Would remove:\n",
            "    /usr/local/lib/python3.7/dist-packages/Keras-2.3.1.dist-info/*\n",
            "    /usr/local/lib/python3.7/dist-packages/docs/*\n",
            "    /usr/local/lib/python3.7/dist-packages/keras/*\n",
            "  Would not remove (might be manually added):\n",
            "    /usr/local/lib/python3.7/dist-packages/docs/md_autogen.py\n",
            "    /usr/local/lib/python3.7/dist-packages/docs/update_docs.py\n",
            "Proceed (y/n)? y\n",
            "  Successfully uninstalled Keras-2.3.1\n",
            "Collecting keras==2.3.1\n",
            "  Using cached Keras-2.3.1-py2.py3-none-any.whl (377 kB)\n",
            "Requirement already satisfied: keras-preprocessing>=1.0.5 in /usr/local/lib/python3.7/dist-packages (from keras==2.3.1) (1.1.2)\n",
            "Requirement already satisfied: six>=1.9.0 in /usr/local/lib/python3.7/dist-packages (from keras==2.3.1) (1.16.0)\n",
            "Requirement already satisfied: pyyaml in /usr/local/lib/python3.7/dist-packages (from keras==2.3.1) (3.13)\n",
            "Requirement already satisfied: h5py in /usr/local/lib/python3.7/dist-packages (from keras==2.3.1) (2.10.0)\n",
            "Requirement already satisfied: scipy>=0.14 in /usr/local/lib/python3.7/dist-packages (from keras==2.3.1) (1.4.1)\n",
            "Requirement already satisfied: keras-applications>=1.0.6 in /usr/local/lib/python3.7/dist-packages (from keras==2.3.1) (1.0.8)\n",
            "Requirement already satisfied: numpy>=1.9.1 in /usr/local/lib/python3.7/dist-packages (from keras==2.3.1) (1.21.4)\n",
            "Installing collected packages: keras\n",
            "Successfully installed keras-2.3.1\n"
          ]
        }
      ]
    },
    {
      "cell_type": "code",
      "metadata": {
        "id": "AAqVFobU4ePN",
        "colab": {
          "base_uri": "https://localhost:8080/"
        },
        "outputId": "1ded2d20-433e-4f2c-a566-c46951e83f3d"
      },
      "source": [
        "!pip uninstall tensorflow\n",
        "!pip install tensorflow==2.1.0"
      ],
      "execution_count": 2,
      "outputs": [
        {
          "output_type": "stream",
          "name": "stdout",
          "text": [
            "Found existing installation: tensorflow 2.1.0\n",
            "Uninstalling tensorflow-2.1.0:\n",
            "  Would remove:\n",
            "    /usr/local/bin/estimator_ckpt_converter\n",
            "    /usr/local/bin/saved_model_cli\n",
            "    /usr/local/bin/tensorboard\n",
            "    /usr/local/bin/tf_upgrade_v2\n",
            "    /usr/local/bin/tflite_convert\n",
            "    /usr/local/bin/toco\n",
            "    /usr/local/bin/toco_from_protos\n",
            "    /usr/local/lib/python3.7/dist-packages/tensorflow-2.1.0.dist-info/*\n",
            "    /usr/local/lib/python3.7/dist-packages/tensorflow/*\n",
            "    /usr/local/lib/python3.7/dist-packages/tensorflow_core/*\n",
            "Proceed (y/n)? y\n",
            "  Successfully uninstalled tensorflow-2.1.0\n",
            "Collecting tensorflow==2.1.0\n",
            "  Using cached tensorflow-2.1.0-cp37-cp37m-manylinux2010_x86_64.whl (421.8 MB)\n",
            "Requirement already satisfied: keras-applications>=1.0.8 in /usr/local/lib/python3.7/dist-packages (from tensorflow==2.1.0) (1.0.8)\n",
            "Requirement already satisfied: six>=1.12.0 in /usr/local/lib/python3.7/dist-packages (from tensorflow==2.1.0) (1.16.0)\n",
            "Requirement already satisfied: wheel>=0.26 in /usr/local/lib/python3.7/dist-packages (from tensorflow==2.1.0) (0.37.0)\n",
            "Requirement already satisfied: scipy==1.4.1 in /usr/local/lib/python3.7/dist-packages (from tensorflow==2.1.0) (1.4.1)\n",
            "Requirement already satisfied: termcolor>=1.1.0 in /usr/local/lib/python3.7/dist-packages (from tensorflow==2.1.0) (1.1.0)\n",
            "Requirement already satisfied: astor>=0.6.0 in /usr/local/lib/python3.7/dist-packages (from tensorflow==2.1.0) (0.8.1)\n",
            "Requirement already satisfied: tensorboard<2.2.0,>=2.1.0 in /usr/local/lib/python3.7/dist-packages (from tensorflow==2.1.0) (2.1.1)\n",
            "Requirement already satisfied: tensorflow-estimator<2.2.0,>=2.1.0rc0 in /usr/local/lib/python3.7/dist-packages (from tensorflow==2.1.0) (2.1.0)\n",
            "Requirement already satisfied: keras-preprocessing>=1.1.0 in /usr/local/lib/python3.7/dist-packages (from tensorflow==2.1.0) (1.1.2)\n",
            "Requirement already satisfied: grpcio>=1.8.6 in /usr/local/lib/python3.7/dist-packages (from tensorflow==2.1.0) (1.42.0)\n",
            "Requirement already satisfied: absl-py>=0.7.0 in /usr/local/lib/python3.7/dist-packages (from tensorflow==2.1.0) (0.12.0)\n",
            "Requirement already satisfied: numpy<2.0,>=1.16.0 in /usr/local/lib/python3.7/dist-packages (from tensorflow==2.1.0) (1.21.4)\n",
            "Requirement already satisfied: opt-einsum>=2.3.2 in /usr/local/lib/python3.7/dist-packages (from tensorflow==2.1.0) (3.3.0)\n",
            "Requirement already satisfied: google-pasta>=0.1.6 in /usr/local/lib/python3.7/dist-packages (from tensorflow==2.1.0) (0.2.0)\n",
            "Requirement already satisfied: protobuf>=3.8.0 in /usr/local/lib/python3.7/dist-packages (from tensorflow==2.1.0) (3.17.3)\n",
            "Requirement already satisfied: gast==0.2.2 in /usr/local/lib/python3.7/dist-packages (from tensorflow==2.1.0) (0.2.2)\n",
            "Requirement already satisfied: wrapt>=1.11.1 in /usr/local/lib/python3.7/dist-packages (from tensorflow==2.1.0) (1.13.3)\n",
            "Requirement already satisfied: h5py in /usr/local/lib/python3.7/dist-packages (from keras-applications>=1.0.8->tensorflow==2.1.0) (2.10.0)\n",
            "Requirement already satisfied: markdown>=2.6.8 in /usr/local/lib/python3.7/dist-packages (from tensorboard<2.2.0,>=2.1.0->tensorflow==2.1.0) (3.3.6)\n",
            "Requirement already satisfied: setuptools>=41.0.0 in /usr/local/lib/python3.7/dist-packages (from tensorboard<2.2.0,>=2.1.0->tensorflow==2.1.0) (57.4.0)\n",
            "Requirement already satisfied: google-auth<2,>=1.6.3 in /usr/local/lib/python3.7/dist-packages (from tensorboard<2.2.0,>=2.1.0->tensorflow==2.1.0) (1.35.0)\n",
            "Requirement already satisfied: google-auth-oauthlib<0.5,>=0.4.1 in /usr/local/lib/python3.7/dist-packages (from tensorboard<2.2.0,>=2.1.0->tensorflow==2.1.0) (0.4.6)\n",
            "Requirement already satisfied: requests<3,>=2.21.0 in /usr/local/lib/python3.7/dist-packages (from tensorboard<2.2.0,>=2.1.0->tensorflow==2.1.0) (2.23.0)\n",
            "Requirement already satisfied: werkzeug>=0.11.15 in /usr/local/lib/python3.7/dist-packages (from tensorboard<2.2.0,>=2.1.0->tensorflow==2.1.0) (1.0.1)\n",
            "Requirement already satisfied: pyasn1-modules>=0.2.1 in /usr/local/lib/python3.7/dist-packages (from google-auth<2,>=1.6.3->tensorboard<2.2.0,>=2.1.0->tensorflow==2.1.0) (0.2.8)\n",
            "Requirement already satisfied: rsa<5,>=3.1.4 in /usr/local/lib/python3.7/dist-packages (from google-auth<2,>=1.6.3->tensorboard<2.2.0,>=2.1.0->tensorflow==2.1.0) (4.8)\n",
            "Requirement already satisfied: cachetools<5.0,>=2.0.0 in /usr/local/lib/python3.7/dist-packages (from google-auth<2,>=1.6.3->tensorboard<2.2.0,>=2.1.0->tensorflow==2.1.0) (4.2.4)\n",
            "Requirement already satisfied: requests-oauthlib>=0.7.0 in /usr/local/lib/python3.7/dist-packages (from google-auth-oauthlib<0.5,>=0.4.1->tensorboard<2.2.0,>=2.1.0->tensorflow==2.1.0) (1.3.0)\n",
            "Requirement already satisfied: importlib-metadata>=4.4 in /usr/local/lib/python3.7/dist-packages (from markdown>=2.6.8->tensorboard<2.2.0,>=2.1.0->tensorflow==2.1.0) (4.8.2)\n",
            "Requirement already satisfied: typing-extensions>=3.6.4 in /usr/local/lib/python3.7/dist-packages (from importlib-metadata>=4.4->markdown>=2.6.8->tensorboard<2.2.0,>=2.1.0->tensorflow==2.1.0) (3.10.0.2)\n",
            "Requirement already satisfied: zipp>=0.5 in /usr/local/lib/python3.7/dist-packages (from importlib-metadata>=4.4->markdown>=2.6.8->tensorboard<2.2.0,>=2.1.0->tensorflow==2.1.0) (3.6.0)\n",
            "Requirement already satisfied: pyasn1<0.5.0,>=0.4.6 in /usr/local/lib/python3.7/dist-packages (from pyasn1-modules>=0.2.1->google-auth<2,>=1.6.3->tensorboard<2.2.0,>=2.1.0->tensorflow==2.1.0) (0.4.8)\n",
            "Requirement already satisfied: certifi>=2017.4.17 in /usr/local/lib/python3.7/dist-packages (from requests<3,>=2.21.0->tensorboard<2.2.0,>=2.1.0->tensorflow==2.1.0) (2021.10.8)\n",
            "Requirement already satisfied: chardet<4,>=3.0.2 in /usr/local/lib/python3.7/dist-packages (from requests<3,>=2.21.0->tensorboard<2.2.0,>=2.1.0->tensorflow==2.1.0) (3.0.4)\n",
            "Requirement already satisfied: urllib3!=1.25.0,!=1.25.1,<1.26,>=1.21.1 in /usr/local/lib/python3.7/dist-packages (from requests<3,>=2.21.0->tensorboard<2.2.0,>=2.1.0->tensorflow==2.1.0) (1.24.3)\n",
            "Requirement already satisfied: idna<3,>=2.5 in /usr/local/lib/python3.7/dist-packages (from requests<3,>=2.21.0->tensorboard<2.2.0,>=2.1.0->tensorflow==2.1.0) (2.10)\n",
            "Requirement already satisfied: oauthlib>=3.0.0 in /usr/local/lib/python3.7/dist-packages (from requests-oauthlib>=0.7.0->google-auth-oauthlib<0.5,>=0.4.1->tensorboard<2.2.0,>=2.1.0->tensorflow==2.1.0) (3.1.1)\n",
            "Installing collected packages: tensorflow\n",
            "Successfully installed tensorflow-2.1.0\n"
          ]
        }
      ]
    },
    {
      "cell_type": "code",
      "metadata": {
        "id": "o98desw24gBT",
        "colab": {
          "base_uri": "https://localhost:8080/",
          "height": 575
        },
        "outputId": "ab372788-9d42-443f-9374-72017f767e10"
      },
      "source": [
        "!pip install 'h5py==2.10.0' --force-reinstall"
      ],
      "execution_count": 3,
      "outputs": [
        {
          "output_type": "stream",
          "name": "stdout",
          "text": [
            "Collecting h5py==2.10.0\n",
            "  Using cached h5py-2.10.0-cp37-cp37m-manylinux1_x86_64.whl (2.9 MB)\n",
            "Collecting six\n",
            "  Using cached six-1.16.0-py2.py3-none-any.whl (11 kB)\n",
            "Collecting numpy>=1.7\n",
            "  Using cached numpy-1.21.4-cp37-cp37m-manylinux_2_12_x86_64.manylinux2010_x86_64.whl (15.7 MB)\n",
            "Installing collected packages: six, numpy, h5py\n",
            "  Attempting uninstall: six\n",
            "    Found existing installation: six 1.16.0\n",
            "    Uninstalling six-1.16.0:\n",
            "      Successfully uninstalled six-1.16.0\n",
            "  Attempting uninstall: numpy\n",
            "    Found existing installation: numpy 1.21.4\n",
            "    Uninstalling numpy-1.21.4:\n",
            "      Successfully uninstalled numpy-1.21.4\n",
            "  Attempting uninstall: h5py\n",
            "    Found existing installation: h5py 2.10.0\n",
            "    Uninstalling h5py-2.10.0:\n",
            "      Successfully uninstalled h5py-2.10.0\n",
            "\u001b[31mERROR: pip's dependency resolver does not currently take into account all the packages that are installed. This behaviour is the source of the following dependency conflicts.\n",
            "yellowbrick 1.3.post1 requires numpy<1.20,>=1.16.0, but you have numpy 1.21.4 which is incompatible.\n",
            "tensorflow-probability 0.15.0 requires gast>=0.3.2, but you have gast 0.2.2 which is incompatible.\n",
            "google-colab 1.0.0 requires six~=1.15.0, but you have six 1.16.0 which is incompatible.\n",
            "datascience 0.10.6 requires folium==0.2.1, but you have folium 0.8.3 which is incompatible.\n",
            "albumentations 0.1.12 requires imgaug<0.2.7,>=0.2.5, but you have imgaug 0.2.9 which is incompatible.\u001b[0m\n",
            "Successfully installed h5py-2.10.0 numpy-1.21.4 six-1.16.0\n"
          ]
        },
        {
          "output_type": "display_data",
          "data": {
            "application/vnd.colab-display-data+json": {
              "pip_warning": {
                "packages": [
                  "numpy",
                  "six"
                ]
              }
            }
          },
          "metadata": {}
        }
      ]
    },
    {
      "cell_type": "code",
      "metadata": {
        "id": "_2_k1iko4iWW",
        "colab": {
          "base_uri": "https://localhost:8080/"
        },
        "outputId": "26a7c578-c7af-492d-d25d-4e9a578eb99b"
      },
      "source": [
        "!pip install matchzoo"
      ],
      "execution_count": 4,
      "outputs": [
        {
          "output_type": "stream",
          "name": "stdout",
          "text": [
            "Requirement already satisfied: matchzoo in /usr/local/lib/python3.7/dist-packages (2.2.0)\n",
            "Requirement already satisfied: numpy>=1.14 in /usr/local/lib/python3.7/dist-packages (from matchzoo) (1.21.4)\n",
            "Requirement already satisfied: nltk>=3.2.3 in /usr/local/lib/python3.7/dist-packages (from matchzoo) (3.2.5)\n",
            "Requirement already satisfied: hyperopt>=0.1.1 in /usr/local/lib/python3.7/dist-packages (from matchzoo) (0.1.2)\n",
            "Requirement already satisfied: tqdm>=4.19.4 in /usr/local/lib/python3.7/dist-packages (from matchzoo) (4.62.3)\n",
            "Requirement already satisfied: networkx>=2.1 in /usr/local/lib/python3.7/dist-packages (from matchzoo) (2.6.3)\n",
            "Requirement already satisfied: h5py>=2.8.0 in /usr/local/lib/python3.7/dist-packages (from matchzoo) (2.10.0)\n",
            "Requirement already satisfied: keras>=2.3.0 in /usr/local/lib/python3.7/dist-packages (from matchzoo) (2.3.1)\n",
            "Requirement already satisfied: dill>=0.2.7.1 in /usr/local/lib/python3.7/dist-packages (from matchzoo) (0.3.4)\n",
            "Requirement already satisfied: pandas>=0.23.1 in /usr/local/lib/python3.7/dist-packages (from matchzoo) (1.1.5)\n",
            "Requirement already satisfied: six in /usr/local/lib/python3.7/dist-packages (from h5py>=2.8.0->matchzoo) (1.16.0)\n",
            "Requirement already satisfied: scipy in /usr/local/lib/python3.7/dist-packages (from hyperopt>=0.1.1->matchzoo) (1.4.1)\n",
            "Requirement already satisfied: pymongo in /usr/local/lib/python3.7/dist-packages (from hyperopt>=0.1.1->matchzoo) (3.12.1)\n",
            "Requirement already satisfied: future in /usr/local/lib/python3.7/dist-packages (from hyperopt>=0.1.1->matchzoo) (0.16.0)\n",
            "Requirement already satisfied: pyyaml in /usr/local/lib/python3.7/dist-packages (from keras>=2.3.0->matchzoo) (3.13)\n",
            "Requirement already satisfied: keras-preprocessing>=1.0.5 in /usr/local/lib/python3.7/dist-packages (from keras>=2.3.0->matchzoo) (1.1.2)\n",
            "Requirement already satisfied: keras-applications>=1.0.6 in /usr/local/lib/python3.7/dist-packages (from keras>=2.3.0->matchzoo) (1.0.8)\n",
            "Requirement already satisfied: pytz>=2017.2 in /usr/local/lib/python3.7/dist-packages (from pandas>=0.23.1->matchzoo) (2018.9)\n",
            "Requirement already satisfied: python-dateutil>=2.7.3 in /usr/local/lib/python3.7/dist-packages (from pandas>=0.23.1->matchzoo) (2.8.2)\n"
          ]
        }
      ]
    },
    {
      "cell_type": "code",
      "metadata": {
        "id": "viJxFvRaay4n",
        "colab": {
          "base_uri": "https://localhost:8080/"
        },
        "outputId": "0b979e39-cb24-4eab-a1b1-c1455c9fa5dd"
      },
      "source": [
        "### INIT ###\n",
        "\n",
        "import keras\n",
        "import pandas as pd\n",
        "import numpy as np\n",
        "import matchzoo as mz\n",
        "import json\n",
        "\n",
        "print('data loading ...')\n",
        "train_pack_raw = mz.datasets.wiki_qa.load_data('train', task='ranking')\n",
        "dev_pack_raw = mz.datasets.wiki_qa.load_data('dev', task='ranking', filtered=True)\n",
        "test_pack_raw = mz.datasets.wiki_qa.load_data('test', task='ranking', filtered=True)\n",
        "print('data loaded as `train_pack_raw` `dev_pack_raw` `test_pack_raw`')\n",
        "\n",
        "ranking_task = mz.tasks.Ranking(loss=mz.losses.RankHingeLoss())\n",
        "ranking_task.metrics = [\n",
        "    mz.metrics.NormalizedDiscountedCumulativeGain(k=3),\n",
        "    mz.metrics.NormalizedDiscountedCumulativeGain(k=5),\n",
        "    mz.metrics.MeanAveragePrecision(),\n",
        "    mz.metrics.AveragePrecision(),\n",
        "    mz.metrics.MeanReciprocalRank(),\n",
        "    mz.metrics.Precision()\n",
        "]\n",
        "print(\"`ranking_task` initialized with metrics\", ranking_task.metrics)\n",
        "\n",
        "print(\"loading embedding ...\")\n",
        "glove_embedding = mz.datasets.embeddings.load_glove_embedding(dimension=300)\n",
        "print(\"embedding loaded as `glove_embedding`\")"
      ],
      "execution_count": 5,
      "outputs": [
        {
          "output_type": "stream",
          "name": "stderr",
          "text": [
            "Using TensorFlow backend.\n"
          ]
        },
        {
          "output_type": "stream",
          "name": "stdout",
          "text": [
            "data loading ...\n",
            "data loaded as `train_pack_raw` `dev_pack_raw` `test_pack_raw`\n",
            "`ranking_task` initialized with metrics [normalized_discounted_cumulative_gain@3(0.0), normalized_discounted_cumulative_gain@5(0.0), mean_average_precision(0.0), average_precision(0.0), mean_reciprocal_rank(0.0), precision@1(0.0)]\n",
            "loading embedding ...\n",
            "embedding loaded as `glove_embedding`\n"
          ]
        }
      ]
    },
    {
      "cell_type": "code",
      "metadata": {
        "id": "Kve9MqJiyYBJ"
      },
      "source": [
        "def append_params_to_readme(model):\n",
        "    import tabulate\n",
        "    \n",
        "    with open('README.rst', 'a+') as f:\n",
        "        subtitle = model.params['model_class'].__name__\n",
        "        line = '#' * len(subtitle)\n",
        "        subtitle = subtitle + '\\n' + line + '\\n\\n'\n",
        "        f.write(subtitle)\n",
        "        \n",
        "        df = model.params.to_frame()[['Name', 'Value']]\n",
        "        table = tabulate.tabulate(df, tablefmt='rst', headers='keys') + '\\n\\n'\n",
        "        f.write(table)\n",
        "\n",
        "  ### END INIT ### "
      ],
      "execution_count": 6,
      "outputs": []
    },
    {
      "cell_type": "code",
      "metadata": {
        "id": "6e4OphGhy-H4",
        "colab": {
          "base_uri": "https://localhost:8080/"
        },
        "outputId": "c7b16cf8-cf49-45cf-ec99-b5259ea51a84"
      },
      "source": [
        "import nltk\n",
        "nltk.download('punkt')\n",
        "nltk.download('stopwords')"
      ],
      "execution_count": 7,
      "outputs": [
        {
          "output_type": "stream",
          "name": "stdout",
          "text": [
            "[nltk_data] Downloading package punkt to /root/nltk_data...\n",
            "[nltk_data]   Package punkt is already up-to-date!\n",
            "[nltk_data] Downloading package stopwords to /root/nltk_data...\n",
            "[nltk_data]   Package stopwords is already up-to-date!\n"
          ]
        },
        {
          "output_type": "execute_result",
          "data": {
            "text/plain": [
              "True"
            ]
          },
          "metadata": {},
          "execution_count": 7
        }
      ]
    },
    {
      "cell_type": "code",
      "metadata": {
        "id": "z4l4wMuVzRGO",
        "colab": {
          "base_uri": "https://localhost:8080/"
        },
        "outputId": "a883ef90-76e1-48d0-e3d5-9d2f6236c2f3"
      },
      "source": [
        "### KRNM ###\n",
        "\n",
        "preprocessor = mz.preprocessors.BasicPreprocessor(fixed_length_left=10, fixed_length_right=40, remove_stop_words=False)\n",
        "train_pack_processed = preprocessor.fit_transform(train_pack_raw)\n",
        "valid_pack_processed = preprocessor.transform(dev_pack_raw)\n",
        "test_pack_processed = preprocessor.transform(test_pack_raw)"
      ],
      "execution_count": 8,
      "outputs": [
        {
          "output_type": "stream",
          "name": "stderr",
          "text": [
            "Processing text_left with chain_transform of Tokenize => Lowercase => PuncRemoval: 100%|██████████| 2118/2118 [00:00<00:00, 9169.41it/s]\n",
            "Processing text_right with chain_transform of Tokenize => Lowercase => PuncRemoval: 100%|██████████| 18841/18841 [00:03<00:00, 4888.78it/s]\n",
            "Processing text_right with append: 100%|██████████| 18841/18841 [00:00<00:00, 817724.35it/s]\n",
            "Building FrequencyFilter from a datapack.: 100%|██████████| 18841/18841 [00:00<00:00, 138489.99it/s]\n",
            "Processing text_right with transform: 100%|██████████| 18841/18841 [00:00<00:00, 129176.07it/s]\n",
            "Processing text_left with extend: 100%|██████████| 2118/2118 [00:00<00:00, 643967.81it/s]\n",
            "Processing text_right with extend: 100%|██████████| 18841/18841 [00:00<00:00, 568274.94it/s]\n",
            "Building Vocabulary from a datapack.: 100%|██████████| 473697/473697 [00:00<00:00, 3146475.27it/s]\n",
            "Processing text_left with chain_transform of Tokenize => Lowercase => PuncRemoval: 100%|██████████| 2118/2118 [00:00<00:00, 9533.53it/s]\n",
            "Processing text_right with chain_transform of Tokenize => Lowercase => PuncRemoval: 100%|██████████| 18841/18841 [00:03<00:00, 5103.78it/s]\n",
            "Processing text_right with transform: 100%|██████████| 18841/18841 [00:00<00:00, 121299.43it/s]\n",
            "Processing text_left with transform: 100%|██████████| 2118/2118 [00:00<00:00, 130316.36it/s]\n",
            "Processing text_right with transform: 100%|██████████| 18841/18841 [00:00<00:00, 56541.17it/s] \n",
            "Processing length_left with len: 100%|██████████| 2118/2118 [00:00<00:00, 651715.64it/s]\n",
            "Processing length_right with len: 100%|██████████| 18841/18841 [00:00<00:00, 731637.35it/s]\n",
            "Processing text_left with transform: 100%|██████████| 2118/2118 [00:00<00:00, 125081.47it/s]\n",
            "Processing text_right with transform: 100%|██████████| 18841/18841 [00:00<00:00, 95996.37it/s]\n",
            "Processing text_left with chain_transform of Tokenize => Lowercase => PuncRemoval: 100%|██████████| 122/122 [00:00<00:00, 8497.97it/s]\n",
            "Processing text_right with chain_transform of Tokenize => Lowercase => PuncRemoval: 100%|██████████| 1115/1115 [00:00<00:00, 5157.58it/s]\n",
            "Processing text_right with transform: 100%|██████████| 1115/1115 [00:00<00:00, 115222.45it/s]\n",
            "Processing text_left with transform: 100%|██████████| 122/122 [00:00<00:00, 112710.37it/s]\n",
            "Processing text_right with transform: 100%|██████████| 1115/1115 [00:00<00:00, 80741.85it/s]\n",
            "Processing length_left with len: 100%|██████████| 122/122 [00:00<00:00, 221901.60it/s]\n",
            "Processing length_right with len: 100%|██████████| 1115/1115 [00:00<00:00, 606490.59it/s]\n",
            "Processing text_left with transform: 100%|██████████| 122/122 [00:00<00:00, 92935.90it/s]\n",
            "Processing text_right with transform: 100%|██████████| 1115/1115 [00:00<00:00, 96632.96it/s]\n",
            "Processing text_left with chain_transform of Tokenize => Lowercase => PuncRemoval: 100%|██████████| 237/237 [00:00<00:00, 8256.23it/s]\n",
            "Processing text_right with chain_transform of Tokenize => Lowercase => PuncRemoval: 100%|██████████| 2300/2300 [00:00<00:00, 5076.42it/s]\n",
            "Processing text_right with transform: 100%|██████████| 2300/2300 [00:00<00:00, 113476.91it/s]\n",
            "Processing text_left with transform: 100%|██████████| 237/237 [00:00<00:00, 153001.39it/s]\n",
            "Processing text_right with transform: 100%|██████████| 2300/2300 [00:00<00:00, 105720.60it/s]\n",
            "Processing length_left with len: 100%|██████████| 237/237 [00:00<00:00, 309962.60it/s]\n",
            "Processing length_right with len: 100%|██████████| 2300/2300 [00:00<00:00, 690395.71it/s]\n",
            "Processing text_left with transform: 100%|██████████| 237/237 [00:00<00:00, 113411.30it/s]\n",
            "Processing text_right with transform: 100%|██████████| 2300/2300 [00:00<00:00, 87060.38it/s]\n"
          ]
        }
      ]
    },
    {
      "cell_type": "code",
      "metadata": {
        "id": "EmilkManzlt_",
        "colab": {
          "base_uri": "https://localhost:8080/"
        },
        "outputId": "98b81779-fad9-43c5-bde2-8ea035d4e4a9"
      },
      "source": [
        "preprocessor.context"
      ],
      "execution_count": 9,
      "outputs": [
        {
          "output_type": "execute_result",
          "data": {
            "text/plain": [
              "{'embedding_input_dim': 17483,\n",
              " 'filter_unit': <matchzoo.preprocessors.units.frequency_filter.FrequencyFilter at 0x7f9602082650>,\n",
              " 'input_shapes': [(10,), (40,)],\n",
              " 'vocab_size': 17483,\n",
              " 'vocab_unit': <matchzoo.preprocessors.units.vocabulary.Vocabulary at 0x7f95fe1c5590>}"
            ]
          },
          "metadata": {},
          "execution_count": 9
        }
      ]
    },
    {
      "cell_type": "code",
      "metadata": {
        "id": "BMleV0cWzm0U"
      },
      "source": [
        "model = mz.models.KNRM()\n",
        "model.params.update(preprocessor.context)\n",
        "model.params['task'] = ranking_task\n",
        "model.params['embedding_output_dim'] = glove_embedding.output_dim\n",
        "model.params['embedding_trainable'] = True\n",
        "model.params['kernel_num'] = 21\n",
        "model.params['sigma'] = 0.1\n",
        "model.params['exact_sigma'] = 0.001\n",
        "model.params['optimizer'] = 'adadelta'\n",
        "model.build()\n",
        "model.compile()"
      ],
      "execution_count": 10,
      "outputs": []
    },
    {
      "cell_type": "code",
      "metadata": {
        "id": "zqwHmQHfzskh"
      },
      "source": [
        "embedding_matrix = glove_embedding.build_matrix(preprocessor.context['vocab_unit'].state['term_index'])\n",
        "model.load_embedding_matrix(embedding_matrix)"
      ],
      "execution_count": 11,
      "outputs": []
    },
    {
      "cell_type": "code",
      "metadata": {
        "id": "tORBC8lEzvHE"
      },
      "source": [
        "pred_x, pred_y = test_pack_processed.unpack()\n",
        "evaluate = mz.callbacks.EvaluateAllMetrics(model, x=pred_x, y=pred_y, batch_size=len(pred_x), model_save_path='./krnm_pretrained_model/')"
      ],
      "execution_count": 12,
      "outputs": []
    },
    {
      "cell_type": "code",
      "metadata": {
        "id": "AdszqRv9zyPI",
        "colab": {
          "base_uri": "https://localhost:8080/"
        },
        "outputId": "3245155c-3706-444f-d145-15e0bc11d7a3"
      },
      "source": [
        "train_generator = mz.DataGenerator(\n",
        "    train_pack_processed,\n",
        "    mode='pair',\n",
        "    num_dup=5,\n",
        "    num_neg=1,\n",
        "    batch_size=20\n",
        ")\n",
        "print('num batches:', len(train_generator))"
      ],
      "execution_count": 13,
      "outputs": [
        {
          "output_type": "stream",
          "name": "stdout",
          "text": [
            "num batches: 255\n"
          ]
        }
      ]
    },
    {
      "cell_type": "code",
      "metadata": {
        "id": "OhIEJBk3z2qm",
        "colab": {
          "base_uri": "https://localhost:8080/"
        },
        "outputId": "ffeb1f82-19bb-4436-f7b4-8cf81d7aa0ff"
      },
      "source": [
        "%%time\n",
        "history = model.fit_generator(train_generator, epochs=15, callbacks=[evaluate], workers=30, use_multiprocessing=True)"
      ],
      "execution_count": 14,
      "outputs": [
        {
          "output_type": "stream",
          "name": "stderr",
          "text": [
            "/usr/local/lib/python3.7/dist-packages/tensorflow_core/python/framework/indexed_slices.py:433: UserWarning: Converting sparse IndexedSlices to a dense Tensor of unknown shape. This may consume a large amount of memory.\n",
            "  \"Converting sparse IndexedSlices to a dense Tensor of unknown shape. \"\n"
          ]
        },
        {
          "output_type": "stream",
          "name": "stdout",
          "text": [
            "Epoch 1/15\n",
            "255/255 [==============================] - 16s 64ms/step - loss: 0.9873\n",
            "Validation: normalized_discounted_cumulative_gain@3(0.0): 0.5132428318135231 - normalized_discounted_cumulative_gain@5(0.0): 0.5804449225019014 - mean_average_precision(0.0): 0.5409701368375979 - average_precision(0.0): 0.2573661062519775 - mean_reciprocal_rank(0.0): 0.550299871800244 - precision@1(0.0): 0.3755274261603376\n",
            "Epoch 2/15\n",
            "255/255 [==============================] - 14s 55ms/step - loss: 0.4802\n",
            "Validation: normalized_discounted_cumulative_gain@3(0.0): 0.5330521466876161 - normalized_discounted_cumulative_gain@5(0.0): 0.5920466806096554 - mean_average_precision(0.0): 0.5512794298159445 - average_precision(0.0): 0.25930206621232743 - mean_reciprocal_rank(0.0): 0.564477687655275 - precision@1(0.0): 0.379746835443038\n",
            "Epoch 3/15\n",
            "255/255 [==============================] - 16s 64ms/step - loss: 0.3508\n",
            "Validation: normalized_discounted_cumulative_gain@3(0.0): 0.5306581424621547 - normalized_discounted_cumulative_gain@5(0.0): 0.603777961152708 - mean_average_precision(0.0): 0.5632146167953817 - average_precision(0.0): 0.26550953867579086 - mean_reciprocal_rank(0.0): 0.5759069789339465 - precision@1(0.0): 0.4050632911392405\n",
            "Epoch 4/15\n",
            "255/255 [==============================] - 16s 62ms/step - loss: 0.2585\n",
            "Validation: normalized_discounted_cumulative_gain@3(0.0): 0.5222648597838208 - normalized_discounted_cumulative_gain@5(0.0): 0.5939619202935161 - mean_average_precision(0.0): 0.5556219084698287 - average_precision(0.0): 0.2641275643419588 - mean_reciprocal_rank(0.0): 0.5680717234721088 - precision@1(0.0): 0.39662447257383965\n",
            "Epoch 5/15\n",
            "255/255 [==============================] - 16s 62ms/step - loss: 0.1822\n",
            "Validation: normalized_discounted_cumulative_gain@3(0.0): 0.5282495280000187 - normalized_discounted_cumulative_gain@5(0.0): 0.5885795560991954 - mean_average_precision(0.0): 0.5545976291271093 - average_precision(0.0): 0.26095885454218776 - mean_reciprocal_rank(0.0): 0.5671228267747255 - precision@1(0.0): 0.3924050632911392\n",
            "Epoch 6/15\n",
            "255/255 [==============================] - 15s 61ms/step - loss: 0.1377\n",
            "Validation: normalized_discounted_cumulative_gain@3(0.0): 0.5249611168090852 - normalized_discounted_cumulative_gain@5(0.0): 0.5878393842031969 - mean_average_precision(0.0): 0.550574995176633 - average_precision(0.0): 0.25821175442240807 - mean_reciprocal_rank(0.0): 0.5626670580598354 - precision@1(0.0): 0.38396624472573837\n",
            "Epoch 7/15\n",
            "255/255 [==============================] - 16s 61ms/step - loss: 0.1150\n",
            "Validation: normalized_discounted_cumulative_gain@3(0.0): 0.5211144314615517 - normalized_discounted_cumulative_gain@5(0.0): 0.5778123256146716 - mean_average_precision(0.0): 0.5427077844799363 - average_precision(0.0): 0.25594543242237183 - mean_reciprocal_rank(0.0): 0.5558925778862487 - precision@1(0.0): 0.379746835443038\n",
            "Epoch 8/15\n",
            "255/255 [==============================] - 15s 61ms/step - loss: 0.0792\n",
            "Validation: normalized_discounted_cumulative_gain@3(0.0): 0.5321198814236211 - normalized_discounted_cumulative_gain@5(0.0): 0.5844483634045498 - mean_average_precision(0.0): 0.5523542437495634 - average_precision(0.0): 0.25535057523692656 - mean_reciprocal_rank(0.0): 0.5675692663617381 - precision@1(0.0): 0.3924050632911392\n",
            "Epoch 9/15\n",
            "255/255 [==============================] - 16s 61ms/step - loss: 0.0643\n",
            "Validation: normalized_discounted_cumulative_gain@3(0.0): 0.5085857798575728 - normalized_discounted_cumulative_gain@5(0.0): 0.5694765477020923 - mean_average_precision(0.0): 0.5342078325138637 - average_precision(0.0): 0.24880482573986007 - mean_reciprocal_rank(0.0): 0.547410619702131 - precision@1(0.0): 0.3628691983122363\n",
            "Epoch 10/15\n",
            "255/255 [==============================] - 16s 61ms/step - loss: 0.0572\n",
            "Validation: normalized_discounted_cumulative_gain@3(0.0): 0.5185171005717358 - normalized_discounted_cumulative_gain@5(0.0): 0.5710745348536809 - mean_average_precision(0.0): 0.5345733718034535 - average_precision(0.0): 0.2520265604482474 - mean_reciprocal_rank(0.0): 0.5483742189252239 - precision@1(0.0): 0.35864978902953587\n",
            "Epoch 11/15\n",
            "255/255 [==============================] - 16s 61ms/step - loss: 0.0387\n",
            "Validation: normalized_discounted_cumulative_gain@3(0.0): 0.5182738891865426 - normalized_discounted_cumulative_gain@5(0.0): 0.5745298832975965 - mean_average_precision(0.0): 0.5411566528865779 - average_precision(0.0): 0.25358548780347206 - mean_reciprocal_rank(0.0): 0.5549498590265528 - precision@1(0.0): 0.37130801687763715\n",
            "Epoch 12/15\n",
            "255/255 [==============================] - 15s 61ms/step - loss: 0.0352\n",
            "Validation: normalized_discounted_cumulative_gain@3(0.0): 0.5178704020640797 - normalized_discounted_cumulative_gain@5(0.0): 0.5756870811988128 - mean_average_precision(0.0): 0.5369009077871061 - average_precision(0.0): 0.25155212036294194 - mean_reciprocal_rank(0.0): 0.5526746280307632 - precision@1(0.0): 0.3628691983122363\n",
            "Epoch 13/15\n",
            "255/255 [==============================] - 15s 61ms/step - loss: 0.0323\n",
            "Validation: normalized_discounted_cumulative_gain@3(0.0): 0.5045415320905351 - normalized_discounted_cumulative_gain@5(0.0): 0.5618427299097668 - mean_average_precision(0.0): 0.5245931740207614 - average_precision(0.0): 0.24574258828151635 - mean_reciprocal_rank(0.0): 0.5388327055862424 - precision@1(0.0): 0.350210970464135\n",
            "Epoch 14/15\n",
            "255/255 [==============================] - 16s 61ms/step - loss: 0.0214\n",
            "Validation: normalized_discounted_cumulative_gain@3(0.0): 0.4905466938369406 - normalized_discounted_cumulative_gain@5(0.0): 0.5553371797647795 - mean_average_precision(0.0): 0.5158479387742231 - average_precision(0.0): 0.24324100676713326 - mean_reciprocal_rank(0.0): 0.5279262187303884 - precision@1(0.0): 0.3333333333333333\n",
            "Epoch 15/15\n",
            "255/255 [==============================] - 16s 63ms/step - loss: 0.0170\n",
            "Validation: normalized_discounted_cumulative_gain@3(0.0): 0.5069399840041453 - normalized_discounted_cumulative_gain@5(0.0): 0.5628942871476252 - mean_average_precision(0.0): 0.5252666515721535 - average_precision(0.0): 0.24652615610819825 - mean_reciprocal_rank(0.0): 0.5396507576701172 - precision@1(0.0): 0.350210970464135\n",
            "CPU times: user 29min 29s, sys: 6min 47s, total: 36min 17s\n",
            "Wall time: 6min 23s\n"
          ]
        }
      ]
    },
    {
      "cell_type": "code",
      "metadata": {
        "id": "8pkC1oDbKL7G",
        "colab": {
          "base_uri": "https://localhost:8080/"
        },
        "outputId": "02cb6532-07b0-4895-a4a4-6d5c2bdcd7f4"
      },
      "source": [
        "model.evaluate(pred_x, pred_y)\n",
        "model.predict(pred_x)"
      ],
      "execution_count": 15,
      "outputs": [
        {
          "output_type": "execute_result",
          "data": {
            "text/plain": [
              "array([[ 0.48412874],\n",
              "       [-1.5032939 ],\n",
              "       [-0.19357382],\n",
              "       ...,\n",
              "       [-0.08265347],\n",
              "       [ 0.7505069 ],\n",
              "       [ 1.7492442 ]], dtype=float32)"
            ]
          },
          "metadata": {},
          "execution_count": 15
        }
      ]
    }
  ]
}