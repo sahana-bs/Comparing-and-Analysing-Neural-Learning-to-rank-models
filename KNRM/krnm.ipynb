{
  "nbformat": 4,
  "nbformat_minor": 0,
  "metadata": {
    "colab": {
      "name": "krnm-my.ipynb",
      "provenance": [],
      "collapsed_sections": [],
      "machine_shape": "hm"
    },
    "kernelspec": {
      "name": "python3",
      "display_name": "Python 3"
    },
    "language_info": {
      "name": "python"
    },
    "accelerator": "TPU"
  },
  "cells": [
    {
      "cell_type": "code",
      "metadata": {
        "id": "_muvt_bkbx7i",
        "colab": {
          "base_uri": "https://localhost:8080/"
        },
        "outputId": "598b1e27-1b2e-4746-bc39-8e57e2e65d34"
      },
      "source": [
        "!pip uninstall keras\n",
        "!pip install keras==2.3.1"
      ],
      "execution_count": 1,
      "outputs": [
        {
          "output_type": "stream",
          "name": "stdout",
          "text": [
            "Found existing installation: keras 2.7.0\n",
            "Uninstalling keras-2.7.0:\n",
            "  Would remove:\n",
            "    /usr/local/lib/python3.7/dist-packages/keras-2.7.0.dist-info/*\n",
            "    /usr/local/lib/python3.7/dist-packages/keras/*\n",
            "Proceed (y/n)? y\n",
            "  Successfully uninstalled keras-2.7.0\n",
            "Collecting keras==2.3.1\n",
            "  Downloading Keras-2.3.1-py2.py3-none-any.whl (377 kB)\n",
            "\u001b[K     |████████████████████████████████| 377 kB 5.2 MB/s \n",
            "\u001b[?25hRequirement already satisfied: scipy>=0.14 in /usr/local/lib/python3.7/dist-packages (from keras==2.3.1) (1.4.1)\n",
            "Requirement already satisfied: keras-preprocessing>=1.0.5 in /usr/local/lib/python3.7/dist-packages (from keras==2.3.1) (1.1.2)\n",
            "Requirement already satisfied: h5py in /usr/local/lib/python3.7/dist-packages (from keras==2.3.1) (3.1.0)\n",
            "Requirement already satisfied: numpy>=1.9.1 in /usr/local/lib/python3.7/dist-packages (from keras==2.3.1) (1.19.5)\n",
            "Collecting keras-applications>=1.0.6\n",
            "  Downloading Keras_Applications-1.0.8-py3-none-any.whl (50 kB)\n",
            "\u001b[K     |████████████████████████████████| 50 kB 6.7 MB/s \n",
            "\u001b[?25hRequirement already satisfied: six>=1.9.0 in /usr/local/lib/python3.7/dist-packages (from keras==2.3.1) (1.15.0)\n",
            "Requirement already satisfied: pyyaml in /usr/local/lib/python3.7/dist-packages (from keras==2.3.1) (3.13)\n",
            "Requirement already satisfied: cached-property in /usr/local/lib/python3.7/dist-packages (from h5py->keras==2.3.1) (1.5.2)\n",
            "Installing collected packages: keras-applications, keras\n",
            "\u001b[31mERROR: pip's dependency resolver does not currently take into account all the packages that are installed. This behaviour is the source of the following dependency conflicts.\n",
            "tensorflow 2.7.0 requires keras<2.8,>=2.7.0rc0, but you have keras 2.3.1 which is incompatible.\u001b[0m\n",
            "Successfully installed keras-2.3.1 keras-applications-1.0.8\n"
          ]
        }
      ]
    },
    {
      "cell_type": "code",
      "metadata": {
        "id": "AAqVFobU4ePN",
        "colab": {
          "base_uri": "https://localhost:8080/"
        },
        "outputId": "c40d231d-6113-41f3-b6d2-9ca4df91c4a0"
      },
      "source": [
        "!pip uninstall tensorflow\n",
        "!pip install tensorflow==2.1.0"
      ],
      "execution_count": 2,
      "outputs": [
        {
          "output_type": "stream",
          "name": "stdout",
          "text": [
            "Found existing installation: tensorflow 2.7.0\n",
            "Uninstalling tensorflow-2.7.0:\n",
            "  Would remove:\n",
            "    /usr/local/bin/estimator_ckpt_converter\n",
            "    /usr/local/bin/import_pb_to_tensorboard\n",
            "    /usr/local/bin/saved_model_cli\n",
            "    /usr/local/bin/tensorboard\n",
            "    /usr/local/bin/tf_upgrade_v2\n",
            "    /usr/local/bin/tflite_convert\n",
            "    /usr/local/bin/toco\n",
            "    /usr/local/bin/toco_from_protos\n",
            "    /usr/local/lib/python3.7/dist-packages/tensorflow-2.7.0.dist-info/*\n",
            "    /usr/local/lib/python3.7/dist-packages/tensorflow/*\n",
            "Proceed (y/n)? 2\n",
            "Your response ('2') was not one of the expected responses: y, n\n",
            "Proceed (y/n)? y\n",
            "  Successfully uninstalled tensorflow-2.7.0\n",
            "Collecting tensorflow==2.1.0\n",
            "  Downloading tensorflow-2.1.0-cp37-cp37m-manylinux2010_x86_64.whl (421.8 MB)\n",
            "\u001b[K     |████████████████████████████████| 421.8 MB 22 kB/s \n",
            "\u001b[?25hRequirement already satisfied: google-pasta>=0.1.6 in /usr/local/lib/python3.7/dist-packages (from tensorflow==2.1.0) (0.2.0)\n",
            "Requirement already satisfied: termcolor>=1.1.0 in /usr/local/lib/python3.7/dist-packages (from tensorflow==2.1.0) (1.1.0)\n",
            "Requirement already satisfied: six>=1.12.0 in /usr/local/lib/python3.7/dist-packages (from tensorflow==2.1.0) (1.15.0)\n",
            "Requirement already satisfied: grpcio>=1.8.6 in /usr/local/lib/python3.7/dist-packages (from tensorflow==2.1.0) (1.42.0)\n",
            "Collecting gast==0.2.2\n",
            "  Downloading gast-0.2.2.tar.gz (10 kB)\n",
            "Requirement already satisfied: wrapt>=1.11.1 in /usr/local/lib/python3.7/dist-packages (from tensorflow==2.1.0) (1.13.3)\n",
            "Requirement already satisfied: wheel>=0.26 in /usr/local/lib/python3.7/dist-packages (from tensorflow==2.1.0) (0.37.0)\n",
            "Collecting tensorflow-estimator<2.2.0,>=2.1.0rc0\n",
            "  Downloading tensorflow_estimator-2.1.0-py2.py3-none-any.whl (448 kB)\n",
            "\u001b[K     |████████████████████████████████| 448 kB 46.2 MB/s \n",
            "\u001b[?25hRequirement already satisfied: absl-py>=0.7.0 in /usr/local/lib/python3.7/dist-packages (from tensorflow==2.1.0) (0.12.0)\n",
            "Requirement already satisfied: numpy<2.0,>=1.16.0 in /usr/local/lib/python3.7/dist-packages (from tensorflow==2.1.0) (1.19.5)\n",
            "Requirement already satisfied: keras-preprocessing>=1.1.0 in /usr/local/lib/python3.7/dist-packages (from tensorflow==2.1.0) (1.1.2)\n",
            "Requirement already satisfied: scipy==1.4.1 in /usr/local/lib/python3.7/dist-packages (from tensorflow==2.1.0) (1.4.1)\n",
            "Requirement already satisfied: astor>=0.6.0 in /usr/local/lib/python3.7/dist-packages (from tensorflow==2.1.0) (0.8.1)\n",
            "Requirement already satisfied: opt-einsum>=2.3.2 in /usr/local/lib/python3.7/dist-packages (from tensorflow==2.1.0) (3.3.0)\n",
            "Requirement already satisfied: protobuf>=3.8.0 in /usr/local/lib/python3.7/dist-packages (from tensorflow==2.1.0) (3.17.3)\n",
            "Collecting tensorboard<2.2.0,>=2.1.0\n",
            "  Downloading tensorboard-2.1.1-py3-none-any.whl (3.8 MB)\n",
            "\u001b[K     |████████████████████████████████| 3.8 MB 45.1 MB/s \n",
            "\u001b[?25hRequirement already satisfied: keras-applications>=1.0.8 in /usr/local/lib/python3.7/dist-packages (from tensorflow==2.1.0) (1.0.8)\n",
            "Requirement already satisfied: h5py in /usr/local/lib/python3.7/dist-packages (from keras-applications>=1.0.8->tensorflow==2.1.0) (3.1.0)\n",
            "Requirement already satisfied: werkzeug>=0.11.15 in /usr/local/lib/python3.7/dist-packages (from tensorboard<2.2.0,>=2.1.0->tensorflow==2.1.0) (1.0.1)\n",
            "Requirement already satisfied: requests<3,>=2.21.0 in /usr/local/lib/python3.7/dist-packages (from tensorboard<2.2.0,>=2.1.0->tensorflow==2.1.0) (2.23.0)\n",
            "Requirement already satisfied: google-auth<2,>=1.6.3 in /usr/local/lib/python3.7/dist-packages (from tensorboard<2.2.0,>=2.1.0->tensorflow==2.1.0) (1.35.0)\n",
            "Requirement already satisfied: markdown>=2.6.8 in /usr/local/lib/python3.7/dist-packages (from tensorboard<2.2.0,>=2.1.0->tensorflow==2.1.0) (3.3.6)\n",
            "Requirement already satisfied: setuptools>=41.0.0 in /usr/local/lib/python3.7/dist-packages (from tensorboard<2.2.0,>=2.1.0->tensorflow==2.1.0) (57.4.0)\n",
            "Requirement already satisfied: google-auth-oauthlib<0.5,>=0.4.1 in /usr/local/lib/python3.7/dist-packages (from tensorboard<2.2.0,>=2.1.0->tensorflow==2.1.0) (0.4.6)\n",
            "Requirement already satisfied: pyasn1-modules>=0.2.1 in /usr/local/lib/python3.7/dist-packages (from google-auth<2,>=1.6.3->tensorboard<2.2.0,>=2.1.0->tensorflow==2.1.0) (0.2.8)\n",
            "Requirement already satisfied: cachetools<5.0,>=2.0.0 in /usr/local/lib/python3.7/dist-packages (from google-auth<2,>=1.6.3->tensorboard<2.2.0,>=2.1.0->tensorflow==2.1.0) (4.2.4)\n",
            "Requirement already satisfied: rsa<5,>=3.1.4 in /usr/local/lib/python3.7/dist-packages (from google-auth<2,>=1.6.3->tensorboard<2.2.0,>=2.1.0->tensorflow==2.1.0) (4.8)\n",
            "Requirement already satisfied: requests-oauthlib>=0.7.0 in /usr/local/lib/python3.7/dist-packages (from google-auth-oauthlib<0.5,>=0.4.1->tensorboard<2.2.0,>=2.1.0->tensorflow==2.1.0) (1.3.0)\n",
            "Requirement already satisfied: importlib-metadata>=4.4 in /usr/local/lib/python3.7/dist-packages (from markdown>=2.6.8->tensorboard<2.2.0,>=2.1.0->tensorflow==2.1.0) (4.8.2)\n",
            "Requirement already satisfied: zipp>=0.5 in /usr/local/lib/python3.7/dist-packages (from importlib-metadata>=4.4->markdown>=2.6.8->tensorboard<2.2.0,>=2.1.0->tensorflow==2.1.0) (3.6.0)\n",
            "Requirement already satisfied: typing-extensions>=3.6.4 in /usr/local/lib/python3.7/dist-packages (from importlib-metadata>=4.4->markdown>=2.6.8->tensorboard<2.2.0,>=2.1.0->tensorflow==2.1.0) (3.10.0.2)\n",
            "Requirement already satisfied: pyasn1<0.5.0,>=0.4.6 in /usr/local/lib/python3.7/dist-packages (from pyasn1-modules>=0.2.1->google-auth<2,>=1.6.3->tensorboard<2.2.0,>=2.1.0->tensorflow==2.1.0) (0.4.8)\n",
            "Requirement already satisfied: chardet<4,>=3.0.2 in /usr/local/lib/python3.7/dist-packages (from requests<3,>=2.21.0->tensorboard<2.2.0,>=2.1.0->tensorflow==2.1.0) (3.0.4)\n",
            "Requirement already satisfied: idna<3,>=2.5 in /usr/local/lib/python3.7/dist-packages (from requests<3,>=2.21.0->tensorboard<2.2.0,>=2.1.0->tensorflow==2.1.0) (2.10)\n",
            "Requirement already satisfied: certifi>=2017.4.17 in /usr/local/lib/python3.7/dist-packages (from requests<3,>=2.21.0->tensorboard<2.2.0,>=2.1.0->tensorflow==2.1.0) (2021.10.8)\n",
            "Requirement already satisfied: urllib3!=1.25.0,!=1.25.1,<1.26,>=1.21.1 in /usr/local/lib/python3.7/dist-packages (from requests<3,>=2.21.0->tensorboard<2.2.0,>=2.1.0->tensorflow==2.1.0) (1.24.3)\n",
            "Requirement already satisfied: oauthlib>=3.0.0 in /usr/local/lib/python3.7/dist-packages (from requests-oauthlib>=0.7.0->google-auth-oauthlib<0.5,>=0.4.1->tensorboard<2.2.0,>=2.1.0->tensorflow==2.1.0) (3.1.1)\n",
            "Requirement already satisfied: cached-property in /usr/local/lib/python3.7/dist-packages (from h5py->keras-applications>=1.0.8->tensorflow==2.1.0) (1.5.2)\n",
            "Building wheels for collected packages: gast\n",
            "  Building wheel for gast (setup.py) ... \u001b[?25l\u001b[?25hdone\n",
            "  Created wheel for gast: filename=gast-0.2.2-py3-none-any.whl size=7554 sha256=8f5f7fb420758915c4d8add196b40b15ce6a31cf756d3bb1e732e9c8a880bd58\n",
            "  Stored in directory: /root/.cache/pip/wheels/21/7f/02/420f32a803f7d0967b48dd823da3f558c5166991bfd204eef3\n",
            "Successfully built gast\n",
            "Installing collected packages: tensorflow-estimator, tensorboard, gast, tensorflow\n",
            "  Attempting uninstall: tensorflow-estimator\n",
            "    Found existing installation: tensorflow-estimator 2.7.0\n",
            "    Uninstalling tensorflow-estimator-2.7.0:\n",
            "      Successfully uninstalled tensorflow-estimator-2.7.0\n",
            "  Attempting uninstall: tensorboard\n",
            "    Found existing installation: tensorboard 2.7.0\n",
            "    Uninstalling tensorboard-2.7.0:\n",
            "      Successfully uninstalled tensorboard-2.7.0\n",
            "  Attempting uninstall: gast\n",
            "    Found existing installation: gast 0.4.0\n",
            "    Uninstalling gast-0.4.0:\n",
            "      Successfully uninstalled gast-0.4.0\n",
            "\u001b[31mERROR: pip's dependency resolver does not currently take into account all the packages that are installed. This behaviour is the source of the following dependency conflicts.\n",
            "tensorflow-probability 0.15.0 requires gast>=0.3.2, but you have gast 0.2.2 which is incompatible.\u001b[0m\n",
            "Successfully installed gast-0.2.2 tensorboard-2.1.1 tensorflow-2.1.0 tensorflow-estimator-2.1.0\n"
          ]
        }
      ]
    },
    {
      "cell_type": "code",
      "metadata": {
        "id": "o98desw24gBT",
        "colab": {
          "base_uri": "https://localhost:8080/",
          "height": 609
        },
        "outputId": "278ac723-cd70-484e-ab18-e6b2d73f5cd1"
      },
      "source": [
        "!pip install 'h5py==2.10.0' --force-reinstall"
      ],
      "execution_count": 3,
      "outputs": [
        {
          "output_type": "stream",
          "name": "stdout",
          "text": [
            "Collecting h5py==2.10.0\n",
            "  Downloading h5py-2.10.0-cp37-cp37m-manylinux1_x86_64.whl (2.9 MB)\n",
            "\u001b[K     |████████████████████████████████| 2.9 MB 5.1 MB/s \n",
            "\u001b[?25hCollecting six\n",
            "  Downloading six-1.16.0-py2.py3-none-any.whl (11 kB)\n",
            "Collecting numpy>=1.7\n",
            "  Downloading numpy-1.21.4-cp37-cp37m-manylinux_2_12_x86_64.manylinux2010_x86_64.whl (15.7 MB)\n",
            "\u001b[K     |████████████████████████████████| 15.7 MB 70.8 MB/s \n",
            "\u001b[?25hInstalling collected packages: six, numpy, h5py\n",
            "  Attempting uninstall: six\n",
            "    Found existing installation: six 1.15.0\n",
            "    Uninstalling six-1.15.0:\n",
            "      Successfully uninstalled six-1.15.0\n",
            "  Attempting uninstall: numpy\n",
            "    Found existing installation: numpy 1.19.5\n",
            "    Uninstalling numpy-1.19.5:\n",
            "      Successfully uninstalled numpy-1.19.5\n",
            "  Attempting uninstall: h5py\n",
            "    Found existing installation: h5py 3.1.0\n",
            "    Uninstalling h5py-3.1.0:\n",
            "      Successfully uninstalled h5py-3.1.0\n",
            "\u001b[31mERROR: pip's dependency resolver does not currently take into account all the packages that are installed. This behaviour is the source of the following dependency conflicts.\n",
            "yellowbrick 1.3.post1 requires numpy<1.20,>=1.16.0, but you have numpy 1.21.4 which is incompatible.\n",
            "tensorflow-probability 0.15.0 requires gast>=0.3.2, but you have gast 0.2.2 which is incompatible.\n",
            "google-colab 1.0.0 requires six~=1.15.0, but you have six 1.16.0 which is incompatible.\n",
            "datascience 0.10.6 requires folium==0.2.1, but you have folium 0.8.3 which is incompatible.\n",
            "albumentations 0.1.12 requires imgaug<0.2.7,>=0.2.5, but you have imgaug 0.2.9 which is incompatible.\u001b[0m\n",
            "Successfully installed h5py-2.10.0 numpy-1.21.4 six-1.16.0\n"
          ]
        },
        {
          "output_type": "display_data",
          "data": {
            "application/vnd.colab-display-data+json": {
              "pip_warning": {
                "packages": [
                  "numpy",
                  "six"
                ]
              }
            }
          },
          "metadata": {}
        }
      ]
    },
    {
      "cell_type": "code",
      "metadata": {
        "id": "_2_k1iko4iWW",
        "colab": {
          "base_uri": "https://localhost:8080/"
        },
        "outputId": "2e38b150-125a-4383-fb5e-fc28bc678565"
      },
      "source": [
        "!pip install matchzoo"
      ],
      "execution_count": 4,
      "outputs": [
        {
          "output_type": "stream",
          "name": "stdout",
          "text": [
            "Collecting matchzoo\n",
            "  Downloading MatchZoo-2.2.0.tar.gz (91 kB)\n",
            "\u001b[?25l\r\u001b[K     |███▋                            | 10 kB 33.7 MB/s eta 0:00:01\r\u001b[K     |███████▏                        | 20 kB 24.9 MB/s eta 0:00:01\r\u001b[K     |██████████▊                     | 30 kB 11.8 MB/s eta 0:00:01\r\u001b[K     |██████████████▎                 | 40 kB 9.4 MB/s eta 0:00:01\r\u001b[K     |██████████████████              | 51 kB 5.3 MB/s eta 0:00:01\r\u001b[K     |█████████████████████▌          | 61 kB 5.9 MB/s eta 0:00:01\r\u001b[K     |█████████████████████████       | 71 kB 5.6 MB/s eta 0:00:01\r\u001b[K     |████████████████████████████▋   | 81 kB 6.3 MB/s eta 0:00:01\r\u001b[K     |████████████████████████████████| 91 kB 4.2 MB/s \n",
            "\u001b[?25hRequirement already satisfied: keras>=2.3.0 in /usr/local/lib/python3.7/dist-packages (from matchzoo) (2.3.1)\n",
            "Requirement already satisfied: nltk>=3.2.3 in /usr/local/lib/python3.7/dist-packages (from matchzoo) (3.2.5)\n",
            "Requirement already satisfied: numpy>=1.14 in /usr/local/lib/python3.7/dist-packages (from matchzoo) (1.21.4)\n",
            "Requirement already satisfied: tqdm>=4.19.4 in /usr/local/lib/python3.7/dist-packages (from matchzoo) (4.62.3)\n",
            "Requirement already satisfied: dill>=0.2.7.1 in /usr/local/lib/python3.7/dist-packages (from matchzoo) (0.3.4)\n",
            "Requirement already satisfied: pandas>=0.23.1 in /usr/local/lib/python3.7/dist-packages (from matchzoo) (1.1.5)\n",
            "Requirement already satisfied: networkx>=2.1 in /usr/local/lib/python3.7/dist-packages (from matchzoo) (2.6.3)\n",
            "Requirement already satisfied: h5py>=2.8.0 in /usr/local/lib/python3.7/dist-packages (from matchzoo) (2.10.0)\n",
            "Requirement already satisfied: hyperopt>=0.1.1 in /usr/local/lib/python3.7/dist-packages (from matchzoo) (0.1.2)\n",
            "Requirement already satisfied: six in /usr/local/lib/python3.7/dist-packages (from h5py>=2.8.0->matchzoo) (1.16.0)\n",
            "Requirement already satisfied: pymongo in /usr/local/lib/python3.7/dist-packages (from hyperopt>=0.1.1->matchzoo) (3.12.1)\n",
            "Requirement already satisfied: future in /usr/local/lib/python3.7/dist-packages (from hyperopt>=0.1.1->matchzoo) (0.16.0)\n",
            "Requirement already satisfied: scipy in /usr/local/lib/python3.7/dist-packages (from hyperopt>=0.1.1->matchzoo) (1.4.1)\n",
            "Requirement already satisfied: keras-preprocessing>=1.0.5 in /usr/local/lib/python3.7/dist-packages (from keras>=2.3.0->matchzoo) (1.1.2)\n",
            "Requirement already satisfied: keras-applications>=1.0.6 in /usr/local/lib/python3.7/dist-packages (from keras>=2.3.0->matchzoo) (1.0.8)\n",
            "Requirement already satisfied: pyyaml in /usr/local/lib/python3.7/dist-packages (from keras>=2.3.0->matchzoo) (3.13)\n",
            "Requirement already satisfied: pytz>=2017.2 in /usr/local/lib/python3.7/dist-packages (from pandas>=0.23.1->matchzoo) (2018.9)\n",
            "Requirement already satisfied: python-dateutil>=2.7.3 in /usr/local/lib/python3.7/dist-packages (from pandas>=0.23.1->matchzoo) (2.8.2)\n",
            "Building wheels for collected packages: matchzoo\n",
            "  Building wheel for matchzoo (setup.py) ... \u001b[?25l\u001b[?25hdone\n",
            "  Created wheel for matchzoo: filename=MatchZoo-2.2.0-py3-none-any.whl size=151779 sha256=7a31de3e794a9c648ae9f46af2cc3e20ff499d449a8073505ef19b1a213e6154\n",
            "  Stored in directory: /root/.cache/pip/wheels/46/35/e3/70d4fccf0cfa8a617a50d37b3da011fe34bd977f7e126e9878\n",
            "Successfully built matchzoo\n",
            "Installing collected packages: matchzoo\n",
            "Successfully installed matchzoo-2.2.0\n"
          ]
        }
      ]
    },
    {
      "cell_type": "code",
      "metadata": {
        "id": "viJxFvRaay4n",
        "colab": {
          "base_uri": "https://localhost:8080/"
        },
        "outputId": "7579fcc4-ac97-4486-d7a0-9c2bb3264d3d"
      },
      "source": [
        "### INIT ###\n",
        "\n",
        "import keras\n",
        "import pandas as pd\n",
        "import numpy as np\n",
        "import matchzoo as mz\n",
        "import json\n",
        "\n",
        "print('data loading ...')\n",
        "train_pack_raw = mz.datasets.wiki_qa.load_data('train', task='ranking')\n",
        "dev_pack_raw = mz.datasets.wiki_qa.load_data('dev', task='ranking', filtered=True)\n",
        "test_pack_raw = mz.datasets.wiki_qa.load_data('test', task='ranking', filtered=True)\n",
        "print('data loaded as `train_pack_raw` `dev_pack_raw` `test_pack_raw`')\n",
        "\n",
        "ranking_task = mz.tasks.Ranking(loss=mz.losses.RankHingeLoss())\n",
        "ranking_task.metrics = [\n",
        "    mz.metrics.NormalizedDiscountedCumulativeGain(k=3),\n",
        "    mz.metrics.NormalizedDiscountedCumulativeGain(k=5),\n",
        "    mz.metrics.MeanAveragePrecision(),\n",
        "    mz.metrics.AveragePrecision(),\n",
        "    mz.metrics.MeanReciprocalRank(),\n",
        "    mz.metrics.Precision()\n",
        "]\n",
        "print(\"`ranking_task` initialized with metrics\", ranking_task.metrics)\n",
        "\n",
        "print(\"loading embedding ...\")\n",
        "glove_embedding = mz.datasets.embeddings.load_glove_embedding(dimension=300)\n",
        "print(\"embedding loaded as `glove_embedding`\")"
      ],
      "execution_count": 5,
      "outputs": [
        {
          "output_type": "stream",
          "name": "stderr",
          "text": [
            "Using TensorFlow backend.\n"
          ]
        },
        {
          "output_type": "stream",
          "name": "stdout",
          "text": [
            "data loading ...\n",
            "Downloading data from https://download.microsoft.com/download/E/5/F/E5FCFCEE-7005-4814-853D-DAA7C66507E0/WikiQACorpus.zip\n",
            "7094272/7094233 [==============================] - 0s 0us/step\n",
            "data loaded as `train_pack_raw` `dev_pack_raw` `test_pack_raw`\n",
            "`ranking_task` initialized with metrics [normalized_discounted_cumulative_gain@3(0.0), normalized_discounted_cumulative_gain@5(0.0), mean_average_precision(0.0), average_precision(0.0), mean_reciprocal_rank(0.0), precision@1(0.0)]\n",
            "loading embedding ...\n",
            "Downloading data from http://nlp.stanford.edu/data/glove.6B.zip\n",
            "862183424/862182613 [==============================] - 160s 0us/step\n",
            "embedding loaded as `glove_embedding`\n"
          ]
        }
      ]
    },
    {
      "cell_type": "code",
      "metadata": {
        "id": "Kve9MqJiyYBJ"
      },
      "source": [
        "def append_params_to_readme(model):\n",
        "    import tabulate\n",
        "    \n",
        "    with open('README.rst', 'a+') as f:\n",
        "        subtitle = model.params['model_class'].__name__\n",
        "        line = '#' * len(subtitle)\n",
        "        subtitle = subtitle + '\\n' + line + '\\n\\n'\n",
        "        f.write(subtitle)\n",
        "        \n",
        "        df = model.params.to_frame()[['Name', 'Value']]\n",
        "        table = tabulate.tabulate(df, tablefmt='rst', headers='keys') + '\\n\\n'\n",
        "        f.write(table)\n",
        "\n",
        "  ### END INIT ### "
      ],
      "execution_count": 6,
      "outputs": []
    },
    {
      "cell_type": "code",
      "metadata": {
        "id": "6e4OphGhy-H4",
        "colab": {
          "base_uri": "https://localhost:8080/"
        },
        "outputId": "252ee7f3-b121-4766-c84e-5f4c1f9873c2"
      },
      "source": [
        "import nltk\n",
        "nltk.download('punkt')\n",
        "nltk.download('stopwords')"
      ],
      "execution_count": 7,
      "outputs": [
        {
          "output_type": "stream",
          "name": "stdout",
          "text": [
            "[nltk_data] Downloading package punkt to /root/nltk_data...\n",
            "[nltk_data]   Unzipping tokenizers/punkt.zip.\n",
            "[nltk_data] Downloading package stopwords to /root/nltk_data...\n",
            "[nltk_data]   Unzipping corpora/stopwords.zip.\n"
          ]
        },
        {
          "output_type": "execute_result",
          "data": {
            "text/plain": [
              "True"
            ]
          },
          "metadata": {},
          "execution_count": 7
        }
      ]
    },
    {
      "cell_type": "code",
      "metadata": {
        "id": "z4l4wMuVzRGO",
        "colab": {
          "base_uri": "https://localhost:8080/"
        },
        "outputId": "0639f94f-06da-4b33-a473-f02e8cfec3cf"
      },
      "source": [
        "### KRNM ###\n",
        "\n",
        "preprocessor = mz.preprocessors.BasicPreprocessor(fixed_length_left=10, fixed_length_right=40, remove_stop_words=False)\n",
        "train_pack_processed = preprocessor.fit_transform(train_pack_raw)\n",
        "valid_pack_processed = preprocessor.transform(dev_pack_raw)\n",
        "test_pack_processed = preprocessor.transform(test_pack_raw)"
      ],
      "execution_count": 8,
      "outputs": [
        {
          "output_type": "stream",
          "name": "stderr",
          "text": [
            "Processing text_left with chain_transform of Tokenize => Lowercase => PuncRemoval: 100%|██████████| 2118/2118 [00:00<00:00, 9440.18it/s]\n",
            "Processing text_right with chain_transform of Tokenize => Lowercase => PuncRemoval: 100%|██████████| 18841/18841 [00:03<00:00, 5126.06it/s]\n",
            "Processing text_right with append: 100%|██████████| 18841/18841 [00:00<00:00, 805693.97it/s]\n",
            "Building FrequencyFilter from a datapack.: 100%|██████████| 18841/18841 [00:00<00:00, 139428.03it/s]\n",
            "Processing text_right with transform: 100%|██████████| 18841/18841 [00:00<00:00, 140165.24it/s]\n",
            "Processing text_left with extend: 100%|██████████| 2118/2118 [00:00<00:00, 638276.75it/s]\n",
            "Processing text_right with extend: 100%|██████████| 18841/18841 [00:00<00:00, 566901.12it/s]\n",
            "Building Vocabulary from a datapack.: 100%|██████████| 473697/473697 [00:00<00:00, 3112396.17it/s]\n",
            "Processing text_left with chain_transform of Tokenize => Lowercase => PuncRemoval: 100%|██████████| 2118/2118 [00:00<00:00, 9497.44it/s]\n",
            "Processing text_right with chain_transform of Tokenize => Lowercase => PuncRemoval: 100%|██████████| 18841/18841 [00:03<00:00, 5279.89it/s]\n",
            "Processing text_right with transform: 100%|██████████| 18841/18841 [00:00<00:00, 122596.37it/s]\n",
            "Processing text_left with transform: 100%|██████████| 2118/2118 [00:00<00:00, 175387.18it/s]\n",
            "Processing text_right with transform: 100%|██████████| 18841/18841 [00:00<00:00, 108106.65it/s]\n",
            "Processing length_left with len: 100%|██████████| 2118/2118 [00:00<00:00, 690627.06it/s]\n",
            "Processing length_right with len: 100%|██████████| 18841/18841 [00:00<00:00, 759146.58it/s]\n",
            "Processing text_left with transform: 100%|██████████| 2118/2118 [00:00<00:00, 111275.09it/s]\n",
            "Processing text_right with transform: 100%|██████████| 18841/18841 [00:00<00:00, 53076.94it/s]\n",
            "Processing text_left with chain_transform of Tokenize => Lowercase => PuncRemoval: 100%|██████████| 122/122 [00:00<00:00, 9782.17it/s]\n",
            "Processing text_right with chain_transform of Tokenize => Lowercase => PuncRemoval: 100%|██████████| 1115/1115 [00:00<00:00, 5251.27it/s]\n",
            "Processing text_right with transform: 100%|██████████| 1115/1115 [00:00<00:00, 136476.75it/s]\n",
            "Processing text_left with transform: 100%|██████████| 122/122 [00:00<00:00, 119921.51it/s]\n",
            "Processing text_right with transform: 100%|██████████| 1115/1115 [00:00<00:00, 111364.69it/s]\n",
            "Processing length_left with len: 100%|██████████| 122/122 [00:00<00:00, 254706.37it/s]\n",
            "Processing length_right with len: 100%|██████████| 1115/1115 [00:00<00:00, 623885.93it/s]\n",
            "Processing text_left with transform: 100%|██████████| 122/122 [00:00<00:00, 83353.17it/s]\n",
            "Processing text_right with transform: 100%|██████████| 1115/1115 [00:00<00:00, 81708.17it/s]\n",
            "Processing text_left with chain_transform of Tokenize => Lowercase => PuncRemoval: 100%|██████████| 237/237 [00:00<00:00, 9349.61it/s]\n",
            "Processing text_right with chain_transform of Tokenize => Lowercase => PuncRemoval: 100%|██████████| 2300/2300 [00:00<00:00, 5285.20it/s]\n",
            "Processing text_right with transform: 100%|██████████| 2300/2300 [00:00<00:00, 127819.21it/s]\n",
            "Processing text_left with transform: 100%|██████████| 237/237 [00:00<00:00, 150933.81it/s]\n",
            "Processing text_right with transform: 100%|██████████| 2300/2300 [00:00<00:00, 88645.98it/s]\n",
            "Processing length_left with len: 100%|██████████| 237/237 [00:00<00:00, 202330.56it/s]\n",
            "Processing length_right with len: 100%|██████████| 2300/2300 [00:00<00:00, 693672.19it/s]\n",
            "Processing text_left with transform: 100%|██████████| 237/237 [00:00<00:00, 87021.80it/s]\n",
            "Processing text_right with transform: 100%|██████████| 2300/2300 [00:00<00:00, 90169.73it/s]\n"
          ]
        }
      ]
    },
    {
      "cell_type": "code",
      "metadata": {
        "id": "EmilkManzlt_",
        "colab": {
          "base_uri": "https://localhost:8080/"
        },
        "outputId": "c731a32c-bea8-4f33-d1e6-478920ec89d9"
      },
      "source": [
        "preprocessor.context"
      ],
      "execution_count": 9,
      "outputs": [
        {
          "output_type": "execute_result",
          "data": {
            "text/plain": [
              "{'embedding_input_dim': 17483,\n",
              " 'filter_unit': <matchzoo.preprocessors.units.frequency_filter.FrequencyFilter at 0x7fd3ee9f8350>,\n",
              " 'input_shapes': [(10,), (40,)],\n",
              " 'vocab_size': 17483,\n",
              " 'vocab_unit': <matchzoo.preprocessors.units.vocabulary.Vocabulary at 0x7fd3efbcf390>}"
            ]
          },
          "metadata": {},
          "execution_count": 9
        }
      ]
    },
    {
      "cell_type": "code",
      "metadata": {
        "id": "BMleV0cWzm0U"
      },
      "source": [
        "model = mz.models.KNRM()\n",
        "model.params.update(preprocessor.context)\n",
        "model.params['task'] = ranking_task\n",
        "model.params['embedding_output_dim'] = glove_embedding.output_dim\n",
        "model.params['embedding_trainable'] = True\n",
        "model.params['kernel_num'] = 21\n",
        "model.params['sigma'] = 0.1\n",
        "model.params['exact_sigma'] = 0.001\n",
        "model.params['optimizer'] = 'adadelta'\n",
        "model.build()\n",
        "model.compile()"
      ],
      "execution_count": 10,
      "outputs": []
    },
    {
      "cell_type": "code",
      "metadata": {
        "id": "zqwHmQHfzskh"
      },
      "source": [
        "embedding_matrix = glove_embedding.build_matrix(preprocessor.context['vocab_unit'].state['term_index'])\n",
        "model.load_embedding_matrix(embedding_matrix)"
      ],
      "execution_count": 11,
      "outputs": []
    },
    {
      "cell_type": "code",
      "metadata": {
        "id": "tORBC8lEzvHE"
      },
      "source": [
        "pred_x, pred_y = test_pack_processed.unpack()\n",
        "evaluate = mz.callbacks.EvaluateAllMetrics(model, x=pred_x, y=pred_y, batch_size=len(pred_x), model_save_path='./krnm_pretrained_model/')"
      ],
      "execution_count": 12,
      "outputs": []
    },
    {
      "cell_type": "code",
      "metadata": {
        "id": "AdszqRv9zyPI",
        "colab": {
          "base_uri": "https://localhost:8080/"
        },
        "outputId": "79a373b5-e7fc-4811-a130-6eeb80d35bd4"
      },
      "source": [
        "train_generator = mz.DataGenerator(\n",
        "    train_pack_processed,\n",
        "    mode='pair',\n",
        "    num_dup=5,\n",
        "    num_neg=1,\n",
        "    batch_size=20\n",
        ")\n",
        "print('num batches:', len(train_generator))"
      ],
      "execution_count": 13,
      "outputs": [
        {
          "output_type": "stream",
          "name": "stdout",
          "text": [
            "num batches: 255\n"
          ]
        }
      ]
    },
    {
      "cell_type": "code",
      "metadata": {
        "id": "OhIEJBk3z2qm",
        "colab": {
          "base_uri": "https://localhost:8080/"
        },
        "outputId": "414030a6-b221-4201-ee85-d1fbce7836d9"
      },
      "source": [
        "%%time\n",
        "history = model.fit_generator(train_generator, epochs=15, callbacks=[evaluate], workers=30, use_multiprocessing=True)"
      ],
      "execution_count": 14,
      "outputs": [
        {
          "output_type": "stream",
          "name": "stderr",
          "text": [
            "/usr/local/lib/python3.7/dist-packages/tensorflow_core/python/framework/indexed_slices.py:433: UserWarning: Converting sparse IndexedSlices to a dense Tensor of unknown shape. This may consume a large amount of memory.\n",
            "  \"Converting sparse IndexedSlices to a dense Tensor of unknown shape. \"\n"
          ]
        },
        {
          "output_type": "stream",
          "name": "stdout",
          "text": [
            "Epoch 1/15\n",
            "255/255 [==============================] - 12s 45ms/step - loss: 1.3485\n",
            "Validation: normalized_discounted_cumulative_gain@3(0.0): 0.5300980680404833 - normalized_discounted_cumulative_gain@5(0.0): 0.5935810749186005 - mean_average_precision(0.0): 0.5560885790472586 - average_precision(0.0): 0.2601114864694651 - mean_reciprocal_rank(0.0): 0.5644993523364463 - precision@1(0.0): 0.3881856540084388\n",
            "Epoch 2/15\n",
            "255/255 [==============================] - 10s 38ms/step - loss: 0.5718\n",
            "Validation: normalized_discounted_cumulative_gain@3(0.0): 0.5460149992168801 - normalized_discounted_cumulative_gain@5(0.0): 0.6150959436466801 - mean_average_precision(0.0): 0.5714490268287737 - average_precision(0.0): 0.26451073915979445 - mean_reciprocal_rank(0.0): 0.5806340986720733 - precision@1(0.0): 0.4008438818565401\n",
            "Epoch 3/15\n",
            "255/255 [==============================] - 11s 43ms/step - loss: 0.4000\n",
            "Validation: normalized_discounted_cumulative_gain@3(0.0): 0.566079068275542 - normalized_discounted_cumulative_gain@5(0.0): 0.6219225474436791 - mean_average_precision(0.0): 0.5707784967806064 - average_precision(0.0): 0.26546699091245696 - mean_reciprocal_rank(0.0): 0.5780425739286497 - precision@1(0.0): 0.3755274261603376\n",
            "Epoch 4/15\n",
            "255/255 [==============================] - 11s 42ms/step - loss: 0.2917\n",
            "Validation: normalized_discounted_cumulative_gain@3(0.0): 0.556091773584068 - normalized_discounted_cumulative_gain@5(0.0): 0.6197065180745857 - mean_average_precision(0.0): 0.5727504904456379 - average_precision(0.0): 0.26185961246539474 - mean_reciprocal_rank(0.0): 0.5793687793687791 - precision@1(0.0): 0.3924050632911392\n",
            "Epoch 5/15\n",
            "255/255 [==============================] - 11s 43ms/step - loss: 0.2251\n",
            "Validation: normalized_discounted_cumulative_gain@3(0.0): 0.5602247706283537 - normalized_discounted_cumulative_gain@5(0.0): 0.6368577648394711 - mean_average_precision(0.0): 0.5873357830636311 - average_precision(0.0): 0.2684933563389656 - mean_reciprocal_rank(0.0): 0.5968460981119209 - precision@1(0.0): 0.4219409282700422\n",
            "Epoch 6/15\n",
            "255/255 [==============================] - 11s 43ms/step - loss: 0.1619\n",
            "Validation: normalized_discounted_cumulative_gain@3(0.0): 0.5594052331019207 - normalized_discounted_cumulative_gain@5(0.0): 0.6232010848287761 - mean_average_precision(0.0): 0.5741566896971467 - average_precision(0.0): 0.2590480410908291 - mean_reciprocal_rank(0.0): 0.5848899769599696 - precision@1(0.0): 0.39662447257383965\n",
            "Epoch 7/15\n",
            "255/255 [==============================] - 11s 43ms/step - loss: 0.1256\n",
            "Epoch 7/15\n",
            "Validation: normalized_discounted_cumulative_gain@3(0.0): 0.5568079515965785 - normalized_discounted_cumulative_gain@5(0.0): 0.624926273739248 - mean_average_precision(0.0): 0.578504400155244 - average_precision(0.0): 0.2633015573034591 - mean_reciprocal_rank(0.0): 0.5872611916915714 - precision@1(0.0): 0.4008438818565401\n",
            "Epoch 8/15\n",
            "255/255 [==============================] - 11s 43ms/step - loss: 0.0925\n",
            "Validation: normalized_discounted_cumulative_gain@3(0.0): 0.563814527215581 - normalized_discounted_cumulative_gain@5(0.0): 0.622344339506261 - mean_average_precision(0.0): 0.5800400900084445 - average_precision(0.0): 0.2607385749091671 - mean_reciprocal_rank(0.0): 0.5927030423865867 - precision@1(0.0): 0.4050632911392405\n",
            "Epoch 9/15\n",
            "255/255 [==============================] - 11s 43ms/step - loss: 0.0746\n",
            "Validation: normalized_discounted_cumulative_gain@3(0.0): 0.5591619723322537 - normalized_discounted_cumulative_gain@5(0.0): 0.6213216309816361 - mean_average_precision(0.0): 0.5750021005372828 - average_precision(0.0): 0.25858232023825906 - mean_reciprocal_rank(0.0): 0.5874447926663116 - precision@1(0.0): 0.39662447257383965\n",
            "Epoch 10/15\n",
            "255/255 [==============================] - 11s 43ms/step - loss: 0.0544\n",
            "Validation: normalized_discounted_cumulative_gain@3(0.0): 0.5378501058394947 - normalized_discounted_cumulative_gain@5(0.0): 0.6031196851091317 - mean_average_precision(0.0): 0.5602129793794909 - average_precision(0.0): 0.2525280094210941 - mean_reciprocal_rank(0.0): 0.5698326713963349 - precision@1(0.0): 0.379746835443038\n",
            "Epoch 11/15\n",
            "255/255 [==============================] - 11s 43ms/step - loss: 0.0417\n",
            "Validation: normalized_discounted_cumulative_gain@3(0.0): 0.5542401661063042 - normalized_discounted_cumulative_gain@5(0.0): 0.6149985765699953 - mean_average_precision(0.0): 0.5675400588376497 - average_precision(0.0): 0.25384700810270483 - mean_reciprocal_rank(0.0): 0.5805919738464707 - precision@1(0.0): 0.38396624472573837\n",
            "Epoch 12/15\n",
            "255/255 [==============================] - 11s 44ms/step - loss: 0.0388\n",
            "Validation: normalized_discounted_cumulative_gain@3(0.0): 0.5320700951540278 - normalized_discounted_cumulative_gain@5(0.0): 0.6041218254920264 - mean_average_precision(0.0): 0.55571926007469 - average_precision(0.0): 0.2517769592928797 - mean_reciprocal_rank(0.0): 0.5632610942737524 - precision@1(0.0): 0.3670886075949367\n",
            "Epoch 13/15\n",
            "255/255 [==============================] - 12s 45ms/step - loss: 0.0270\n",
            "Validation: normalized_discounted_cumulative_gain@3(0.0): 0.55479821410566 - normalized_discounted_cumulative_gain@5(0.0): 0.6094626393435956 - mean_average_precision(0.0): 0.5720306592142034 - average_precision(0.0): 0.257507374317288 - mean_reciprocal_rank(0.0): 0.5817629744844933 - precision@1(0.0): 0.39662447257383965\n",
            "Epoch 14/15\n",
            "255/255 [==============================] - 11s 44ms/step - loss: 0.0225\n",
            "Validation: normalized_discounted_cumulative_gain@3(0.0): 0.5421401487206547 - normalized_discounted_cumulative_gain@5(0.0): 0.6050613924031613 - mean_average_precision(0.0): 0.560995677034984 - average_precision(0.0): 0.25291221330042185 - mean_reciprocal_rank(0.0): 0.5700595269216188 - precision@1(0.0): 0.379746835443038\n",
            "Epoch 15/15\n",
            "255/255 [==============================] - 11s 44ms/step - loss: 0.0217\n",
            "Validation: normalized_discounted_cumulative_gain@3(0.0): 0.5461548510881504 - normalized_discounted_cumulative_gain@5(0.0): 0.6165456028513706 - mean_average_precision(0.0): 0.5641790494889652 - average_precision(0.0): 0.25476205185818446 - mean_reciprocal_rank(0.0): 0.5719122532413671 - precision@1(0.0): 0.3755274261603376\n",
            "CPU times: user 28min 8s, sys: 5min 25s, total: 33min 34s\n",
            "Wall time: 5min 4s\n"
          ]
        }
      ]
    },
    {
      "cell_type": "code",
      "metadata": {
        "id": "VeBHsidIkobQ"
      },
      "source": [
        "knrm_model = mz.load_model('./krnm_pretrained_model/3')"
      ],
      "execution_count": 24,
      "outputs": []
    },
    {
      "cell_type": "code",
      "metadata": {
        "colab": {
          "base_uri": "https://localhost:8080/"
        },
        "id": "p4KfXZeWlyFF",
        "outputId": "d22d2a6b-c7a9-40a8-c7e8-0c53bc7a551b"
      },
      "source": [
        "%%time\n",
        "knrm_model.evaluate(pred_x, pred_y)"
      ],
      "execution_count": 25,
      "outputs": [
        {
          "output_type": "stream",
          "name": "stdout",
          "text": [
            "CPU times: user 1.3 s, sys: 170 ms, total: 1.47 s\n",
            "Wall time: 574 ms\n"
          ]
        },
        {
          "output_type": "execute_result",
          "data": {
            "text/plain": [
              "{average_precision(0.0): 0.26546699091245696,\n",
              " mean_average_precision(0.0): 0.5707784967806064,\n",
              " mean_reciprocal_rank(0.0): 0.5780425739286497,\n",
              " normalized_discounted_cumulative_gain@3(0.0): 0.566079068275542,\n",
              " normalized_discounted_cumulative_gain@5(0.0): 0.6219225474436791,\n",
              " precision@1(0.0): 0.3755274261603376}"
            ]
          },
          "metadata": {},
          "execution_count": 25
        }
      ]
    },
    {
      "cell_type": "code",
      "metadata": {
        "id": "uDfpboVDqpOt"
      },
      "source": [
        ""
      ],
      "execution_count": null,
      "outputs": []
    }
  ]
}